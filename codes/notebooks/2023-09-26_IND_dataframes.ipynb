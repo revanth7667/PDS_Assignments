{
 "cells": [
  {
   "cell_type": "markdown",
   "metadata": {},
   "source": [
    "# Estimating Labor Market Returns to Education\n",
    "\n",
    "In this exercise, we're going to use data from the [American Communities Survey (ACS)](https://usa.ipums.org/usa/acs.shtml) to study the relationship betwen educational attainment and wages. The ACS is a survey conducted by the United States Census Bureau (though it is not \"The Census,\" which is a counting of every person in the United States that takes place every 10 years) to measure numerous features of the US population. The data we will be working with includes about 100 variables from the 2017 ACS survey, and is a 10% sample of the ACS (which itself is a 1% sample of the US population, so we're working with about a 0.1% sample of the United States). \n",
    "\n",
    "This data comes from [IPUMS](https://usa.ipums.org/usa/), which provides a very useful tool for getting subsets of major survey datasets, not just from the US, but [from government statistical agencies the world over](https://international.ipums.org/international-action/sample_details).\n",
    "\n",
    "This is *real* data, meaning that you are being provided the data as it is provided by IPUMS. Documentation for all variables used in this data can be found [here](https://usa.ipums.org/usa-action/variables/group) (you can either search by variable name to figure out the meaning of a variable in this data, or search for something you want to see if a variable with the right name is in this data). \n",
    "\n",
    "Within this data is information on both the educational background and current earnings of a representative sample of Americans. We will now use this data to estimate the labor-market returns to graduating high school and college, and to learn something about the meaning of an educational degree. "
   ]
  },
  {
   "cell_type": "markdown",
   "metadata": {},
   "source": [
    "## Gradescope Autograding\n",
    "\n",
    "Please follow [all standard guidance](https://www.practicaldatascience.org/html/autograder_guidelines.html) for submitting this assignment to the Gradescope autograder, including storing your solutions in a dictionary called `results` and ensuring your notebook runs from the start to completion without any errors.\n",
    "\n",
    "For this assignment, please name your file `exercise_dataframes.ipynb` before uploading.\n",
    "\n",
    "You can check that you have answers for all questions in your `results` dictionary with this code:\n",
    "\n",
    "```python\n",
    "assert set(results.keys()) == {\n",
    "    \"ex2_num_obs\",\n",
    "    \"ex3_num_vars\",\n",
    "    \"ex8_updated_num_obs\",\n",
    "    \"ex9_updated_num_obs\",\n",
    "    \"ex11_grade12_income\",\n",
    "    \"ex12_college_income\",\n",
    "    \"ex12_college_income_pct\",\n",
    "    \"ex14_high_school_dropout\",\n",
    "    \"ex15_grade_9\",\n",
    "    \"ex15_grade_10\",\n",
    "    \"ex15_grade_11\",\n",
    "    \"ex15_grade_12\",\n",
    "    \"ex15_4_years_of_college\",\n",
    "    \"ex15_graduate\",\n",
    "}\n",
    "```\n",
    "\n",
    "### Submission Limits\n",
    "\n",
    "Please remember that you are **only allowed three submissions to the autograder.** Your last submission (if you submit 3 or fewer times), or your third submission (if you submit more than 3 times) will determine your grade Submissions that error out will **not** count against this total.\n"
   ]
  },
  {
   "cell_type": "markdown",
   "metadata": {},
   "source": [
    "## Exercises"
   ]
  },
  {
   "cell_type": "markdown",
   "metadata": {},
   "source": [
    "### Exercise 1\n",
    "\n",
    "Data for these [exercises can be found here](https://github.com/nickeubank/MIDS_Data/tree/master/US_AmericanCommunitySurvey). \n",
    "\n",
    "Import `US_ACS_2017_10pct_sample.dta` into a pandas DataFrame (read it directly from a URL to help the autograder, please). \n",
    "\n",
    "This can be done with the command `pd.read_stata`, which will read in files created in the program Stata (and which uses the file suffix `.dta`). This is a format commonly used by social scientists."
   ]
  },
  {
   "cell_type": "code",
   "execution_count": 1,
   "metadata": {},
   "outputs": [],
   "source": [
    "# Importing Required Packages\n",
    "import pandas as pd"
   ]
  },
  {
   "cell_type": "code",
   "execution_count": 2,
   "metadata": {},
   "outputs": [],
   "source": [
    "# Load Data into Dataframe and initialize results Dictionary\n",
    "df = pd.read_stata(\n",
    "    \"https://github.com/nickeubank/MIDS_Data/raw/master/US_AmericanCommunitySurvey/US_ACS_2017_10pct_sample.dta\"\n",
    ")\n",
    "results = {}"
   ]
  },
  {
   "cell_type": "markdown",
   "metadata": {},
   "source": [
    "## Getting to Know Your Data\n",
    "\n",
    "When you get a new dataset like this, it's good to start by trying to get a feel for its contents and organization. Toy datasets you sometimes get in classes are often very small, and easy to look at, but this is a pretty large dataset, so you can't just open it up and get a good sense of it. Here are some ways to get to know your data. "
   ]
  },
  {
   "cell_type": "markdown",
   "metadata": {},
   "source": [
    "### Exercise 2\n",
    "\n",
    "How many observations are in your data? Store the answer in your `results` dictionary with the key `\"ex2_num_obs\"`."
   ]
  },
  {
   "cell_type": "code",
   "execution_count": 3,
   "metadata": {},
   "outputs": [
    {
     "name": "stdout",
     "output_type": "stream",
     "text": [
      "The Dataset has 319004 observations\n"
     ]
    }
   ],
   "source": [
    "# Find out number of Observations\n",
    "results[\"ex2_num_obs\"] = df.shape[0]\n",
    "print(\"The Dataset has {} observations\".format(results[\"ex2_num_obs\"]))"
   ]
  },
  {
   "cell_type": "markdown",
   "metadata": {},
   "source": [
    "### Exercise 3\n",
    "\n",
    "How many variables are in your data? Store the answer in your `results` dictionary with the key `\"ex3_num_vars\"`."
   ]
  },
  {
   "cell_type": "code",
   "execution_count": 4,
   "metadata": {},
   "outputs": [
    {
     "name": "stdout",
     "output_type": "stream",
     "text": [
      "The Dataset has 104 variables\n"
     ]
    }
   ],
   "source": [
    "# Find out number of Variables\n",
    "results[\"ex3_num_vars\"] = df.shape[1]\n",
    "print(\"The Dataset has {} variables\".format(results[\"ex3_num_vars\"]))"
   ]
  },
  {
   "cell_type": "markdown",
   "metadata": {},
   "source": [
    "### Exercise 4\n",
    "\n",
    " Let's see what variables are in this dataset. First, try to see them all using the command:\n",
    "\n",
    "\n",
    "```python\n",
    "acs.columns\n",
    "```"
   ]
  },
  {
   "cell_type": "code",
   "execution_count": 5,
   "metadata": {},
   "outputs": [
    {
     "name": "stdout",
     "output_type": "stream",
     "text": [
      "The variables in the Dataset are:\n",
      " Index(['year', 'datanum', 'serial', 'cbserial', 'numprec', 'subsamp', 'hhwt',\n",
      "       'hhtype', 'cluster', 'adjust',\n",
      "       ...\n",
      "       'migcounty1', 'migmet131', 'vetdisab', 'diffrem', 'diffphys', 'diffmob',\n",
      "       'diffcare', 'diffsens', 'diffeye', 'diffhear'],\n",
      "      dtype='object', length=104)\n"
     ]
    }
   ],
   "source": [
    "print(\"The variables in the Dataset are:\\n {}\".format(df.columns))"
   ]
  },
  {
   "cell_type": "markdown",
   "metadata": {},
   "source": [
    "As you will see, `python` doesn't like to print out all the different variables when there are this many in a dataset. \n",
    "\n",
    "To get everything printed out, we can loop over all the columns and print them one at a time with the command:\n",
    "\n",
    "```\n",
    "for c in acs.columns: print(c)\n",
    "```\n",
    "\n",
    "It's definitely a bit of a hack, but honestly a pretty useful one!"
   ]
  },
  {
   "cell_type": "code",
   "execution_count": 6,
   "metadata": {},
   "outputs": [
    {
     "name": "stdout",
     "output_type": "stream",
     "text": [
      "The variables in the Dataset are:\n",
      "year\n",
      "datanum\n",
      "serial\n",
      "cbserial\n",
      "numprec\n",
      "subsamp\n",
      "hhwt\n",
      "hhtype\n",
      "cluster\n",
      "adjust\n",
      "cpi99\n",
      "region\n",
      "stateicp\n",
      "statefip\n",
      "countyicp\n",
      "countyfip\n",
      "metro\n",
      "city\n",
      "citypop\n",
      "strata\n",
      "gq\n",
      "farm\n",
      "ownershp\n",
      "ownershpd\n",
      "mortgage\n",
      "mortgag2\n",
      "mortamt1\n",
      "mortamt2\n",
      "respmode\n",
      "pernum\n",
      "cbpernum\n",
      "perwt\n",
      "slwt\n",
      "famunit\n",
      "sex\n",
      "age\n",
      "marst\n",
      "birthyr\n",
      "race\n",
      "raced\n",
      "hispan\n",
      "hispand\n",
      "bpl\n",
      "bpld\n",
      "citizen\n",
      "yrnatur\n",
      "yrimmig\n",
      "language\n",
      "languaged\n",
      "speakeng\n",
      "hcovany\n",
      "hcovpriv\n",
      "hinsemp\n",
      "hinspur\n",
      "hinstri\n",
      "hcovpub\n",
      "hinscaid\n",
      "hinscare\n",
      "hinsva\n",
      "hinsihs\n",
      "school\n",
      "educ\n",
      "educd\n",
      "gradeatt\n",
      "gradeattd\n",
      "schltype\n",
      "degfield\n",
      "degfieldd\n",
      "degfield2\n",
      "degfield2d\n",
      "empstat\n",
      "empstatd\n",
      "labforce\n",
      "occ\n",
      "ind\n",
      "classwkr\n",
      "classwkrd\n",
      "looking\n",
      "availble\n",
      "inctot\n",
      "ftotinc\n",
      "incwage\n",
      "incbus00\n",
      "incss\n",
      "incwelfr\n",
      "incinvst\n",
      "incretir\n",
      "incsupp\n",
      "incother\n",
      "incearn\n",
      "poverty\n",
      "migrate1\n",
      "migrate1d\n",
      "migplac1\n",
      "migcounty1\n",
      "migmet131\n",
      "vetdisab\n",
      "diffrem\n",
      "diffphys\n",
      "diffmob\n",
      "diffcare\n",
      "diffsens\n",
      "diffeye\n",
      "diffhear\n"
     ]
    }
   ],
   "source": [
    "# Print all the columns\n",
    "print(\"The variables in the Dataset are:\")\n",
    "for c in df.columns:\n",
    "    print(c)"
   ]
  },
  {
   "cell_type": "markdown",
   "metadata": {},
   "source": [
    "### Exercise 5\n",
    "\n",
    "That's a *lot* of variables, and definitely more than we need. In general, life is easier when working with these kinds of huge datasets if you can narrow down the number of variables a little. In this exercise, we will be looking at the relationship between education and wages, we need variables for: \n",
    "\n",
    "- Age\n",
    "- Income\n",
    "- Education\n",
    "- Employment status (is the person actually working)\n",
    "\n",
    "These quantities of interest correspond to the following variables in our data: `age`, `inctot`, `educ`, and `empstat`. \n",
    "\n",
    "Subset your data to just those variables. "
   ]
  },
  {
   "cell_type": "code",
   "execution_count": 7,
   "metadata": {},
   "outputs": [],
   "source": [
    "# Create a new subset Dataframe\n",
    "df2 = df[[\"age\", \"inctot\", \"educ\", \"empstat\"]]"
   ]
  },
  {
   "cell_type": "markdown",
   "metadata": {},
   "source": [
    "### Exercise 6 \n",
    "\n",
    "Now that we have a more manageable number of variables, it's often very useful to look at a handful of rows of your data. The easiest way to do this is probably the `.head()` method (which will show you the first five rows), or the `tail()` method, which will show you the last five rows. \n",
    "\n",
    "But to get a good sense of your data, it's often better to use the `sample()` command, which returns a random set of rows. As the first and last rows are sometimes not representative, a random set of rows can be very helpful. Try looking at a random sample of 20 rows (note: you don't have to run `.sample()` ten times to get ten rows. Look at the `.sample` help file if you're stuck. "
   ]
  },
  {
   "cell_type": "code",
   "execution_count": 8,
   "metadata": {},
   "outputs": [
    {
     "data": {
      "text/html": [
       "<div>\n",
       "<style scoped>\n",
       "    .dataframe tbody tr th:only-of-type {\n",
       "        vertical-align: middle;\n",
       "    }\n",
       "\n",
       "    .dataframe tbody tr th {\n",
       "        vertical-align: top;\n",
       "    }\n",
       "\n",
       "    .dataframe thead th {\n",
       "        text-align: right;\n",
       "    }\n",
       "</style>\n",
       "<table border=\"1\" class=\"dataframe\">\n",
       "  <thead>\n",
       "    <tr style=\"text-align: right;\">\n",
       "      <th></th>\n",
       "      <th>age</th>\n",
       "      <th>inctot</th>\n",
       "      <th>educ</th>\n",
       "      <th>empstat</th>\n",
       "    </tr>\n",
       "  </thead>\n",
       "  <tbody>\n",
       "    <tr>\n",
       "      <th>163615</th>\n",
       "      <td>29</td>\n",
       "      <td>0</td>\n",
       "      <td>grade 9</td>\n",
       "      <td>not in labor force</td>\n",
       "    </tr>\n",
       "    <tr>\n",
       "      <th>86116</th>\n",
       "      <td>15</td>\n",
       "      <td>0</td>\n",
       "      <td>grade 5, 6, 7, or 8</td>\n",
       "      <td>n/a</td>\n",
       "    </tr>\n",
       "    <tr>\n",
       "      <th>302475</th>\n",
       "      <td>55</td>\n",
       "      <td>10300</td>\n",
       "      <td>grade 12</td>\n",
       "      <td>not in labor force</td>\n",
       "    </tr>\n",
       "    <tr>\n",
       "      <th>85711</th>\n",
       "      <td>54</td>\n",
       "      <td>102000</td>\n",
       "      <td>4 years of college</td>\n",
       "      <td>employed</td>\n",
       "    </tr>\n",
       "    <tr>\n",
       "      <th>104285</th>\n",
       "      <td>4</td>\n",
       "      <td>9999999</td>\n",
       "      <td>n/a or no schooling</td>\n",
       "      <td>n/a</td>\n",
       "    </tr>\n",
       "    <tr>\n",
       "      <th>283000</th>\n",
       "      <td>28</td>\n",
       "      <td>10000</td>\n",
       "      <td>grade 9</td>\n",
       "      <td>employed</td>\n",
       "    </tr>\n",
       "    <tr>\n",
       "      <th>307849</th>\n",
       "      <td>26</td>\n",
       "      <td>45000</td>\n",
       "      <td>4 years of college</td>\n",
       "      <td>employed</td>\n",
       "    </tr>\n",
       "    <tr>\n",
       "      <th>77316</th>\n",
       "      <td>55</td>\n",
       "      <td>35000</td>\n",
       "      <td>grade 12</td>\n",
       "      <td>employed</td>\n",
       "    </tr>\n",
       "    <tr>\n",
       "      <th>194020</th>\n",
       "      <td>79</td>\n",
       "      <td>12020</td>\n",
       "      <td>grade 5, 6, 7, or 8</td>\n",
       "      <td>not in labor force</td>\n",
       "    </tr>\n",
       "    <tr>\n",
       "      <th>122522</th>\n",
       "      <td>15</td>\n",
       "      <td>9400</td>\n",
       "      <td>grade 10</td>\n",
       "      <td>n/a</td>\n",
       "    </tr>\n",
       "    <tr>\n",
       "      <th>61740</th>\n",
       "      <td>4</td>\n",
       "      <td>9999999</td>\n",
       "      <td>nursery school to grade 4</td>\n",
       "      <td>n/a</td>\n",
       "    </tr>\n",
       "    <tr>\n",
       "      <th>276828</th>\n",
       "      <td>66</td>\n",
       "      <td>24400</td>\n",
       "      <td>grade 12</td>\n",
       "      <td>not in labor force</td>\n",
       "    </tr>\n",
       "    <tr>\n",
       "      <th>136097</th>\n",
       "      <td>94</td>\n",
       "      <td>81150</td>\n",
       "      <td>1 year of college</td>\n",
       "      <td>not in labor force</td>\n",
       "    </tr>\n",
       "    <tr>\n",
       "      <th>2635</th>\n",
       "      <td>26</td>\n",
       "      <td>10000</td>\n",
       "      <td>grade 12</td>\n",
       "      <td>employed</td>\n",
       "    </tr>\n",
       "    <tr>\n",
       "      <th>288255</th>\n",
       "      <td>53</td>\n",
       "      <td>22800</td>\n",
       "      <td>4 years of college</td>\n",
       "      <td>employed</td>\n",
       "    </tr>\n",
       "    <tr>\n",
       "      <th>240791</th>\n",
       "      <td>79</td>\n",
       "      <td>13300</td>\n",
       "      <td>grade 12</td>\n",
       "      <td>not in labor force</td>\n",
       "    </tr>\n",
       "    <tr>\n",
       "      <th>316731</th>\n",
       "      <td>65</td>\n",
       "      <td>9600</td>\n",
       "      <td>5+ years of college</td>\n",
       "      <td>not in labor force</td>\n",
       "    </tr>\n",
       "    <tr>\n",
       "      <th>219195</th>\n",
       "      <td>53</td>\n",
       "      <td>0</td>\n",
       "      <td>4 years of college</td>\n",
       "      <td>not in labor force</td>\n",
       "    </tr>\n",
       "    <tr>\n",
       "      <th>291059</th>\n",
       "      <td>57</td>\n",
       "      <td>40820</td>\n",
       "      <td>grade 12</td>\n",
       "      <td>employed</td>\n",
       "    </tr>\n",
       "    <tr>\n",
       "      <th>104668</th>\n",
       "      <td>16</td>\n",
       "      <td>100</td>\n",
       "      <td>grade 10</td>\n",
       "      <td>not in labor force</td>\n",
       "    </tr>\n",
       "  </tbody>\n",
       "</table>\n",
       "</div>"
      ],
      "text/plain": [
       "       age   inctot                       educ             empstat\n",
       "163615  29        0                    grade 9  not in labor force\n",
       "86116   15        0        grade 5, 6, 7, or 8                 n/a\n",
       "302475  55    10300                   grade 12  not in labor force\n",
       "85711   54   102000         4 years of college            employed\n",
       "104285   4  9999999        n/a or no schooling                 n/a\n",
       "283000  28    10000                    grade 9            employed\n",
       "307849  26    45000         4 years of college            employed\n",
       "77316   55    35000                   grade 12            employed\n",
       "194020  79    12020        grade 5, 6, 7, or 8  not in labor force\n",
       "122522  15     9400                   grade 10                 n/a\n",
       "61740    4  9999999  nursery school to grade 4                 n/a\n",
       "276828  66    24400                   grade 12  not in labor force\n",
       "136097  94    81150          1 year of college  not in labor force\n",
       "2635    26    10000                   grade 12            employed\n",
       "288255  53    22800         4 years of college            employed\n",
       "240791  79    13300                   grade 12  not in labor force\n",
       "316731  65     9600        5+ years of college  not in labor force\n",
       "219195  53        0         4 years of college  not in labor force\n",
       "291059  57    40820                   grade 12            employed\n",
       "104668  16      100                   grade 10  not in labor force"
      ]
     },
     "execution_count": 8,
     "metadata": {},
     "output_type": "execute_result"
    }
   ],
   "source": [
    "# View a sample of the new Dataframe\n",
    "df2.sample(20)"
   ]
  },
  {
   "cell_type": "markdown",
   "metadata": {},
   "source": [
    "### Exercise 7\n",
    "\n",
    "Do you see any immediate problems? What issues do you see? (Please do answer in markdown)"
   ]
  },
  {
   "cell_type": "markdown",
   "metadata": {},
   "source": [
    "## Observations\n",
    "\n",
    "There seem to be some observations which have data for Children, and their inctot values are default and their empstat has NAs."
   ]
  },
  {
   "cell_type": "markdown",
   "metadata": {},
   "source": [
    "### Exercise 8 \n",
    "\n",
    "One problem is that many people seem to have incomes of $9,999,999. Moreover, people with those incomes seem to be very young children. \n",
    "\n",
    "What you are seeing is one method (a relatively old one) for representing missing data. In this case, the value 9999999 is being used as a **sentinel value** — a way to denote missing data that was used back in the day when there was no way to add a special data type for mossing data. In this case, it identifies observations where the person is too young to work, so their income value is missing. \n",
    "\n",
    "So let's begin by dropping anyone who has `inctot` equal to 9999999.\n",
    "\n",
    "After dropping, how many observations do you have? Save your answer in your `results` dictionary under the key `\"ex8_updated_num_obs\"`"
   ]
  },
  {
   "cell_type": "code",
   "execution_count": 9,
   "metadata": {},
   "outputs": [
    {
     "name": "stdout",
     "output_type": "stream",
     "text": [
      "After dropping the rows with inctot value as 9999999, the new DataFrame has 265103 observations\n"
     ]
    }
   ],
   "source": [
    "# Drop observations which have inctot = 9999999\n",
    "df3 = df2[df2[\"inctot\"] != 9999999]\n",
    "results[\"ex8_updated_num_obs\"] = df3.shape[0]\n",
    "print(\n",
    "    \"After dropping the rows with inctot value as 9999999, the new DataFrame has {} observations\".format(\n",
    "        results[\"ex8_updated_num_obs\"]\n",
    "    )\n",
    ")"
   ]
  },
  {
   "cell_type": "markdown",
   "metadata": {},
   "source": [
    "### Exercise 9\n",
    "\n",
    "OK, the other potential problem is that our data includes lots of people who are unemployed and people who are not in the labor force (this means they not only don't have a job, but also aren't looking for a job). For this analysis, we want to focus on the wages of people who are currently employed. So subset the dataset for the people for whom `empstat` is equal to \"employed\". \n",
    "\n",
    "Note that our decision to only look at people who are employed impacts how we should interpret the relationship we estimate between education and income. Because we are only looking at employed people, we will be estimating the relationship between education and income *for people who are employed*. That means that if education affects the *likelihood* someone is employed, we won't capture that in this analysis.\n",
    "\n",
    "(You might also want to run `.sample()` after this just to make sure you were successful in your subsetting).\n",
    "\n",
    "After this subsetting, how many observations do you have? Save your answer in your `results` dictionary under the key `\"ex9_updated_num_obs\"`"
   ]
  },
  {
   "cell_type": "code",
   "execution_count": 10,
   "metadata": {},
   "outputs": [
    {
     "data": {
      "text/html": [
       "<div>\n",
       "<style scoped>\n",
       "    .dataframe tbody tr th:only-of-type {\n",
       "        vertical-align: middle;\n",
       "    }\n",
       "\n",
       "    .dataframe tbody tr th {\n",
       "        vertical-align: top;\n",
       "    }\n",
       "\n",
       "    .dataframe thead th {\n",
       "        text-align: right;\n",
       "    }\n",
       "</style>\n",
       "<table border=\"1\" class=\"dataframe\">\n",
       "  <thead>\n",
       "    <tr style=\"text-align: right;\">\n",
       "      <th></th>\n",
       "      <th>age</th>\n",
       "      <th>inctot</th>\n",
       "      <th>educ</th>\n",
       "      <th>empstat</th>\n",
       "    </tr>\n",
       "  </thead>\n",
       "  <tbody>\n",
       "    <tr>\n",
       "      <th>264670</th>\n",
       "      <td>52</td>\n",
       "      <td>90000</td>\n",
       "      <td>4 years of college</td>\n",
       "      <td>employed</td>\n",
       "    </tr>\n",
       "    <tr>\n",
       "      <th>154749</th>\n",
       "      <td>28</td>\n",
       "      <td>24000</td>\n",
       "      <td>grade 12</td>\n",
       "      <td>employed</td>\n",
       "    </tr>\n",
       "    <tr>\n",
       "      <th>44530</th>\n",
       "      <td>31</td>\n",
       "      <td>45000</td>\n",
       "      <td>grade 12</td>\n",
       "      <td>employed</td>\n",
       "    </tr>\n",
       "    <tr>\n",
       "      <th>14292</th>\n",
       "      <td>51</td>\n",
       "      <td>12000</td>\n",
       "      <td>grade 12</td>\n",
       "      <td>employed</td>\n",
       "    </tr>\n",
       "    <tr>\n",
       "      <th>167908</th>\n",
       "      <td>17</td>\n",
       "      <td>2000</td>\n",
       "      <td>grade 11</td>\n",
       "      <td>employed</td>\n",
       "    </tr>\n",
       "    <tr>\n",
       "      <th>7146</th>\n",
       "      <td>48</td>\n",
       "      <td>43200</td>\n",
       "      <td>grade 12</td>\n",
       "      <td>employed</td>\n",
       "    </tr>\n",
       "    <tr>\n",
       "      <th>41133</th>\n",
       "      <td>38</td>\n",
       "      <td>78400</td>\n",
       "      <td>5+ years of college</td>\n",
       "      <td>employed</td>\n",
       "    </tr>\n",
       "    <tr>\n",
       "      <th>317531</th>\n",
       "      <td>36</td>\n",
       "      <td>36000</td>\n",
       "      <td>grade 12</td>\n",
       "      <td>employed</td>\n",
       "    </tr>\n",
       "    <tr>\n",
       "      <th>61606</th>\n",
       "      <td>73</td>\n",
       "      <td>56100</td>\n",
       "      <td>grade 12</td>\n",
       "      <td>employed</td>\n",
       "    </tr>\n",
       "    <tr>\n",
       "      <th>178518</th>\n",
       "      <td>50</td>\n",
       "      <td>87000</td>\n",
       "      <td>4 years of college</td>\n",
       "      <td>employed</td>\n",
       "    </tr>\n",
       "    <tr>\n",
       "      <th>243962</th>\n",
       "      <td>38</td>\n",
       "      <td>58000</td>\n",
       "      <td>grade 12</td>\n",
       "      <td>employed</td>\n",
       "    </tr>\n",
       "    <tr>\n",
       "      <th>213537</th>\n",
       "      <td>52</td>\n",
       "      <td>32000</td>\n",
       "      <td>grade 12</td>\n",
       "      <td>employed</td>\n",
       "    </tr>\n",
       "    <tr>\n",
       "      <th>161319</th>\n",
       "      <td>38</td>\n",
       "      <td>44000</td>\n",
       "      <td>1 year of college</td>\n",
       "      <td>employed</td>\n",
       "    </tr>\n",
       "    <tr>\n",
       "      <th>179507</th>\n",
       "      <td>51</td>\n",
       "      <td>21000</td>\n",
       "      <td>grade 12</td>\n",
       "      <td>employed</td>\n",
       "    </tr>\n",
       "    <tr>\n",
       "      <th>259755</th>\n",
       "      <td>22</td>\n",
       "      <td>9700</td>\n",
       "      <td>grade 12</td>\n",
       "      <td>employed</td>\n",
       "    </tr>\n",
       "    <tr>\n",
       "      <th>212712</th>\n",
       "      <td>23</td>\n",
       "      <td>19880</td>\n",
       "      <td>2 years of college</td>\n",
       "      <td>employed</td>\n",
       "    </tr>\n",
       "    <tr>\n",
       "      <th>259677</th>\n",
       "      <td>32</td>\n",
       "      <td>25000</td>\n",
       "      <td>1 year of college</td>\n",
       "      <td>employed</td>\n",
       "    </tr>\n",
       "    <tr>\n",
       "      <th>313326</th>\n",
       "      <td>41</td>\n",
       "      <td>102800</td>\n",
       "      <td>grade 12</td>\n",
       "      <td>employed</td>\n",
       "    </tr>\n",
       "    <tr>\n",
       "      <th>246273</th>\n",
       "      <td>23</td>\n",
       "      <td>35000</td>\n",
       "      <td>grade 12</td>\n",
       "      <td>employed</td>\n",
       "    </tr>\n",
       "    <tr>\n",
       "      <th>277123</th>\n",
       "      <td>63</td>\n",
       "      <td>31800</td>\n",
       "      <td>grade 12</td>\n",
       "      <td>employed</td>\n",
       "    </tr>\n",
       "  </tbody>\n",
       "</table>\n",
       "</div>"
      ],
      "text/plain": [
       "       age  inctot                 educ   empstat\n",
       "264670  52   90000   4 years of college  employed\n",
       "154749  28   24000             grade 12  employed\n",
       "44530   31   45000             grade 12  employed\n",
       "14292   51   12000             grade 12  employed\n",
       "167908  17    2000             grade 11  employed\n",
       "7146    48   43200             grade 12  employed\n",
       "41133   38   78400  5+ years of college  employed\n",
       "317531  36   36000             grade 12  employed\n",
       "61606   73   56100             grade 12  employed\n",
       "178518  50   87000   4 years of college  employed\n",
       "243962  38   58000             grade 12  employed\n",
       "213537  52   32000             grade 12  employed\n",
       "161319  38   44000    1 year of college  employed\n",
       "179507  51   21000             grade 12  employed\n",
       "259755  22    9700             grade 12  employed\n",
       "212712  23   19880   2 years of college  employed\n",
       "259677  32   25000    1 year of college  employed\n",
       "313326  41  102800             grade 12  employed\n",
       "246273  23   35000             grade 12  employed\n",
       "277123  63   31800             grade 12  employed"
      ]
     },
     "execution_count": 10,
     "metadata": {},
     "output_type": "execute_result"
    }
   ],
   "source": [
    "# Keep only observations which have empstat as \"employed\"\n",
    "df4 = df3[df3[\"empstat\"] == \"employed\"]\n",
    "results[\"ex9_updated_num_obs\"] = df4.shape[0]\n",
    "\n",
    "# verify the unrequired data is dropped\n",
    "df4.sample(20)"
   ]
  },
  {
   "cell_type": "code",
   "execution_count": 11,
   "metadata": {},
   "outputs": [
    {
     "name": "stdout",
     "output_type": "stream",
     "text": [
      "After keeping only the observations with empstat as employed, the new DataFrame has 148758 observations\n"
     ]
    }
   ],
   "source": [
    "# print result\n",
    "print(\n",
    "    \"After keeping only the observations with empstat as employed, the new DataFrame has {} observations\".format(\n",
    "        results[\"ex9_updated_num_obs\"]\n",
    "    )\n",
    ")"
   ]
  },
  {
   "cell_type": "markdown",
   "metadata": {},
   "source": [
    "### Exercise 10\n",
    "\n",
    "Now let's turn to education. The `educ` variable seems to have a lot of discrete values. Let's see what values exist, and their distribution, using the `value_counts()` method. This is an *extremely* useful tool you'll use a lot! Try the following code (modified for the name of your dataset, of course):\n",
    "\n",
    "```python\n",
    "acs[\"educ\"].value_counts()\n",
    "```"
   ]
  },
  {
   "cell_type": "code",
   "execution_count": 12,
   "metadata": {},
   "outputs": [
    {
     "data": {
      "text/plain": [
       "educ\n",
       "grade 12                     47815\n",
       "4 years of college           33174\n",
       "1 year of college            22899\n",
       "5+ years of college          20995\n",
       "2 years of college           14077\n",
       "grade 11                      2747\n",
       "grade 5, 6, 7, or 8           2092\n",
       "grade 10                      1910\n",
       "n/a or no schooling           1291\n",
       "grade 9                       1290\n",
       "nursery school to grade 4      468\n",
       "Name: count, dtype: int64"
      ]
     },
     "execution_count": 12,
     "metadata": {},
     "output_type": "execute_result"
    }
   ],
   "source": [
    "df4[\"educ\"].value_counts()"
   ]
  },
  {
   "cell_type": "markdown",
   "metadata": {},
   "source": [
    "### Exercise 11\n",
    "\n",
    "There are a lot of values in here, so let's just check a couple. What is the average value of `inctot` for people whose highest grade level is \"grade 12\" (in the US, that is someone who has graduated high school)?\n",
    "\n",
    "Save your answer in your `results` dictionary under the key `\"ex11_grade12_income\"`."
   ]
  },
  {
   "cell_type": "code",
   "execution_count": 13,
   "metadata": {},
   "outputs": [
    {
     "name": "stdout",
     "output_type": "stream",
     "text": [
      "The mean income value of people who graduated high school is: 38957.76068179442 $\n"
     ]
    }
   ],
   "source": [
    "# Mean inctot value for people with educ as \"grade 12\"\n",
    "results[\"ex11_grade12_income\"] = df4[df4[\"educ\"] == \"grade 12\"][\"inctot\"].mean()\n",
    "print(\n",
    "    \"The mean income value of people who graduated high school is: {} $\".format(\n",
    "        results[\"ex11_grade12_income\"]\n",
    "    )\n",
    ")"
   ]
  },
  {
   "cell_type": "markdown",
   "metadata": {},
   "source": [
    "### Exercise 12\n",
    "\n",
    "What is the average income of someone who has completed an undergraduate degree but not done any postgraduate education (\"4 years of college\")? \n",
    "\n",
    "Save your answer in your `results` dictionary under the key `\"ex12_college_income\"`.\n",
    "\n",
    "In percentage terms, how much does an employed college graduate earn as compared to someone who is only a high school graduate? Use the reference category that gives an answer above 100.\n",
    "\n",
    "Store your answer in `\"ex12_college_income_pct\"`. Put your answer in percentage terms (so 100 implies they earn the same amount).\n",
    "\n",
    "*Make sure to interpret your result in words when you print it out!*"
   ]
  },
  {
   "cell_type": "code",
   "execution_count": 14,
   "metadata": {},
   "outputs": [
    {
     "name": "stdout",
     "output_type": "stream",
     "text": [
      "The average income of someone who has completed undergradute degree but not done any postgraduate education is: 75485.05293301983 $\n"
     ]
    }
   ],
   "source": [
    "results[\"ex12_college_income\"] = df4[df4[\"educ\"] == \"4 years of college\"][\n",
    "    \"inctot\"\n",
    "].mean()\n",
    "print(\n",
    "    \"The average income of someone who has completed undergradute degree but not done any postgraduate education is: {} $\".format(\n",
    "        results[\"ex12_college_income\"]\n",
    "    )\n",
    ")"
   ]
  },
  {
   "cell_type": "code",
   "execution_count": 15,
   "metadata": {},
   "outputs": [
    {
     "name": "stdout",
     "output_type": "stream",
     "text": [
      "An employed college graduate earns approximately 193.7612727527617% the amount a high school gradute earns. \n",
      "This implies that on an average, college graduates earn almost double of what high school graduates earns\n"
     ]
    }
   ],
   "source": [
    "results[\"ex12_college_income_pct\"] = (\n",
    "    results[\"ex12_college_income\"] / results[\"ex11_grade12_income\"]\n",
    ") * 100\n",
    "\n",
    "print(\n",
    "    \"An employed college graduate earns approximately {}% the amount a high school gradute earns. \\nThis implies that on an average, college graduates earn almost double of what high school graduates earns\".format(\n",
    "        results[\"ex12_college_income_pct\"]\n",
    "    )\n",
    ")"
   ]
  },
  {
   "cell_type": "markdown",
   "metadata": {},
   "source": [
    "\n",
    "### Exercise 13\n",
    "What does that suggest is the value of getting a college degree after graduating high school?"
   ]
  },
  {
   "cell_type": "markdown",
   "metadata": {},
   "source": [
    "## Observations\n",
    "The data suggests that getting a college degree has a huge value as it **almost doubles** the amount a person can earn as compared to having only a high school graduation."
   ]
  },
  {
   "cell_type": "markdown",
   "metadata": {},
   "source": [
    "### Exercise 14\n",
    "\n",
    "What is the average income for someone who has not finished high school? What does that suggest is the value of a high school diploma? (Treat `n/a or no schooling` as having no formal schooling, not as missing).\n",
    "\n",
    "**Hint:** You may find the [.isin()](https://pandas.pydata.org/pandas-docs/stable/reference/api/pandas.DataFrame.isin.html) method to be really helpful here.\n",
    "\n",
    "Save your answer in your `results` dictionary under the key `\"ex14_high_school_dropout\"`."
   ]
  },
  {
   "cell_type": "code",
   "execution_count": 16,
   "metadata": {},
   "outputs": [
    {
     "name": "stdout",
     "output_type": "stream",
     "text": [
      "The average income of someone who has dropped out of high school is 26226.45692998571 $\n",
      "A high school graduate earns approximately 148.54374262522865% the amount a high school dropout earns. \n",
      "This means that while a high school degree gives more value, in terms of proportion it is not as high as the value a undergradate degree gives \n"
     ]
    }
   ],
   "source": [
    "# define a variable to store all educ levels which we should consider as \"dropouts\"\n",
    "dropout_levels = [\n",
    "    \"grade 11\",\n",
    "    \"grade 5, 6, 7, or 8\",\n",
    "    \"grade 10\",\n",
    "    \"n/a or no schooling\",\n",
    "    \"grade 9\",\n",
    "    \"nursery school to grade 4\",\n",
    "]\n",
    "\n",
    "results[\"ex14_high_school_dropout\"] = df4[df4[\"educ\"].isin(dropout_levels)][\n",
    "    \"inctot\"\n",
    "].mean()\n",
    "print(\n",
    "    \"The average income of someone who has dropped out of high school is {} $\".format(\n",
    "        results[\"ex14_high_school_dropout\"]\n",
    "    )\n",
    ")\n",
    "\n",
    "print(\n",
    "    \"A high school graduate earns approximately {}% the amount a high school dropout earns. \\nThis means that while a high school degree gives more value, in terms of proportion it is not as high as the value a undergradate degree gives \".format(\n",
    "        (results[\"ex11_grade12_income\"] / results[\"ex14_high_school_dropout\"]) * 100\n",
    "    )\n",
    ")"
   ]
  },
  {
   "cell_type": "markdown",
   "metadata": {},
   "source": [
    "## Observation\n"
   ]
  },
  {
   "cell_type": "markdown",
   "metadata": {},
   "source": [
    "### Exercise 15 \n",
    "\n",
    "Complete the following table (storing values under the provided keys where listed):\n",
    "\n",
    "- Average income for someone who only completed 9th grade (`ex15_grade_9`): _________\n",
    "- Average income for someone who only completed 10th grade (`ex15_grade_10`): _________\n",
    "- Average income for someone who only completed 11th grade (`ex15_grade_11`): _________\n",
    "- Average income for someone who finished high school (12th grade) but never started college (`ex15_grade_12`): _________\n",
    "- Average income for someone who completed 4 year of college (in the US, this corresponds to getting an undergraduate degree), but has no post-graduate education (no more than 4 years, `ex15_4_years_of_college`): _________\n",
    "- Average income for someone who has some graduate education (more than 4 years, `ex15_graduate`): _________"
   ]
  },
  {
   "cell_type": "code",
   "execution_count": 17,
   "metadata": {},
   "outputs": [
    {
     "name": "stdout",
     "output_type": "stream",
     "text": [
      "Average income for someone who only completed 9th grade: 27171.907751937986 $\n",
      "Average income for someone who only completed 10th grade: 23018.795811518325 $\n",
      "Average income for someone who only completed 11th grade: 21541.68693119767 $\n",
      "Average income for someone who only completed 12th grade: 38957.76068179442 $\n",
      "Average income for someone who completed 4 years of college: 75485.05293301983 $\n",
      "Average income for someone who has some graduate education: 110013.2213384139 $\n"
     ]
    }
   ],
   "source": [
    "# calculate avg incomes of different groups\n",
    "\n",
    "# class 9\n",
    "results[\"ex15_grade_9\"] = df4[df4[\"educ\"] == \"grade 9\"][\"inctot\"].mean()\n",
    "\n",
    "# class 10\n",
    "results[\"ex15_grade_10\"] = df4[df4[\"educ\"] == \"grade 10\"][\"inctot\"].mean()\n",
    "\n",
    "# class 11\n",
    "results[\"ex15_grade_11\"] = df4[df4[\"educ\"] == \"grade 11\"][\"inctot\"].mean()\n",
    "\n",
    "# class 12, already calculated before, so directly assign\n",
    "results[\"ex15_grade_12\"] = results[\"ex11_grade12_income\"]\n",
    "\n",
    "# undergraduate, already calculated before, so directly assign\n",
    "results[\"ex15_4_years_of_college\"] = results[\"ex12_college_income\"]\n",
    "\n",
    "# graduate\n",
    "results[\"ex15_graduate\"] = df4[df4[\"educ\"] == \"5+ years of college\"][\"inctot\"].mean()\n",
    "\n",
    "print(\n",
    "    \"Average income for someone who only completed 9th grade: {} $\".format(\n",
    "        results[\"ex15_grade_9\"]\n",
    "    )\n",
    ")\n",
    "print(\n",
    "    \"Average income for someone who only completed 10th grade: {} $\".format(\n",
    "        results[\"ex15_grade_10\"]\n",
    "    )\n",
    ")\n",
    "print(\n",
    "    \"Average income for someone who only completed 11th grade: {} $\".format(\n",
    "        results[\"ex15_grade_11\"]\n",
    "    )\n",
    ")\n",
    "print(\n",
    "    \"Average income for someone who only completed 12th grade: {} $\".format(\n",
    "        results[\"ex15_grade_12\"]\n",
    "    )\n",
    ")\n",
    "print(\n",
    "    \"Average income for someone who completed 4 years of college: {} $\".format(\n",
    "        results[\"ex15_4_years_of_college\"]\n",
    "    )\n",
    ")\n",
    "print(\n",
    "    \"Average income for someone who has some graduate education: {} $\".format(\n",
    "        results[\"ex15_graduate\"]\n",
    "    )\n",
    ")"
   ]
  },
  {
   "cell_type": "markdown",
   "metadata": {},
   "source": [
    "### Exercise 16 \n",
    "\n",
    "Why do you think there is no benefit from moving from grade 9 to grade 10, or grade 10 to grade 11, but there is a huge benefit to moving from grade 11 to graduating high school (grade 12)?\n",
    "\n",
    "(Think carefully before reading ahead!)"
   ]
  },
  {
   "cell_type": "markdown",
   "metadata": {},
   "source": [
    "## Observations\n",
    "The income looks to decrease from grade 9 to 11 for each year but has a drasctic increase post grade 12. I think this might be happening cause post grade-12 we complete a \"milestone\" in education and have a formal degree to show for it which is not the case for the other grades."
   ]
  },
  {
   "cell_type": "markdown",
   "metadata": {},
   "source": [
    "## Take-aways\n",
    "\n",
    "Congratulations! You just discovered \"the sheepskin effect!\": people with degrees tend to earn substantially more than people who have *almost* as much education, but don't have an actual degree. \n",
    "\n",
    "In economics, this is viewed as evidence that the reason employers pay people with high school degrees more than those without degree is *not* that they think those who graduated high school have learned specific, useful skills. If that were the case, we would expect employee earnings to rise with every year of high school, since in each year of high school we learn more. \n",
    "\n",
    "Instead, this suggests employees pay high school graduates more because they think *the kind of people* who can finish high school are the *kind of people* who are likely to succeed at their jobs. Finishing high school, in other words, isn't about accumulating specific knowledge; it's about showing that you *are the kind of person* who can rise to the challenge of finishing high school, also suggesting you are also the kind of person who can succeed as an employee. \n",
    "\n",
    "(Obviously, this does not tell us whether that is an *accurate* inference, just that that seems to be how employeers think.) \n",
    "\n",
    "In other words, in the eyes of employers, a high school degree is a *signal* about the kind of person you are, not certification that you've learned a specific set of skills (an idea that earned [Michael Spence](https://en.wikipedia.org/wiki/Michael_Spence) a Nobel Prize in Economics). "
   ]
  },
  {
   "cell_type": "code",
   "execution_count": 18,
   "metadata": {},
   "outputs": [],
   "source": [
    "# Verification of result keys\n",
    "assert set(results.keys()) == {\n",
    "    \"ex2_num_obs\",\n",
    "    \"ex3_num_vars\",\n",
    "    \"ex8_updated_num_obs\",\n",
    "    \"ex9_updated_num_obs\",\n",
    "    \"ex11_grade12_income\",\n",
    "    \"ex12_college_income\",\n",
    "    \"ex12_college_income_pct\",\n",
    "    \"ex14_high_school_dropout\",\n",
    "    \"ex15_grade_9\",\n",
    "    \"ex15_grade_10\",\n",
    "    \"ex15_grade_11\",\n",
    "    \"ex15_grade_12\",\n",
    "    \"ex15_4_years_of_college\",\n",
    "    \"ex15_graduate\",\n",
    "}"
   ]
  },
  {
   "cell_type": "code",
   "execution_count": 20,
   "metadata": {},
   "outputs": [
    {
     "name": "stdout",
     "output_type": "stream",
     "text": [
      "ex2_num_obs:319004\n",
      "ex3_num_vars:104\n",
      "ex8_updated_num_obs:265103\n",
      "ex9_updated_num_obs:148758\n",
      "ex11_grade12_income:38957.76068179442\n",
      "ex12_college_income:75485.05293301983\n",
      "ex12_college_income_pct:193.7612727527617\n",
      "ex14_high_school_dropout:26226.45692998571\n",
      "ex15_grade_9:27171.907751937986\n",
      "ex15_grade_10:23018.795811518325\n",
      "ex15_grade_11:21541.68693119767\n",
      "ex15_grade_12:38957.76068179442\n",
      "ex15_4_years_of_college:75485.05293301983\n",
      "ex15_graduate:110013.2213384139\n"
     ]
    }
   ],
   "source": [
    "for i in results.keys():\n",
    "    print(\"{}:{}\".format(i, results[i]))"
   ]
  },
  {
   "cell_type": "code",
   "execution_count": null,
   "metadata": {},
   "outputs": [],
   "source": []
  }
 ],
 "metadata": {
  "kernelspec": {
   "display_name": "Python 3.10.2 ('ds')",
   "language": "python",
   "name": "python3"
  },
  "language_info": {
   "codemirror_mode": {
    "name": "ipython",
    "version": 3
   },
   "file_extension": ".py",
   "mimetype": "text/x-python",
   "name": "python",
   "nbconvert_exporter": "python",
   "pygments_lexer": "ipython3",
   "version": "3.11.5"
  },
  "vscode": {
   "interpreter": {
    "hash": "b9e56a7b23b1fac2eea1a993b805ed5c611aea1439c1f46315b23590ab6d3ba0"
   }
  }
 },
 "nbformat": 4,
 "nbformat_minor": 4
}
