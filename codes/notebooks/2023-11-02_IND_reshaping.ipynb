{
 "cells": [
  {
   "cell_type": "markdown",
   "metadata": {},
   "source": [
    "# Reshaping Exercises\n",
    "\n",
    "Before diving into actually doing some exercises, a few notes about reshaping in `pandas`. \n",
    "\n",
    "**So many tools:** As is so often the case with `pandas`, when there are multiple ways that something can be done, `pandas` implements all of them, even it if results in a lot of duplication of funcationality. As a result, there are several sets of methods that do very similar things, and which can be hard to keep straights: \n",
    "\n",
    "- `melt` and `pivot`: Tools for moving a dataset from long-to-wide (`pivot`) or wide-to-long (`melt`).\n",
    "- `pivot_table`: Like `pivot`, but allows you to do aggregations during the reshape if you want.\n",
    "- `stack` and `unstack`: Like `melt` and `pivot`, but only for use when your variables are stored in indices. I don't use these much. \n",
    "\n",
    "Personally, **I find melt and pivot most useful.** `pivot_table` *can* do aggregations during the reshape, but you can always do aggregations yourself using `groupby`. :) \n",
    "\n",
    "Also, I have to go look at [these pictures](https://pandas.pydata.org/pandas-docs/stable/user_guide/reshaping.html)... every time I reshape. Don't hesistate to look them up for help!\n",
    "\n",
    "**What SHOULD I want my data to look like?** Just a reminder that a natural question to ask is \"in what format should I want my data?\" Obviously this question is subjective, but as you read in the Hadley Wickham [piece I assigned](http://vita.had.co.nz/papers/tidy-data.html), this is a good standard definition for a \"tidy\" dataset to which we might aspire: \n",
    "\n",
    "1. Each variable forms a column.\n",
    "2. Each observation forms a row.\n",
    "3. Each type of observational unit forms a table.\n",
    "\n",
    "In general, I'm a big fan of this approach, and I think it's a good one to use (especially numbers 1 and 2).\n",
    "\n",
    "Note that the question of what forms an \"observation\" depends on the analysis you plan to run (which depends on the answer you seek to ask! See! EVERYTHING ALWAYS COMES BACK TO THE QUESTION YOU ARE SEEKING TO ANSWER!). Suppose you have data on GDP from different countries for many years. If you plan to run a panel analysis where each observation is a country-year, then each row should be a country-year. But if you plan to do a country-level analysis using measures of, say, GDP variation over time, then each row should be a country!\n"
   ]
  },
  {
   "cell_type": "markdown",
   "metadata": {},
   "source": [
    "\n",
    "## Exercises!\n",
    "\n",
    "So in this exercise, we're going to work with data from the World Development Indicators. Unlike in previous exercises, however, where I cleaned up the data before giving it to you, we'll be working with the raw data just as you would get it from the World Bank download site. "
   ]
  },
  {
   "cell_type": "markdown",
   "metadata": {},
   "source": [
    "\n",
    "## Gradescope Autograding\n",
    "\n",
    "Please follow [all standard guidance](https://www.practicaldatascience.org/html/autograder_guidelines.html) for submitting this assignment to the Gradescope autograder, including storing your solutions in a dictionary called `results` and ensuring your notebook runs from the start to completion without any errors.\n",
    "\n",
    "For this assignment, please name your file `exercise_reshaping.ipynb` before uploading.\n",
    "\n",
    "You can check that you have answers for all questions in your `results` dictionary with this code:\n",
    "\n",
    "```python\n",
    "assert set(results.keys()) == {\n",
    "    \"ex2_num_rows\",\n",
    "    \"ex4_num_rows\",\n",
    "    \"ex5_num_countries\",\n",
    "    \"ex6_relationship\",\n",
    "    \"ex7_relationship\",\n",
    "    \"ex8_countries_in_panel\",\n",
    "    \"ex10_demeaned_corr\",\n",
    "}\n",
    "```\n",
    "\n",
    "\n",
    "### Submission Limits\n",
    "\n",
    "Please remember that you are **only allowed three submissions to the autograder.** Your last submission (if you submit 3 or fewer times), or your third submission (if you submit more than 3 times) will determine your grade Submissions that error out will **not** count against this total."
   ]
  },
  {
   "cell_type": "markdown",
   "metadata": {},
   "source": [
    "### Exercise 1\n",
    "\n",
    "Import the data using a link from [here](https://github.com/nickeubank/MIDS_Data/blob/master/World_Development_Indicators/raw_WDI_Data_csv.zip) and load it into pandas without unzipping it (did you know pandas will read zip files directly?!)."
   ]
  },
  {
   "cell_type": "code",
   "execution_count": 1,
   "metadata": {},
   "outputs": [],
   "source": [
    "# importing required packages and libraries\n",
    "import numpy as np\n",
    "import pandas as pd\n",
    "import warnings\n",
    "import seaborn as sns\n",
    "import matplotlib.pyplot as plt"
   ]
  },
  {
   "cell_type": "code",
   "execution_count": 2,
   "metadata": {},
   "outputs": [],
   "source": [
    "# Setting Default Options\n",
    "pd.set_option(\"mode.copy_on_write\", True)\n",
    "warnings.simplefilter(action=\"ignore\", category=FutureWarning)"
   ]
  },
  {
   "cell_type": "code",
   "execution_count": 3,
   "metadata": {},
   "outputs": [],
   "source": [
    "# initialize results\n",
    "results = {}"
   ]
  },
  {
   "cell_type": "code",
   "execution_count": 4,
   "metadata": {},
   "outputs": [],
   "source": [
    "# Loading Data\n",
    "df = pd.read_csv(\n",
    "    \"https://github.com/nickeubank/MIDS_Data/raw/master/World_Development_Indicators/raw_WDI_Data_csv.zip\"\n",
    ")"
   ]
  },
  {
   "cell_type": "code",
   "execution_count": 5,
   "metadata": {},
   "outputs": [
    {
     "data": {
      "text/html": [
       "<div>\n",
       "<style scoped>\n",
       "    .dataframe tbody tr th:only-of-type {\n",
       "        vertical-align: middle;\n",
       "    }\n",
       "\n",
       "    .dataframe tbody tr th {\n",
       "        vertical-align: top;\n",
       "    }\n",
       "\n",
       "    .dataframe thead th {\n",
       "        text-align: right;\n",
       "    }\n",
       "</style>\n",
       "<table border=\"1\" class=\"dataframe\">\n",
       "  <thead>\n",
       "    <tr style=\"text-align: right;\">\n",
       "      <th></th>\n",
       "      <th>Country Name</th>\n",
       "      <th>Country Code</th>\n",
       "      <th>Indicator Name</th>\n",
       "      <th>Indicator Code</th>\n",
       "      <th>1960</th>\n",
       "      <th>1961</th>\n",
       "      <th>1962</th>\n",
       "      <th>1963</th>\n",
       "      <th>1964</th>\n",
       "      <th>1965</th>\n",
       "      <th>...</th>\n",
       "      <th>2010</th>\n",
       "      <th>2011</th>\n",
       "      <th>2012</th>\n",
       "      <th>2013</th>\n",
       "      <th>2014</th>\n",
       "      <th>2015</th>\n",
       "      <th>2016</th>\n",
       "      <th>2017</th>\n",
       "      <th>2018</th>\n",
       "      <th>Unnamed: 63</th>\n",
       "    </tr>\n",
       "  </thead>\n",
       "  <tbody>\n",
       "    <tr>\n",
       "      <th>100234</th>\n",
       "      <td>Bangladesh</td>\n",
       "      <td>BGD</td>\n",
       "      <td>Population ages 15-64, male (% of male populat...</td>\n",
       "      <td>SP.POP.1564.MA.ZS</td>\n",
       "      <td>56.156686</td>\n",
       "      <td>55.718135</td>\n",
       "      <td>55.415335</td>\n",
       "      <td>55.17781</td>\n",
       "      <td>54.915787</td>\n",
       "      <td>54.594408</td>\n",
       "      <td>...</td>\n",
       "      <td>6.287301e+01</td>\n",
       "      <td>6.333919e+01</td>\n",
       "      <td>6.378917e+01</td>\n",
       "      <td>6.424111e+01</td>\n",
       "      <td>6.471949e+01</td>\n",
       "      <td>6.523118e+01</td>\n",
       "      <td>6.571059e+01</td>\n",
       "      <td>6.621743e+01</td>\n",
       "      <td>66.725043</td>\n",
       "      <td>NaN</td>\n",
       "    </tr>\n",
       "    <tr>\n",
       "      <th>86806</th>\n",
       "      <td>Argentina</td>\n",
       "      <td>ARG</td>\n",
       "      <td>External debt stocks, short-term (DOD, current...</td>\n",
       "      <td>DT.DOD.DSTC.CD</td>\n",
       "      <td>NaN</td>\n",
       "      <td>NaN</td>\n",
       "      <td>NaN</td>\n",
       "      <td>NaN</td>\n",
       "      <td>NaN</td>\n",
       "      <td>NaN</td>\n",
       "      <td>...</td>\n",
       "      <td>NaN</td>\n",
       "      <td>NaN</td>\n",
       "      <td>NaN</td>\n",
       "      <td>NaN</td>\n",
       "      <td>NaN</td>\n",
       "      <td>NaN</td>\n",
       "      <td>NaN</td>\n",
       "      <td>NaN</td>\n",
       "      <td>NaN</td>\n",
       "      <td>NaN</td>\n",
       "    </tr>\n",
       "    <tr>\n",
       "      <th>110900</th>\n",
       "      <td>Bhutan</td>\n",
       "      <td>BTN</td>\n",
       "      <td>Gross capital formation (annual % growth)</td>\n",
       "      <td>NE.GDI.TOTL.KD.ZG</td>\n",
       "      <td>NaN</td>\n",
       "      <td>NaN</td>\n",
       "      <td>NaN</td>\n",
       "      <td>NaN</td>\n",
       "      <td>NaN</td>\n",
       "      <td>NaN</td>\n",
       "      <td>...</td>\n",
       "      <td>4.607625e+01</td>\n",
       "      <td>1.183866e+01</td>\n",
       "      <td>3.524271e+00</td>\n",
       "      <td>-3.569111e+01</td>\n",
       "      <td>2.441077e+01</td>\n",
       "      <td>1.647989e+01</td>\n",
       "      <td>1.196942e+01</td>\n",
       "      <td>-1.163840e-01</td>\n",
       "      <td>NaN</td>\n",
       "      <td>NaN</td>\n",
       "    </tr>\n",
       "    <tr>\n",
       "      <th>312630</th>\n",
       "      <td>Oman</td>\n",
       "      <td>OMN</td>\n",
       "      <td>Merchandise imports by the reporting economy (...</td>\n",
       "      <td>TM.VAL.MRCH.WL.CD</td>\n",
       "      <td>NaN</td>\n",
       "      <td>NaN</td>\n",
       "      <td>NaN</td>\n",
       "      <td>NaN</td>\n",
       "      <td>NaN</td>\n",
       "      <td>NaN</td>\n",
       "      <td>...</td>\n",
       "      <td>1.977367e+10</td>\n",
       "      <td>2.361864e+10</td>\n",
       "      <td>2.811717e+10</td>\n",
       "      <td>3.433298e+10</td>\n",
       "      <td>2.930409e+10</td>\n",
       "      <td>2.900730e+10</td>\n",
       "      <td>2.311077e+10</td>\n",
       "      <td>2.651763e+10</td>\n",
       "      <td>NaN</td>\n",
       "      <td>NaN</td>\n",
       "    </tr>\n",
       "    <tr>\n",
       "      <th>57985</th>\n",
       "      <td>Pacific island small states</td>\n",
       "      <td>PSS</td>\n",
       "      <td>Employment to population ratio, ages 15-24, ma...</td>\n",
       "      <td>SL.EMP.1524.SP.MA.ZS</td>\n",
       "      <td>NaN</td>\n",
       "      <td>NaN</td>\n",
       "      <td>NaN</td>\n",
       "      <td>NaN</td>\n",
       "      <td>NaN</td>\n",
       "      <td>NaN</td>\n",
       "      <td>...</td>\n",
       "      <td>4.886358e+01</td>\n",
       "      <td>4.841398e+01</td>\n",
       "      <td>4.790959e+01</td>\n",
       "      <td>4.791983e+01</td>\n",
       "      <td>4.771209e+01</td>\n",
       "      <td>4.879475e+01</td>\n",
       "      <td>4.977715e+01</td>\n",
       "      <td>4.997834e+01</td>\n",
       "      <td>49.978723</td>\n",
       "      <td>NaN</td>\n",
       "    </tr>\n",
       "  </tbody>\n",
       "</table>\n",
       "<p>5 rows × 64 columns</p>\n",
       "</div>"
      ],
      "text/plain": [
       "                       Country Name Country Code  \\\n",
       "100234                   Bangladesh          BGD   \n",
       "86806                     Argentina          ARG   \n",
       "110900                       Bhutan          BTN   \n",
       "312630                         Oman          OMN   \n",
       "57985   Pacific island small states          PSS   \n",
       "\n",
       "                                           Indicator Name  \\\n",
       "100234  Population ages 15-64, male (% of male populat...   \n",
       "86806   External debt stocks, short-term (DOD, current...   \n",
       "110900          Gross capital formation (annual % growth)   \n",
       "312630  Merchandise imports by the reporting economy (...   \n",
       "57985   Employment to population ratio, ages 15-24, ma...   \n",
       "\n",
       "              Indicator Code       1960       1961       1962      1963  \\\n",
       "100234     SP.POP.1564.MA.ZS  56.156686  55.718135  55.415335  55.17781   \n",
       "86806         DT.DOD.DSTC.CD        NaN        NaN        NaN       NaN   \n",
       "110900     NE.GDI.TOTL.KD.ZG        NaN        NaN        NaN       NaN   \n",
       "312630     TM.VAL.MRCH.WL.CD        NaN        NaN        NaN       NaN   \n",
       "57985   SL.EMP.1524.SP.MA.ZS        NaN        NaN        NaN       NaN   \n",
       "\n",
       "             1964       1965  ...          2010          2011          2012  \\\n",
       "100234  54.915787  54.594408  ...  6.287301e+01  6.333919e+01  6.378917e+01   \n",
       "86806         NaN        NaN  ...           NaN           NaN           NaN   \n",
       "110900        NaN        NaN  ...  4.607625e+01  1.183866e+01  3.524271e+00   \n",
       "312630        NaN        NaN  ...  1.977367e+10  2.361864e+10  2.811717e+10   \n",
       "57985         NaN        NaN  ...  4.886358e+01  4.841398e+01  4.790959e+01   \n",
       "\n",
       "                2013          2014          2015          2016          2017  \\\n",
       "100234  6.424111e+01  6.471949e+01  6.523118e+01  6.571059e+01  6.621743e+01   \n",
       "86806            NaN           NaN           NaN           NaN           NaN   \n",
       "110900 -3.569111e+01  2.441077e+01  1.647989e+01  1.196942e+01 -1.163840e-01   \n",
       "312630  3.433298e+10  2.930409e+10  2.900730e+10  2.311077e+10  2.651763e+10   \n",
       "57985   4.791983e+01  4.771209e+01  4.879475e+01  4.977715e+01  4.997834e+01   \n",
       "\n",
       "             2018  Unnamed: 63  \n",
       "100234  66.725043          NaN  \n",
       "86806         NaN          NaN  \n",
       "110900        NaN          NaN  \n",
       "312630        NaN          NaN  \n",
       "57985   49.978723          NaN  \n",
       "\n",
       "[5 rows x 64 columns]"
      ]
     },
     "execution_count": 5,
     "metadata": {},
     "output_type": "execute_result"
    }
   ],
   "source": [
    "# view sample of data\n",
    "df.sample(5)"
   ]
  },
  {
   "cell_type": "markdown",
   "metadata": {},
   "source": [
    "### Exercise 2\n",
    "\n",
    "In this exercise, we'd like to look at the relationship between GDP and inequality across countries. So before anything else, thin down your dataset by getting only the rows related to:\n",
    "\n",
    "- GDP per capita (in Constant US Dollars -- the \"constant\" means values are have been adjusted for inflation, so values from 1970 can be directly compared with 2010)\n",
    "- Gini coefficient\n",
    "- Information on income shares (what percentage of total income goes to X% of the income distribution). **There are 7 of these in total.**\n",
    "\n",
    "Store the number of rows you get from this updated dataset in `\"ex2_num_rows\"`.\n",
    "\n",
    "**NOTE:** this is non-trivial. This is a big dataset with LOTS of variables, so you'll have to use your data wrangling skills to see all the variables names. Remember that if you want to see all the entries in something but python compresses it (so it doesn't take up too much space), you can loop over it and print each item separately to make it show everything!\n",
    "\n",
    "**NOTE 2:** If you _do_ print out all the variable names, please comment out the code before you submit your notebook so graders don't end up swimming in print-outs. "
   ]
  },
  {
   "cell_type": "code",
   "execution_count": 6,
   "metadata": {},
   "outputs": [],
   "source": [
    "# create empty list to keep track of required rows\n",
    "required_rows = []"
   ]
  },
  {
   "cell_type": "code",
   "execution_count": 7,
   "metadata": {},
   "outputs": [
    {
     "data": {
      "text/plain": [
       "array(['GDP per capita (constant 2010 US$)',\n",
       "       'GDP per capita (constant LCU)', 'GDP per capita (current LCU)',\n",
       "       'GDP per capita (current US$)', 'GDP per capita growth (annual %)',\n",
       "       'GDP per capita, PPP (constant 2011 international $)',\n",
       "       'GDP per capita, PPP (current international $)',\n",
       "       'Government expenditure per student, primary (% of GDP per capita)',\n",
       "       'Government expenditure per student, secondary (% of GDP per capita)',\n",
       "       'Government expenditure per student, tertiary (% of GDP per capita)'],\n",
       "      dtype=object)"
      ]
     },
     "execution_count": 7,
     "metadata": {},
     "output_type": "execute_result"
    }
   ],
   "source": [
    "# view columns with GDP per capita\n",
    "df[df[\"Indicator Name\"].str.contains(\"GDP per capita\")][\"Indicator Name\"].unique()"
   ]
  },
  {
   "cell_type": "code",
   "execution_count": 8,
   "metadata": {},
   "outputs": [
    {
     "data": {
      "text/plain": [
       "array(['GINI index (World Bank estimate)'], dtype=object)"
      ]
     },
     "execution_count": 8,
     "metadata": {},
     "output_type": "execute_result"
    }
   ],
   "source": [
    "# View Columns with GINI coefficient\n",
    "df[df[\"Indicator Name\"].str.contains(\"GINI\")][\"Indicator Name\"].unique()"
   ]
  },
  {
   "cell_type": "code",
   "execution_count": 9,
   "metadata": {},
   "outputs": [
    {
     "data": {
      "text/plain": [
       "array(['Income share held by fourth 20%',\n",
       "       'Income share held by highest 10%',\n",
       "       'Income share held by highest 20%',\n",
       "       'Income share held by lowest 10%',\n",
       "       'Income share held by lowest 20%',\n",
       "       'Income share held by second 20%',\n",
       "       'Income share held by third 20%'], dtype=object)"
      ]
     },
     "execution_count": 9,
     "metadata": {},
     "output_type": "execute_result"
    }
   ],
   "source": [
    "# view columns with Income Share\n",
    "df[df[\"Indicator Name\"].str.contains(\"Income share\")][\"Indicator Name\"].unique()"
   ]
  },
  {
   "cell_type": "code",
   "execution_count": 10,
   "metadata": {},
   "outputs": [],
   "source": [
    "# Add the required rows to the list\n",
    "required_rows = [\n",
    "    \"GDP per capita (constant 2010 US$)\",\n",
    "    \"GINI index (World Bank estimate)\",\n",
    "    \"Income share held by fourth 20%\",\n",
    "    \"Income share held by highest 10%\",\n",
    "    \"Income share held by highest 20%\",\n",
    "    \"Income share held by lowest 10%\",\n",
    "    \"Income share held by lowest 20%\",\n",
    "    \"Income share held by second 20%\",\n",
    "    \"Income share held by third 20%\",\n",
    "]"
   ]
  },
  {
   "cell_type": "code",
   "execution_count": 11,
   "metadata": {},
   "outputs": [],
   "source": [
    "# Filtering the data\n",
    "df2 = df[df[\"Indicator Name\"].isin(required_rows)]"
   ]
  },
  {
   "cell_type": "code",
   "execution_count": 19,
   "metadata": {},
   "outputs": [
    {
     "name": "stdout",
     "output_type": "stream",
     "text": [
      "After Subsetting, the number of rows is 2,376\n"
     ]
    }
   ],
   "source": [
    "# Rows of subsetted data\n",
    "results[\"ex2_num_rows\"] = df2.shape[0]\n",
    "print(f\"After Subsetting, the number of rows is {results['ex2_num_rows']:,}\")"
   ]
  },
  {
   "cell_type": "markdown",
   "metadata": {},
   "source": [
    "### Exercise 3\n",
    "\n",
    "OK, that makes our data a lot more manageable, but it's still pretty heinous.\n",
    "\n",
    "In our analysis, we know that we'll want to have country-years as our units of observation, so let's start reshaping. Come up with a strategy that gets our inequality variables as columns, and makes each of our future observations (i.e. each country-year) a row. \n",
    "\n",
    "*Hint:* It can sometimes be helpful to drop useless columns before a reshape.\n",
    "\n",
    "*Other hint:* Sometimes you will end up with your column names stored in a hierarchical (multi-level) `.column` object structure. As with hierarchical indices for rows, they’re a pain. (Whether this occurs depends on the exact syntax you use, so you may or may not get it).\n",
    "\n",
    "The two easy ways to fix these hierarchical `.column` objects are:\n",
    "\n",
    "- Just drop a level: df.columns.drop_level(0)` where 0 is which level you want to drop.\n",
    "- Directly manipulate the column names by doing something to the df.columns object and re-assigning to df.columns. For example, you can just concatenate two columns levels (they're stored as tuples) with a dash between them with `df.columns = map(lambda x: str(x[0]) + \"-\" + str(x[1]), df.columns)`."
   ]
  },
  {
   "cell_type": "code",
   "execution_count": 12,
   "metadata": {},
   "outputs": [
    {
     "data": {
      "text/plain": [
       "Index(['Country Name', 'Country Code', 'Indicator Name', 'Indicator Code',\n",
       "       '1960', '1961', '1962', '1963', '1964', '1965', '1966', '1967', '1968',\n",
       "       '1969', '1970', '1971', '1972', '1973', '1974', '1975', '1976', '1977',\n",
       "       '1978', '1979', '1980', '1981', '1982', '1983', '1984', '1985', '1986',\n",
       "       '1987', '1988', '1989', '1990', '1991', '1992', '1993', '1994', '1995',\n",
       "       '1996', '1997', '1998', '1999', '2000', '2001', '2002', '2003', '2004',\n",
       "       '2005', '2006', '2007', '2008', '2009', '2010', '2011', '2012', '2013',\n",
       "       '2014', '2015', '2016', '2017', '2018', 'Unnamed: 63'],\n",
       "      dtype='object')"
      ]
     },
     "execution_count": 12,
     "metadata": {},
     "output_type": "execute_result"
    }
   ],
   "source": [
    "# view the columns to decide which ones to drop\n",
    "df2.columns"
   ]
  },
  {
   "cell_type": "code",
   "execution_count": 13,
   "metadata": {},
   "outputs": [],
   "source": [
    "# dropping unnamed column\n",
    "df2.drop(columns=[\"Unnamed: 63\", \"Indicator Code\"], inplace=True)"
   ]
  },
  {
   "cell_type": "code",
   "execution_count": 14,
   "metadata": {},
   "outputs": [],
   "source": [
    "# adding years to rows\n",
    "df_melt = pd.melt(\n",
    "    df2,\n",
    "    id_vars=[\"Country Name\", \"Country Code\", \"Indicator Name\"],\n",
    "    var_name=\"Year\",\n",
    "    value_name=\"Value\",\n",
    ")"
   ]
  },
  {
   "cell_type": "code",
   "execution_count": 15,
   "metadata": {},
   "outputs": [],
   "source": [
    "# making the indicators to columns\n",
    "df_pivot = df_melt.pivot_table(\"Value\", [\"Country Name\", \"Year\"], \"Indicator Name\")"
   ]
  },
  {
   "cell_type": "code",
   "execution_count": 27,
   "metadata": {},
   "outputs": [],
   "source": [
    "df_pivot.reset_index(inplace=True)\n",
    "df_pivot[\"Year\"] = df_pivot[\"Year\"].astype(int)"
   ]
  },
  {
   "cell_type": "markdown",
   "metadata": {},
   "source": [
    "### Exercise 4\n",
    "\n",
    "Now that you've done your reshapes, subset for observations that are post-1980. Store the number of rows in your reshaped data with only data from the years after 1980 in `\"ex4_num_rows\"`."
   ]
  },
  {
   "cell_type": "code",
   "execution_count": 28,
   "metadata": {},
   "outputs": [
    {
     "name": "stdout",
     "output_type": "stream",
     "text": [
      "After Subsetting for post 1980, the number of rows is 8,608\n"
     ]
    }
   ],
   "source": [
    "df3 = df_pivot[df_pivot[\"Year\"] > 1980]\n",
    "results[\"ex4_num_rows\"] = df3.shape[0]\n",
    "print(\n",
    "    f\"After Subsetting for post 1980, the number of rows is {results['ex4_num_rows']:,}\"\n",
    ")"
   ]
  },
  {
   "cell_type": "markdown",
   "metadata": {},
   "source": [
    "### Exercise 5\n",
    "\n",
    "Subset for observations for which we have GINI index estimates. How many unique *countries* do you end up with? Store this answer in `ex5_num_countries`."
   ]
  },
  {
   "cell_type": "markdown",
   "metadata": {},
   "source": [
    "### Exercise 6\n",
    "\n",
    "Plot the relationship between **log** GDP per capita and Gini scores for all country years and add a linear fit as well. Is higher inequality associated with higher log GDP? Store your answer (as `\"yes\"` or `\"no\"`) in `results` under the key `\"ex6_relationship\"`."
   ]
  },
  {
   "cell_type": "markdown",
   "metadata": {},
   "source": [
    "### Exercise 7\n",
    "\n",
    "It's important to not always rely too much on a single measure of something like inequality. To check the robustness of our result, let's be sure to also look at the relationship between inequality and income by using the income share of the richest 10% instead of just the Gini coefficient. Plot that relationship.\n",
    "\n",
    "Do you also find that income inequality (as measured by the share of income accruing to the top 10% of earners) is positively or negatively correlated with gdp per capita? Store your answer in your `results` dict under the key `\"ex7_relationship\"` as the string `\"positively correlated\"` or the string `\"negatively correlated\"`."
   ]
  },
  {
   "cell_type": "markdown",
   "metadata": {},
   "source": [
    "### Exercise 8\n",
    "\n",
    "This analysis has allowed us to evaluate whether richer countries tend to have greater income inequality, but it certainly has not established whether we should expect that as countries become wealthier, their income distribution will also become more even. In other words, we have established a correlation between income inequality and wealth, but we certainly have not established a causal relationship between wealth and income inequality.\n",
    "\n",
    "One way we might be able to get better traction on this question is to look at whether, as individual countries become wealthier, their income distribution also becomes more even.\n",
    "\n",
    "To answer this question, let's begin by subsetting our data to the years 2005 to 2015 (inclusive)—the period in which the largest number of countries in our data have inequality data. Then also subset for the set of countries with Gini data for all years in this period. This gives us what's called a *balanced panel*—a dataset in which we have data on entities *at a number of different points in time* (a panel dataset) and where at every point in time, we have data for the *same set of entities* (a balanced panel dataset). \n",
    "\n",
    "Balanced panels are very desirable because the fact that they contain the same entities at all moments in time means that any changes we measure over time are the result of real changes in the outcomes we care about and *not* the result of changes in the composition of our sample.\n",
    "\n",
    "Store the number of countries still in your data in `\"ex8_countries_in_panel\"`."
   ]
  },
  {
   "cell_type": "markdown",
   "metadata": {},
   "source": [
    "### Exercise 9\n",
    "\n",
    "Now, demean both Gini coefficient scores and log GDP per capita for all countries. In other words, for each country, calculate that country's average Gini score over this period and subtract that average from all of the country's Gini scores, then do the same for log GDP per capita. Then plot these countries' *demeaned* Gini scores against demeaned log GDP per capita.\n",
    "\n",
    "Essentially, this is a way of looking at whether, when countries are richer than their average during this period, they have more equal income distributions than on average."
   ]
  },
  {
   "cell_type": "markdown",
   "metadata": {},
   "source": [
    "### Exercise 10 \n",
    "\n",
    "Calculate the correlation between these two demand outcomes in our balanced panel and store the result in `\"ex10_demeaned_corr\"`."
   ]
  }
 ],
 "metadata": {
  "kernelspec": {
   "display_name": "Python 3.10.6 ('base')",
   "language": "python",
   "name": "python3"
  },
  "language_info": {
   "codemirror_mode": {
    "name": "ipython",
    "version": 3
   },
   "file_extension": ".py",
   "mimetype": "text/x-python",
   "name": "python",
   "nbconvert_exporter": "python",
   "pygments_lexer": "ipython3",
   "version": "3.11.5"
  },
  "orig_nbformat": 4,
  "vscode": {
   "interpreter": {
    "hash": "718fed28bf9f8c7851519acf2fb923cd655120b36de3b67253eeb0428bd33d2d"
   }
  }
 },
 "nbformat": 4,
 "nbformat_minor": 2
}
