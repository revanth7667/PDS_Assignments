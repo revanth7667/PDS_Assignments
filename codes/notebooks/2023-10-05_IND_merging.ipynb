{
    "cells": [
        {
            "cell_type": "markdown",
            "metadata": {},
            "source": [
                "# Merging Data to Understand the Relationship between Drug Legalization and Violent Crime\n",
                "\n"
            ]
        },
        {
            "cell_type": "markdown",
            "metadata": {},
            "source": [
                "In recent years, many US states have decided to legalize the use of marijuana. \n",
                "\n",
                "When these ideas were first proposed, there were many theories about the relationship between crime and the \"War on Drugs\" (the term given to US efforts to arrest drug users and dealers over the past several decades). \n",
                "\n",
                "In this exercise, we're going to test a few of those theories using drug arrest data from the state of California. \n",
                "\n",
                "Though California has passed a number of laws lessening penalities for marijuana possession over the years, arguably the biggest changes were in  2010, when the state changed the penalty for possessing a small amount of marijuana from a criminal crime to a \"civil\" penality (meaning those found guilty only had to pay a fine, not go to jail), though possessing, selling, or producing larger quantities remained illegal. Then in 2016, the state fully legalized marijuana for recreational use, not only making possession of small amounts legal, but also creating a regulatory system for producing marijuana for sale. \n",
                "\n",
                "Proponents of drug legalization have long argued that the war on drugs contributes to violent crime by creating an opportunity for drug dealers and organized crime to sell and distribute drugs, a business which tends to generate violence when gangs battle over territory. According to this theory, with drug legalization, we should see violent crime decrease after legalization in places where drug arrests had previously been common. \n",
                "\n",
                "**To be clear,** this is far from the only argument for drug legalization! It is simply the argument we are well positioned to analyze today. "
            ]
        },
        {
            "cell_type": "markdown",
            "metadata": {},
            "source": [
                "\n",
                "## Gradescope Autograding\n",
                "\n",
                "Please follow [all standard guidance](https://www.practicaldatascience.org/html/autograder_guidelines.html) for submitting this assignment to the Gradescope autograder, including storing your solutions in a dictionary called `results` and ensuring your notebook runs from the start to completion without any errors.\n",
                "\n",
                "For this assignment, please name your file `exercise_merging.ipynb` before uploading.\n",
                "\n",
                "You can check that you have answers for all questions in your `results` dictionary with this code:\n",
                "\n",
                "```python\n",
                "assert set(results.keys()) == {\n",
                "    \"ex6_merge_type\",\n",
                "    \"ex10_merged_successfully\",\n",
                "    \"ex16_num_obs\",\n",
                "    \"ex17_drug_change\",\n",
                "    \"ex18_violent_change\",\n",
                "    \"ex21_diffindiff\",\n",
                "    \"ex23_diffindiff_proportionate\",\n",
                "}\n",
                "```\n",
                "\n",
                "\n",
                "### Submission Limits\n",
                "\n",
                "Please remember that you are **only allowed three submissions to the autograder.** Your last submission (if you submit 3 or fewer times), or your third submission (if you submit more than 3 times) will determine your grade Submissions that error out will **not** count against this total."
            ]
        },
        {
            "cell_type": "markdown",
            "metadata": {},
            "source": [
                "## Pre-Legalization Analysis\n",
                "\n",
                "### Exercise 1\n",
                "We will begin by examining [county-level data on arrests from California in 2009](https://github.com/nickeubank/practicaldatascience/tree/master/Example_Data/ca). This data is derived directly from data hosted by the [Office of the California State Attorney General](https://openjustice.doj.ca.gov/data), but please follow the github link above and download and import the file `ca_arrests_2009.csv` (don't try and get it directly from the State Attorney General's office). "
            ]
        },
        {
            "cell_type": "code",
            "execution_count": 1,
            "metadata": {},
            "outputs": [],
            "source": [
                "# importing required packages\n",
                "import numpy as np\n",
                "import pandas as pd\n",
                "import matplotlib.pyplot as plt\n",
                "\n",
                "\n",
                "# setting default option\n",
                "pd.set_option(\"mode.copy_on_write\", True)\n",
                "\n",
                "# initialize results dict\n",
                "results = {}"
            ]
        },
        {
            "cell_type": "code",
            "execution_count": 2,
            "metadata": {},
            "outputs": [],
            "source": [
                "# loading Data to Dataframe\n",
                "df_arrests = pd.read_csv(\n",
                "    \"https://raw.githubusercontent.com/nickeubank/practicaldatascience/master/Example_Data/ca/ca_arrests_2009.csv\"\n",
                ")"
            ]
        },
        {
            "cell_type": "markdown",
            "metadata": {},
            "source": [
                "### Exercise 2\n",
                "Use your data exploration skills to get a feel for this data. If you need to, you can find the [original codebook here](https://github.com/nickeubank/practicaldatascience/blob/master/Example_Data/ca/arrests_codebook.pdf) (This data is a version of that data, but collapsed to one observation per county.)"
            ]
        },
        {
            "cell_type": "code",
            "execution_count": 3,
            "metadata": {},
            "outputs": [
                {
                    "data": {
                        "text/html": [
                            "<div>\n",
                            "<style scoped>\n",
                            "    .dataframe tbody tr th:only-of-type {\n",
                            "        vertical-align: middle;\n",
                            "    }\n",
                            "\n",
                            "    .dataframe tbody tr th {\n",
                            "        vertical-align: top;\n",
                            "    }\n",
                            "\n",
                            "    .dataframe thead th {\n",
                            "        text-align: right;\n",
                            "    }\n",
                            "</style>\n",
                            "<table border=\"1\" class=\"dataframe\">\n",
                            "  <thead>\n",
                            "    <tr style=\"text-align: right;\">\n",
                            "      <th></th>\n",
                            "      <th>Unnamed: 0</th>\n",
                            "      <th>COUNTY</th>\n",
                            "      <th>VIOLENT</th>\n",
                            "      <th>PROPERTY</th>\n",
                            "      <th>F_DRUGOFF</th>\n",
                            "      <th>F_SEXOFF</th>\n",
                            "      <th>F_ALLOTHER</th>\n",
                            "      <th>F_TOTAL</th>\n",
                            "      <th>M_TOTAL</th>\n",
                            "      <th>S_TOTAL</th>\n",
                            "    </tr>\n",
                            "  </thead>\n",
                            "  <tbody>\n",
                            "    <tr>\n",
                            "      <th>39</th>\n",
                            "      <td>1721</td>\n",
                            "      <td>San Luis Obispo County</td>\n",
                            "      <td>609</td>\n",
                            "      <td>647</td>\n",
                            "      <td>522</td>\n",
                            "      <td>94</td>\n",
                            "      <td>403</td>\n",
                            "      <td>2275</td>\n",
                            "      <td>9962</td>\n",
                            "      <td>67</td>\n",
                            "    </tr>\n",
                            "    <tr>\n",
                            "      <th>31</th>\n",
                            "      <td>1713</td>\n",
                            "      <td>Plumas County</td>\n",
                            "      <td>100</td>\n",
                            "      <td>44</td>\n",
                            "      <td>104</td>\n",
                            "      <td>2</td>\n",
                            "      <td>68</td>\n",
                            "      <td>318</td>\n",
                            "      <td>867</td>\n",
                            "      <td>13</td>\n",
                            "    </tr>\n",
                            "    <tr>\n",
                            "      <th>54</th>\n",
                            "      <td>1736</td>\n",
                            "      <td>Tuolumne County</td>\n",
                            "      <td>160</td>\n",
                            "      <td>252</td>\n",
                            "      <td>209</td>\n",
                            "      <td>14</td>\n",
                            "      <td>261</td>\n",
                            "      <td>896</td>\n",
                            "      <td>2062</td>\n",
                            "      <td>83</td>\n",
                            "    </tr>\n",
                            "    <tr>\n",
                            "      <th>22</th>\n",
                            "      <td>1704</td>\n",
                            "      <td>Mendocino County</td>\n",
                            "      <td>415</td>\n",
                            "      <td>296</td>\n",
                            "      <td>551</td>\n",
                            "      <td>17</td>\n",
                            "      <td>364</td>\n",
                            "      <td>1643</td>\n",
                            "      <td>3654</td>\n",
                            "      <td>10</td>\n",
                            "    </tr>\n",
                            "    <tr>\n",
                            "      <th>20</th>\n",
                            "      <td>1702</td>\n",
                            "      <td>Marin County</td>\n",
                            "      <td>500</td>\n",
                            "      <td>532</td>\n",
                            "      <td>454</td>\n",
                            "      <td>29</td>\n",
                            "      <td>276</td>\n",
                            "      <td>1791</td>\n",
                            "      <td>5795</td>\n",
                            "      <td>178</td>\n",
                            "    </tr>\n",
                            "  </tbody>\n",
                            "</table>\n",
                            "</div>"
                        ],
                        "text/plain": [
                            "    Unnamed: 0                  COUNTY  VIOLENT  PROPERTY  F_DRUGOFF  \\\n",
                            "39        1721  San Luis Obispo County      609       647        522   \n",
                            "31        1713           Plumas County      100        44        104   \n",
                            "54        1736         Tuolumne County      160       252        209   \n",
                            "22        1704        Mendocino County      415       296        551   \n",
                            "20        1702            Marin County      500       532        454   \n",
                            "\n",
                            "    F_SEXOFF  F_ALLOTHER  F_TOTAL  M_TOTAL  S_TOTAL  \n",
                            "39        94         403     2275     9962       67  \n",
                            "31         2          68      318      867       13  \n",
                            "54        14         261      896     2062       83  \n",
                            "22        17         364     1643     3654       10  \n",
                            "20        29         276     1791     5795      178  "
                        ]
                    },
                    "execution_count": 3,
                    "metadata": {},
                    "output_type": "execute_result"
                }
            ],
            "source": [
                "df_arrests.sample(5)"
            ]
        },
        {
            "cell_type": "code",
            "execution_count": 4,
            "metadata": {},
            "outputs": [
                {
                    "data": {
                        "text/plain": [
                            "COUNTY                \n",
                            "Alameda County            1\n",
                            "Santa Cruz County         1\n",
                            "Plumas County             1\n",
                            "Riverside County          1\n",
                            "Sacramento County         1\n",
                            "San Benito County         1\n",
                            "San Bernardino County     1\n",
                            "San Diego County          1\n",
                            "San Francisco County      1\n",
                            "San Joaquin County        1\n",
                            "San Luis Obispo County    1\n",
                            "San Mateo County          1\n",
                            "Santa Barbara County      1\n",
                            "Santa Clara County        1\n",
                            "Shasta County             1\n",
                            "Alpine County             1\n",
                            "Sierra County             1\n",
                            "Siskiyou County           1\n",
                            "Solano County             1\n",
                            "Sonoma County             1\n",
                            "Stanislaus County         1\n",
                            "Sutter County             1\n",
                            "Tehama County             1\n",
                            "Trinity County            1\n",
                            "Tulare County             1\n",
                            "Tuolumne County           1\n",
                            "Ventura County            1\n",
                            "Yolo County               1\n",
                            "Placer County             1\n",
                            "Orange County             1\n",
                            "Nevada County             1\n",
                            "Napa County               1\n",
                            "Amador County             1\n",
                            "Butte County              1\n",
                            "Calaveras County          1\n",
                            "Colusa County             1\n",
                            "Contra Costa County       1\n",
                            "Del Norte County          1\n",
                            "El Dorado County          1\n",
                            "Fresno County             1\n",
                            "Glenn County              1\n",
                            "Humboldt County           1\n",
                            "Imperial County           1\n",
                            "Inyo County               1\n",
                            "Kern County               1\n",
                            "Kings County              1\n",
                            "Lake County               1\n",
                            "Lassen County             1\n",
                            "Los Angeles County        1\n",
                            "Madera County             1\n",
                            "Marin County              1\n",
                            "Mariposa County           1\n",
                            "Mendocino County          1\n",
                            "Merced County             1\n",
                            "Modoc County              1\n",
                            "Mono County               1\n",
                            "Monterey County           1\n",
                            "Yuba County               1\n",
                            "Name: count, dtype: int64"
                        ]
                    },
                    "execution_count": 4,
                    "metadata": {},
                    "output_type": "execute_result"
                }
            ],
            "source": [
                "df_arrests[[\"COUNTY\"]].value_counts()"
            ]
        },
        {
            "cell_type": "code",
            "execution_count": 5,
            "metadata": {},
            "outputs": [
                {
                    "name": "stdout",
                    "output_type": "stream",
                    "text": [
                        "<class 'pandas.core.frame.DataFrame'>\n",
                        "RangeIndex: 58 entries, 0 to 57\n",
                        "Data columns (total 10 columns):\n",
                        " #   Column      Non-Null Count  Dtype \n",
                        "---  ------      --------------  ----- \n",
                        " 0   Unnamed: 0  58 non-null     int64 \n",
                        " 1   COUNTY      58 non-null     object\n",
                        " 2   VIOLENT     58 non-null     int64 \n",
                        " 3   PROPERTY    58 non-null     int64 \n",
                        " 4   F_DRUGOFF   58 non-null     int64 \n",
                        " 5   F_SEXOFF    58 non-null     int64 \n",
                        " 6   F_ALLOTHER  58 non-null     int64 \n",
                        " 7   F_TOTAL     58 non-null     int64 \n",
                        " 8   M_TOTAL     58 non-null     int64 \n",
                        " 9   S_TOTAL     58 non-null     int64 \n",
                        "dtypes: int64(9), object(1)\n",
                        "memory usage: 4.7+ KB\n"
                    ]
                }
            ],
            "source": [
                "df_arrests.info()"
            ]
        },
        {
            "cell_type": "markdown",
            "metadata": {},
            "source": [
                "### Exercise 3\n",
                "Figuring out what county has the most violent arrests isn't very meaningful if we don't normalize for size. A county with 10 people and 10 arrests for violent crimes is obviously worse than a county with 1,000,000 people an 11 arrests for violent crime. \n",
                "\n",
                "To address this, also import `nhgis_county_populations.csv` from [the directory we're working from](https://github.com/nickeubank/practicaldatascience/tree/master/Example_Data/ca)."
            ]
        },
        {
            "cell_type": "code",
            "execution_count": 6,
            "metadata": {},
            "outputs": [],
            "source": [
                "# loading population data\n",
                "df_population = pd.read_csv(\n",
                "    \"https://raw.githubusercontent.com/nickeubank/practicaldatascience/master/Example_Data/ca/nhgis_county_populations.csv\"\n",
                ")"
            ]
        },
        {
            "cell_type": "markdown",
            "metadata": {},
            "source": [
                "### Exercise 4\n",
                "Use your data exploration skills to get used to this data, and figure out how it relates to your 2009 arrest data. "
            ]
        },
        {
            "cell_type": "code",
            "execution_count": 7,
            "metadata": {},
            "outputs": [
                {
                    "data": {
                        "text/html": [
                            "<div>\n",
                            "<style scoped>\n",
                            "    .dataframe tbody tr th:only-of-type {\n",
                            "        vertical-align: middle;\n",
                            "    }\n",
                            "\n",
                            "    .dataframe tbody tr th {\n",
                            "        vertical-align: top;\n",
                            "    }\n",
                            "\n",
                            "    .dataframe thead th {\n",
                            "        text-align: right;\n",
                            "    }\n",
                            "</style>\n",
                            "<table border=\"1\" class=\"dataframe\">\n",
                            "  <thead>\n",
                            "    <tr style=\"text-align: right;\">\n",
                            "      <th></th>\n",
                            "      <th>Unnamed: 0</th>\n",
                            "      <th>YEAR</th>\n",
                            "      <th>STATE</th>\n",
                            "      <th>COUNTY</th>\n",
                            "      <th>total_population</th>\n",
                            "    </tr>\n",
                            "  </thead>\n",
                            "  <tbody>\n",
                            "    <tr>\n",
                            "      <th>1390</th>\n",
                            "      <td>1390</td>\n",
                            "      <td>2005-2009</td>\n",
                            "      <td>Minnesota</td>\n",
                            "      <td>Todd County</td>\n",
                            "      <td>23968</td>\n",
                            "    </tr>\n",
                            "    <tr>\n",
                            "      <th>2784</th>\n",
                            "      <td>2784</td>\n",
                            "      <td>2005-2009</td>\n",
                            "      <td>Utah</td>\n",
                            "      <td>Emery County</td>\n",
                            "      <td>10408</td>\n",
                            "    </tr>\n",
                            "    <tr>\n",
                            "      <th>62</th>\n",
                            "      <td>62</td>\n",
                            "      <td>2005-2009</td>\n",
                            "      <td>Alabama</td>\n",
                            "      <td>Tuscaloosa County</td>\n",
                            "      <td>178754</td>\n",
                            "    </tr>\n",
                            "    <tr>\n",
                            "      <th>884</th>\n",
                            "      <td>884</td>\n",
                            "      <td>2005-2009</td>\n",
                            "      <td>Iowa</td>\n",
                            "      <td>Winneshiek County</td>\n",
                            "      <td>20764</td>\n",
                            "    </tr>\n",
                            "    <tr>\n",
                            "      <th>2577</th>\n",
                            "      <td>2577</td>\n",
                            "      <td>2005-2009</td>\n",
                            "      <td>Texas</td>\n",
                            "      <td>Culberson County</td>\n",
                            "      <td>2476</td>\n",
                            "    </tr>\n",
                            "  </tbody>\n",
                            "</table>\n",
                            "</div>"
                        ],
                        "text/plain": [
                            "      Unnamed: 0       YEAR      STATE             COUNTY  total_population\n",
                            "1390        1390  2005-2009  Minnesota        Todd County             23968\n",
                            "2784        2784  2005-2009       Utah       Emery County             10408\n",
                            "62            62  2005-2009    Alabama  Tuscaloosa County            178754\n",
                            "884          884  2005-2009       Iowa  Winneshiek County             20764\n",
                            "2577        2577  2005-2009      Texas   Culberson County              2476"
                        ]
                    },
                    "execution_count": 7,
                    "metadata": {},
                    "output_type": "execute_result"
                }
            ],
            "source": [
                "df_population.sample(5)"
            ]
        },
        {
            "cell_type": "code",
            "execution_count": 8,
            "metadata": {},
            "outputs": [
                {
                    "data": {
                        "text/plain": [
                            "YEAR\n",
                            "2005-2009    58\n",
                            "2013-2017    58\n",
                            "Name: count, dtype: int64"
                        ]
                    },
                    "execution_count": 8,
                    "metadata": {},
                    "output_type": "execute_result"
                }
            ],
            "source": [
                "df_population[df_population[\"STATE\"] == \"California\"][\"YEAR\"].value_counts()"
            ]
        },
        {
            "cell_type": "code",
            "execution_count": 9,
            "metadata": {},
            "outputs": [
                {
                    "name": "stdout",
                    "output_type": "stream",
                    "text": [
                        "<class 'pandas.core.frame.DataFrame'>\n",
                        "RangeIndex: 6441 entries, 0 to 6440\n",
                        "Data columns (total 5 columns):\n",
                        " #   Column            Non-Null Count  Dtype \n",
                        "---  ------            --------------  ----- \n",
                        " 0   Unnamed: 0        6441 non-null   int64 \n",
                        " 1   YEAR              6441 non-null   object\n",
                        " 2   STATE             6441 non-null   object\n",
                        " 3   COUNTY            6441 non-null   object\n",
                        " 4   total_population  6441 non-null   int64 \n",
                        "dtypes: int64(2), object(3)\n",
                        "memory usage: 251.7+ KB\n"
                    ]
                }
            ],
            "source": [
                "df_population.info()"
            ]
        },
        {
            "cell_type": "code",
            "execution_count": 10,
            "metadata": {},
            "outputs": [
                {
                    "name": "stdout",
                    "output_type": "stream",
                    "text": [
                        "<class 'pandas.core.frame.DataFrame'>\n",
                        "Index: 58 entries, 186 to 243\n",
                        "Data columns (total 1 columns):\n",
                        " #   Column  Non-Null Count  Dtype \n",
                        "---  ------  --------------  ----- \n",
                        " 0   COUNTY  58 non-null     object\n",
                        "dtypes: object(1)\n",
                        "memory usage: 928.0+ bytes\n"
                    ]
                }
            ],
            "source": [
                "df_population[\n",
                "    (df_population[\"STATE\"] == \"California\") & (df_population[\"YEAR\"] == \"2005-2009\")\n",
                "][[\"COUNTY\"]].info()"
            ]
        },
        {
            "cell_type": "markdown",
            "metadata": {},
            "source": [
                "### Exercise 5\n",
                "\n",
                "Once you feel like you have a good sense of the relation between our arrest and population data, merge the two datasets."
            ]
        },
        {
            "cell_type": "code",
            "execution_count": 11,
            "metadata": {},
            "outputs": [],
            "source": [
                "# merging datasets\n",
                "df_combined = pd.merge(\n",
                "    df_arrests,\n",
                "    df_population[\n",
                "        (df_population[\"STATE\"] == \"California\")\n",
                "        & (df_population[\"YEAR\"] == \"2005-2009\")\n",
                "    ],\n",
                "    on=\"COUNTY\",\n",
                "    how=\"left\",\n",
                ")"
            ]
        },
        {
            "cell_type": "markdown",
            "metadata": {},
            "source": [
                "### Exercise 6\n",
                "\n",
                "When merging data, the result will only be meaningful if your understanding of how the data sets you are merging relate to one another are correct. In some ways, this is obvious — for example, if the variable(s) that you are using to merge observations in the two datasets or to actually identifying observations that should be linked, then obviously merging using those variables will create a meaningless new dataset.\n",
                "\n",
                "But other properties that matter are often more subtle. For example, it's important to figure out whether your merge is a `1-to-1` merge (meaning there is only one observation of the variable you're merging on in both datasets), a `1-to-many` merge (meaning there is only one observation of the variable you're merging on in the first dataset, but multiple observations in the second), or a `many-to-many` merge (something you almost never do). \n",
                "\n",
                "Being correct in your assumptions about these things is *very* important. If you think there's only one observation per value of your merging variable in each dataset, but there are in fact 2, you'll end up with two observations for each value after the merge. Moreover, not only is the structure of your data now a mess, but the fact you were wrong means you didn't understand something about your data. \n",
                "\n",
                "So before running a merge, it is critical to answer the following questions:\n",
                "\n",
                "a) What variable(s) do you think will be consistent across these two datasets you can use for merging? \n",
                "\n",
                "b) Do you think there will be exactly 1 observation for each value of this variable(s) in your arrest data?\n",
                "\n",
                "c) Do you think there will be exactly 1 observation for each value of this variable(s) in your population data?\n",
                "\n",
                "So in markdown, answer these three questions for this data.\n",
                "\n",
                "\n",
                "Then also specify the type of merge you were hoping to accomplish as one of the following strings — `\"one-to-one\"`, `\"one-to-many\"`, `\"many-to-one\"`, or `\"many-to-many\"` — in your `results` dictionary under the key `\"ex6_validate_keyword\"`. Assume that the first dataset we are talking about (e.g., the `one` in `one-to-many`, if that were your selection) is your arrests data and the second dataset (e.g., the `many` in `one-to-many`, if that were your selection)."
            ]
        },
        {
            "cell_type": "markdown",
            "metadata": {},
            "source": [
                "## Observations\n",
                "1. I picked up the \"COUNTY\" columns for the merge as they seemed to be consistent across the 2  datasets.\n",
                "2. Each county occoured only 1 time in the arrests dataset as verified by using the \"value_counts()\" function, so I believe that this variable will have only 1 observation in the arrests dataset.\n",
                "3. Once I filtered for California and the correct year, there were 58 entries which matches with the number of disctricts in the Arrests dataset. so I believe there will be 1 observation for each value of this variable in the population dataset Once we put the filters as mentioned"
            ]
        },
        {
            "cell_type": "code",
            "execution_count": 12,
            "metadata": {},
            "outputs": [
                {
                    "name": "stdout",
                    "output_type": "stream",
                    "text": [
                        "I Expected a 'one-to-one' mapping to occour in the merge\n"
                    ]
                }
            ],
            "source": [
                "results[\"ex6_validate_keyword\"] = \"one-to-one\"\n",
                "print(f\"I Expected a 'one-to-one' mapping to occour in the merge\")"
            ]
        },
        {
            "cell_type": "markdown",
            "metadata": {},
            "source": [
                "## Merge Validation\n",
                "\n",
                "Because of the importance of answering these questions accurately, `pandas` provides a utility for *validating* these assumptions when you do a merge: the `validate` keyword! Validate will accept `\"1:1\"`, `\"1:m\"`, `\"m:1\"`, and `\"m:m\"`. It will then check to make sure your merge matches the type of merge you think it is. I *highly* recommend always using this option (...and not just because I'm the one who added `validate` to pandas).\n",
                "\n",
                "*Note:* `validate` only actually tests if observations are unique when a `1` is specified; if you do a `1:1` merge but pass `validate=\"1:m\"`, `validate=\"m:1\"`, or `validate=\"m:m\"`, you won't get an error — a one-to-many merge that turns out to be a one-to-one isn't nearly as dangerous as a one-to-one merge that turns out to be one-to-many.\n",
                "\n",
                "### Exercise 7\n",
                "\n",
                "Repeat the merge you conducted above, but this time use the `validate` to make sure your assumptions about the data were correct. If you find that you made a mistake, revise your data until the merge you think is correct actually takes place.\n",
                "\n",
                "To aid the autograder, please make sure to comment out any code that generates an error.\n",
                "\n"
            ]
        },
        {
            "cell_type": "code",
            "execution_count": 13,
            "metadata": {},
            "outputs": [],
            "source": [
                "# merging datasets with validate parameter\n",
                "df_combined_2 = pd.merge(\n",
                "    df_arrests,\n",
                "    df_population[\n",
                "        (df_population[\"STATE\"] == \"California\")\n",
                "        & (df_population[\"YEAR\"] == \"2005-2009\")\n",
                "    ],\n",
                "    on=\"COUNTY\",\n",
                "    how=\"left\",\n",
                "    validate=\"1:1\",\n",
                ")"
            ]
        },
        {
            "cell_type": "markdown",
            "metadata": {},
            "source": [
                "### Exercise 8\n",
                "\n",
                "Were your assumptions about the data correct? If not, what had you (implicitly) assumed when you did your merge in Exercise 5 that turned out not to be correct?"
            ]
        },
        {
            "cell_type": "markdown",
            "metadata": {},
            "source": [
                "## Observations\n",
                "The assumptions i made about the data initially were correct since the same merge with the \"validate\" parameter set to \"1:1\" ran without any error."
            ]
        },
        {
            "cell_type": "markdown",
            "metadata": {},
            "source": [
                "## Merge Diagnostics\n",
                "\n",
                "### Exercise 9\n",
                "\n",
                "Checking whether you are doing a 1-to-1, many-to-1, 1-to-many, or many-to-many merge is only the first type of diagnostic test you should run on *every* merge you conduct. The second test is to see if you data merged successfully!\n",
                "\n",
                "To help with this, the `merge` function in pandas offers a keyword option called `indicator`. If you set `indicator` to `True`, then pandas will add a column to the result of your merge called `_merge`. This variable will tell you, for each observation in your merged data, whether: \n",
                "\n",
                "- that observation came from a successful merge of both datasets, \n",
                "- if that observation was in the left dataset (the first one you passed) but not the right dataset (the second one you passed), or \n",
                "- if that observation was in the right dataset but not the left. \n",
                "\n",
                "This allows you to quickly identify failed merges!\n",
                "\n",
                "For example, suppose you had the following data:"
            ]
        },
        {
            "cell_type": "code",
            "execution_count": 14,
            "metadata": {},
            "outputs": [
                {
                    "data": {
                        "text/html": [
                            "<div>\n",
                            "<style scoped>\n",
                            "    .dataframe tbody tr th:only-of-type {\n",
                            "        vertical-align: middle;\n",
                            "    }\n",
                            "\n",
                            "    .dataframe tbody tr th {\n",
                            "        vertical-align: top;\n",
                            "    }\n",
                            "\n",
                            "    .dataframe thead th {\n",
                            "        text-align: right;\n",
                            "    }\n",
                            "</style>\n",
                            "<table border=\"1\" class=\"dataframe\">\n",
                            "  <thead>\n",
                            "    <tr style=\"text-align: right;\">\n",
                            "      <th></th>\n",
                            "      <th>key</th>\n",
                            "      <th>df1_var</th>\n",
                            "    </tr>\n",
                            "  </thead>\n",
                            "  <tbody>\n",
                            "    <tr>\n",
                            "      <th>0</th>\n",
                            "      <td>key1</td>\n",
                            "      <td>1</td>\n",
                            "    </tr>\n",
                            "    <tr>\n",
                            "      <th>1</th>\n",
                            "      <td>key2</td>\n",
                            "      <td>2</td>\n",
                            "    </tr>\n",
                            "  </tbody>\n",
                            "</table>\n",
                            "</div>"
                        ],
                        "text/plain": [
                            "    key  df1_var\n",
                            "0  key1        1\n",
                            "1  key2        2"
                        ]
                    },
                    "execution_count": 14,
                    "metadata": {},
                    "output_type": "execute_result"
                }
            ],
            "source": [
                "import pandas as pd\n",
                "import numpy as np\n",
                "\n",
                "pd.set_option(\"mode.copy_on_write\", True)\n",
                "\n",
                "df1 = pd.DataFrame({\"key\": [\"key1\", \"key2\"], \"df1_var\": [1, 2]})\n",
                "df1"
            ]
        },
        {
            "cell_type": "code",
            "execution_count": 15,
            "metadata": {},
            "outputs": [
                {
                    "data": {
                        "text/html": [
                            "<div>\n",
                            "<style scoped>\n",
                            "    .dataframe tbody tr th:only-of-type {\n",
                            "        vertical-align: middle;\n",
                            "    }\n",
                            "\n",
                            "    .dataframe tbody tr th {\n",
                            "        vertical-align: top;\n",
                            "    }\n",
                            "\n",
                            "    .dataframe thead th {\n",
                            "        text-align: right;\n",
                            "    }\n",
                            "</style>\n",
                            "<table border=\"1\" class=\"dataframe\">\n",
                            "  <thead>\n",
                            "    <tr style=\"text-align: right;\">\n",
                            "      <th></th>\n",
                            "      <th>key</th>\n",
                            "      <th>df2_var</th>\n",
                            "    </tr>\n",
                            "  </thead>\n",
                            "  <tbody>\n",
                            "    <tr>\n",
                            "      <th>0</th>\n",
                            "      <td>key1</td>\n",
                            "      <td>a</td>\n",
                            "    </tr>\n",
                            "    <tr>\n",
                            "      <th>1</th>\n",
                            "      <td>Key2</td>\n",
                            "      <td>b</td>\n",
                            "    </tr>\n",
                            "  </tbody>\n",
                            "</table>\n",
                            "</div>"
                        ],
                        "text/plain": [
                            "    key df2_var\n",
                            "0  key1       a\n",
                            "1  Key2       b"
                        ]
                    },
                    "execution_count": 15,
                    "metadata": {},
                    "output_type": "execute_result"
                }
            ],
            "source": [
                "df2 = pd.DataFrame({\"key\": [\"key1\", \"Key2\"], \"df2_var\": [\"a\", \"b\"]})\n",
                "df2"
            ]
        },
        {
            "cell_type": "markdown",
            "metadata": {},
            "source": [
                "Now suppose you *expected* that all observations should merge when you merge these datasets (because you hadn't noticed the typo in `df2` where `key2` has a capital `Key2`. If you just run a merge, it works without any problems:"
            ]
        },
        {
            "cell_type": "code",
            "execution_count": 16,
            "metadata": {},
            "outputs": [],
            "source": [
                "new_data = pd.merge(df1, df2, on=\"key\", how=\"outer\")"
            ]
        },
        {
            "cell_type": "markdown",
            "metadata": {},
            "source": [
                "And so you might carry on in life unaware your data is now corrupted: instead of two merged rows, you now have 3, only 1 of which merged correctly!"
            ]
        },
        {
            "cell_type": "code",
            "execution_count": 17,
            "metadata": {},
            "outputs": [
                {
                    "data": {
                        "text/html": [
                            "<div>\n",
                            "<style scoped>\n",
                            "    .dataframe tbody tr th:only-of-type {\n",
                            "        vertical-align: middle;\n",
                            "    }\n",
                            "\n",
                            "    .dataframe tbody tr th {\n",
                            "        vertical-align: top;\n",
                            "    }\n",
                            "\n",
                            "    .dataframe thead th {\n",
                            "        text-align: right;\n",
                            "    }\n",
                            "</style>\n",
                            "<table border=\"1\" class=\"dataframe\">\n",
                            "  <thead>\n",
                            "    <tr style=\"text-align: right;\">\n",
                            "      <th></th>\n",
                            "      <th>key</th>\n",
                            "      <th>df1_var</th>\n",
                            "      <th>df2_var</th>\n",
                            "    </tr>\n",
                            "  </thead>\n",
                            "  <tbody>\n",
                            "    <tr>\n",
                            "      <th>0</th>\n",
                            "      <td>key1</td>\n",
                            "      <td>1.0</td>\n",
                            "      <td>a</td>\n",
                            "    </tr>\n",
                            "    <tr>\n",
                            "      <th>1</th>\n",
                            "      <td>key2</td>\n",
                            "      <td>2.0</td>\n",
                            "      <td>NaN</td>\n",
                            "    </tr>\n",
                            "    <tr>\n",
                            "      <th>2</th>\n",
                            "      <td>Key2</td>\n",
                            "      <td>NaN</td>\n",
                            "      <td>b</td>\n",
                            "    </tr>\n",
                            "  </tbody>\n",
                            "</table>\n",
                            "</div>"
                        ],
                        "text/plain": [
                            "    key  df1_var df2_var\n",
                            "0  key1      1.0       a\n",
                            "1  key2      2.0     NaN\n",
                            "2  Key2      NaN       b"
                        ]
                    },
                    "execution_count": 17,
                    "metadata": {},
                    "output_type": "execute_result"
                }
            ],
            "source": [
                "new_data"
            ]
        },
        {
            "cell_type": "markdown",
            "metadata": {},
            "source": [
                "When what you really wanted was: "
            ]
        },
        {
            "cell_type": "code",
            "execution_count": 18,
            "metadata": {},
            "outputs": [
                {
                    "data": {
                        "text/html": [
                            "<div>\n",
                            "<style scoped>\n",
                            "    .dataframe tbody tr th:only-of-type {\n",
                            "        vertical-align: middle;\n",
                            "    }\n",
                            "\n",
                            "    .dataframe tbody tr th {\n",
                            "        vertical-align: top;\n",
                            "    }\n",
                            "\n",
                            "    .dataframe thead th {\n",
                            "        text-align: right;\n",
                            "    }\n",
                            "</style>\n",
                            "<table border=\"1\" class=\"dataframe\">\n",
                            "  <thead>\n",
                            "    <tr style=\"text-align: right;\">\n",
                            "      <th></th>\n",
                            "      <th>key</th>\n",
                            "      <th>df1_var</th>\n",
                            "      <th>df2_var</th>\n",
                            "    </tr>\n",
                            "  </thead>\n",
                            "  <tbody>\n",
                            "    <tr>\n",
                            "      <th>0</th>\n",
                            "      <td>key1</td>\n",
                            "      <td>1</td>\n",
                            "      <td>a</td>\n",
                            "    </tr>\n",
                            "    <tr>\n",
                            "      <th>1</th>\n",
                            "      <td>key2</td>\n",
                            "      <td>2</td>\n",
                            "      <td>b</td>\n",
                            "    </tr>\n",
                            "  </tbody>\n",
                            "</table>\n",
                            "</div>"
                        ],
                        "text/plain": [
                            "    key  df1_var df2_var\n",
                            "0  key1        1       a\n",
                            "1  key2        2       b"
                        ]
                    },
                    "execution_count": 18,
                    "metadata": {},
                    "output_type": "execute_result"
                }
            ],
            "source": [
                "df2_correct = df2.copy()\n",
                "df2_correct.loc[df2.key == \"Key2\", \"key\"] = \"key2\"\n",
                "pd.merge(df1, df2_correct, on=\"key\", how=\"outer\")"
            ]
        },
        {
            "cell_type": "markdown",
            "metadata": {},
            "source": [
                "(in a small dataset, you'd quickly see you have 1 row instead of 2, but if you have millions of rows, a couple missing won't be evident). \n",
                "\n",
                "But now suppose we use the `indicator` function:"
            ]
        },
        {
            "cell_type": "code",
            "execution_count": 19,
            "metadata": {},
            "outputs": [
                {
                    "data": {
                        "text/plain": [
                            "_merge\n",
                            "left_only     1\n",
                            "right_only    1\n",
                            "both          1\n",
                            "Name: count, dtype: int64"
                        ]
                    },
                    "execution_count": 19,
                    "metadata": {},
                    "output_type": "execute_result"
                }
            ],
            "source": [
                "new_data = pd.merge(df1, df2, on=\"key\", how=\"outer\", indicator=True)\n",
                "new_data._merge.value_counts()"
            ]
        },
        {
            "cell_type": "markdown",
            "metadata": {},
            "source": [
                "We could immediately see that only one observation merged correct, and that one row from each dataset failed to merge!\n",
                "\n",
                "Moreover, we can look at the failed merges:"
            ]
        },
        {
            "cell_type": "code",
            "execution_count": 20,
            "metadata": {},
            "outputs": [
                {
                    "data": {
                        "text/html": [
                            "<div>\n",
                            "<style scoped>\n",
                            "    .dataframe tbody tr th:only-of-type {\n",
                            "        vertical-align: middle;\n",
                            "    }\n",
                            "\n",
                            "    .dataframe tbody tr th {\n",
                            "        vertical-align: top;\n",
                            "    }\n",
                            "\n",
                            "    .dataframe thead th {\n",
                            "        text-align: right;\n",
                            "    }\n",
                            "</style>\n",
                            "<table border=\"1\" class=\"dataframe\">\n",
                            "  <thead>\n",
                            "    <tr style=\"text-align: right;\">\n",
                            "      <th></th>\n",
                            "      <th>key</th>\n",
                            "      <th>df1_var</th>\n",
                            "      <th>df2_var</th>\n",
                            "      <th>_merge</th>\n",
                            "    </tr>\n",
                            "  </thead>\n",
                            "  <tbody>\n",
                            "    <tr>\n",
                            "      <th>1</th>\n",
                            "      <td>key2</td>\n",
                            "      <td>2.0</td>\n",
                            "      <td>NaN</td>\n",
                            "      <td>left_only</td>\n",
                            "    </tr>\n",
                            "    <tr>\n",
                            "      <th>2</th>\n",
                            "      <td>Key2</td>\n",
                            "      <td>NaN</td>\n",
                            "      <td>b</td>\n",
                            "      <td>right_only</td>\n",
                            "    </tr>\n",
                            "  </tbody>\n",
                            "</table>\n",
                            "</div>"
                        ],
                        "text/plain": [
                            "    key  df1_var df2_var      _merge\n",
                            "1  key2      2.0     NaN   left_only\n",
                            "2  Key2      NaN       b  right_only"
                        ]
                    },
                    "execution_count": 20,
                    "metadata": {},
                    "output_type": "execute_result"
                }
            ],
            "source": [
                "new_data[new_data._merge != \"both\"]"
            ]
        },
        {
            "cell_type": "markdown",
            "metadata": {},
            "source": [
                "Allowing us to easily diagnose the problem. \n",
                "\n",
                "**Note:** The `pandas` merge function allows users to decide whether to keep only observations that merge (`how='inner'`), all the observations from the first dataset pasted to merge (`how='left'`), all the observations from the second dataset passed to merge (`how='right'`), or all observations (`how='outer'`):\n",
                "\n",
                "![join_types](https://nickeubank.github.io/practicaldatascience_book/_images/3.4.15_merge_types.png)\n",
                "\n",
                "But one danger to using the more restrictive options (like the default, `how='inner'`) is that the merge throws away all the observations that fail to merge, and while this may be the *eventual* goal of your analysis, it means that you don't get to see all the observations that failed to merge that maybe you thought *would* merge. In other words, it throws away the errors so you can't look at them!  \n",
                "\n",
                "So to use `indicator` effectively, you have to:\n",
                "\n",
                "- Not use `how=\"inner\"`, and\n",
                "- Check the values of `_merge` after your merge. "
            ]
        },
        {
            "cell_type": "markdown",
            "metadata": {},
            "source": [
                "### Exercise 10\n",
                "\n",
                "Now repeat your previous merge using *both* the `validate` keyword *and* the `indicator` keyword with `how='outer'`. \n",
                "\n",
                "How many observations successfully merged (were in both datasets)? Store the result in `results` under the key `\"ex10_merged_successfully\"`."
            ]
        },
        {
            "cell_type": "code",
            "execution_count": 21,
            "metadata": {},
            "outputs": [],
            "source": [
                "# merging datasets with validate and indicator parameters\n",
                "df_combined_3 = pd.merge(\n",
                "    df_arrests,\n",
                "    df_population[\n",
                "        (df_population[\"STATE\"] == \"California\")\n",
                "        & (df_population[\"YEAR\"] == \"2005-2009\")\n",
                "    ],\n",
                "    on=\"COUNTY\",\n",
                "    how=\"outer\",\n",
                "    validate=\"1:1\",\n",
                "    indicator=True,\n",
                ")"
            ]
        },
        {
            "cell_type": "code",
            "execution_count": 22,
            "metadata": {},
            "outputs": [
                {
                    "data": {
                        "text/plain": [
                            "_merge\n",
                            "both          56\n",
                            "left_only      2\n",
                            "right_only     2\n",
                            "Name: count, dtype: int64"
                        ]
                    },
                    "execution_count": 22,
                    "metadata": {},
                    "output_type": "execute_result"
                }
            ],
            "source": [
                "# validate the merge\n",
                "df_combined_3._merge.value_counts()"
            ]
        },
        {
            "cell_type": "code",
            "execution_count": 23,
            "metadata": {},
            "outputs": [
                {
                    "name": "stdout",
                    "output_type": "stream",
                    "text": [
                        "Out of the expected 58 correct merges, only 56 occoured correctly\n"
                    ]
                }
            ],
            "source": [
                "# Save and print the results\n",
                "results[\"ex10_merged_successfully\"] = 56\n",
                "print(\"Out of the expected 58 correct merges, only 56 occoured correctly\")"
            ]
        },
        {
            "cell_type": "markdown",
            "metadata": {},
            "source": [
                "### Exercise 11\n",
                "\n",
                "You *should* be able to get to the point that all counties in our arrest data merge with population data. If that did not happen, can you figure out why that did not happen? Can you fix the data so that all arrest data merges with population data?"
            ]
        },
        {
            "cell_type": "code",
            "execution_count": 24,
            "metadata": {},
            "outputs": [
                {
                    "data": {
                        "text/html": [
                            "<div>\n",
                            "<style scoped>\n",
                            "    .dataframe tbody tr th:only-of-type {\n",
                            "        vertical-align: middle;\n",
                            "    }\n",
                            "\n",
                            "    .dataframe tbody tr th {\n",
                            "        vertical-align: top;\n",
                            "    }\n",
                            "\n",
                            "    .dataframe thead th {\n",
                            "        text-align: right;\n",
                            "    }\n",
                            "</style>\n",
                            "<table border=\"1\" class=\"dataframe\">\n",
                            "  <thead>\n",
                            "    <tr style=\"text-align: right;\">\n",
                            "      <th></th>\n",
                            "      <th>Unnamed: 0_x</th>\n",
                            "      <th>COUNTY</th>\n",
                            "      <th>VIOLENT</th>\n",
                            "      <th>PROPERTY</th>\n",
                            "      <th>F_DRUGOFF</th>\n",
                            "      <th>F_SEXOFF</th>\n",
                            "      <th>F_ALLOTHER</th>\n",
                            "      <th>F_TOTAL</th>\n",
                            "      <th>M_TOTAL</th>\n",
                            "      <th>S_TOTAL</th>\n",
                            "      <th>Unnamed: 0_y</th>\n",
                            "      <th>YEAR</th>\n",
                            "      <th>STATE</th>\n",
                            "      <th>total_population</th>\n",
                            "      <th>_merge</th>\n",
                            "    </tr>\n",
                            "  </thead>\n",
                            "  <tbody>\n",
                            "    <tr>\n",
                            "      <th>7</th>\n",
                            "      <td>1689.0</td>\n",
                            "      <td>Del Norte County</td>\n",
                            "      <td>144.0</td>\n",
                            "      <td>104.0</td>\n",
                            "      <td>79.0</td>\n",
                            "      <td>13.0</td>\n",
                            "      <td>97.0</td>\n",
                            "      <td>437.0</td>\n",
                            "      <td>1268.0</td>\n",
                            "      <td>5.0</td>\n",
                            "      <td>NaN</td>\n",
                            "      <td>NaN</td>\n",
                            "      <td>NaN</td>\n",
                            "      <td>NaN</td>\n",
                            "      <td>left_only</td>\n",
                            "    </tr>\n",
                            "    <tr>\n",
                            "      <th>13</th>\n",
                            "      <td>1695.0</td>\n",
                            "      <td>Inyo County</td>\n",
                            "      <td>81.0</td>\n",
                            "      <td>44.0</td>\n",
                            "      <td>39.0</td>\n",
                            "      <td>3.0</td>\n",
                            "      <td>38.0</td>\n",
                            "      <td>205.0</td>\n",
                            "      <td>851.0</td>\n",
                            "      <td>1.0</td>\n",
                            "      <td>NaN</td>\n",
                            "      <td>NaN</td>\n",
                            "      <td>NaN</td>\n",
                            "      <td>NaN</td>\n",
                            "      <td>left_only</td>\n",
                            "    </tr>\n",
                            "    <tr>\n",
                            "      <th>58</th>\n",
                            "      <td>NaN</td>\n",
                            "      <td>DelNorte County</td>\n",
                            "      <td>NaN</td>\n",
                            "      <td>NaN</td>\n",
                            "      <td>NaN</td>\n",
                            "      <td>NaN</td>\n",
                            "      <td>NaN</td>\n",
                            "      <td>NaN</td>\n",
                            "      <td>NaN</td>\n",
                            "      <td>NaN</td>\n",
                            "      <td>193.0</td>\n",
                            "      <td>2005-2009</td>\n",
                            "      <td>California</td>\n",
                            "      <td>28729.0</td>\n",
                            "      <td>right_only</td>\n",
                            "    </tr>\n",
                            "    <tr>\n",
                            "      <th>59</th>\n",
                            "      <td>NaN</td>\n",
                            "      <td>Injo County</td>\n",
                            "      <td>NaN</td>\n",
                            "      <td>NaN</td>\n",
                            "      <td>NaN</td>\n",
                            "      <td>NaN</td>\n",
                            "      <td>NaN</td>\n",
                            "      <td>NaN</td>\n",
                            "      <td>NaN</td>\n",
                            "      <td>NaN</td>\n",
                            "      <td>199.0</td>\n",
                            "      <td>2005-2009</td>\n",
                            "      <td>California</td>\n",
                            "      <td>17438.0</td>\n",
                            "      <td>right_only</td>\n",
                            "    </tr>\n",
                            "  </tbody>\n",
                            "</table>\n",
                            "</div>"
                        ],
                        "text/plain": [
                            "    Unnamed: 0_x            COUNTY  VIOLENT  PROPERTY  F_DRUGOFF  F_SEXOFF  \\\n",
                            "7         1689.0  Del Norte County    144.0     104.0       79.0      13.0   \n",
                            "13        1695.0       Inyo County     81.0      44.0       39.0       3.0   \n",
                            "58           NaN   DelNorte County      NaN       NaN        NaN       NaN   \n",
                            "59           NaN       Injo County      NaN       NaN        NaN       NaN   \n",
                            "\n",
                            "    F_ALLOTHER  F_TOTAL  M_TOTAL  S_TOTAL  Unnamed: 0_y       YEAR  \\\n",
                            "7         97.0    437.0   1268.0      5.0           NaN        NaN   \n",
                            "13        38.0    205.0    851.0      1.0           NaN        NaN   \n",
                            "58         NaN      NaN      NaN      NaN         193.0  2005-2009   \n",
                            "59         NaN      NaN      NaN      NaN         199.0  2005-2009   \n",
                            "\n",
                            "         STATE  total_population      _merge  \n",
                            "7          NaN               NaN   left_only  \n",
                            "13         NaN               NaN   left_only  \n",
                            "58  California           28729.0  right_only  \n",
                            "59  California           17438.0  right_only  "
                        ]
                    },
                    "execution_count": 24,
                    "metadata": {},
                    "output_type": "execute_result"
                }
            ],
            "source": [
                "# Check rows which did not merge as expected\n",
                "df_combined_3[df_combined_3._merge != \"both\"]"
            ]
        },
        {
            "cell_type": "code",
            "execution_count": 25,
            "metadata": {},
            "outputs": [],
            "source": [
                "# correcting Data\n",
                "df_population_corrected = df_population.copy()\n",
                "df_population_corrected.loc[\n",
                "    df_population_corrected.COUNTY == \"DelNorte County\", \"COUNTY\"\n",
                "] = \"Del Norte County\"\n",
                "df_population_corrected.loc[\n",
                "    df_population_corrected.COUNTY == \"Injo County\", \"COUNTY\"\n",
                "] = \"Inyo County\""
            ]
        },
        {
            "cell_type": "code",
            "execution_count": 26,
            "metadata": {},
            "outputs": [],
            "source": [
                "# perform merge using the corrected data\n",
                "df_combined_4 = pd.merge(\n",
                "    df_arrests,\n",
                "    df_population_corrected[\n",
                "        (df_population[\"STATE\"] == \"California\")\n",
                "        & (df_population[\"YEAR\"] == \"2005-2009\")\n",
                "    ],\n",
                "    on=\"COUNTY\",\n",
                "    how=\"outer\",\n",
                "    validate=\"1:1\",\n",
                "    indicator=True,\n",
                ")"
            ]
        },
        {
            "cell_type": "code",
            "execution_count": 27,
            "metadata": {},
            "outputs": [
                {
                    "data": {
                        "text/plain": [
                            "_merge\n",
                            "both          58\n",
                            "left_only      0\n",
                            "right_only     0\n",
                            "Name: count, dtype: int64"
                        ]
                    },
                    "execution_count": 27,
                    "metadata": {},
                    "output_type": "execute_result"
                }
            ],
            "source": [
                "# Validate Merge\n",
                "df_combined_4._merge.value_counts()"
            ]
        },
        {
            "cell_type": "markdown",
            "metadata": {},
            "source": [
                "## Comparing Arrest Rates\n",
                "\n",
                "### Exercise 12\n",
                "\n",
                "Now that we have arrest counts and population data, we can calculate arrest *rates*. For each county, create a new variable called `violent_arrest_rate_2009` that is the number of violent arrests for 2009 divided by the population of the county from 2005-2009, and a similar new variable called `drug_arrest_rate_2009` for drug arrests divided by population."
            ]
        },
        {
            "cell_type": "code",
            "execution_count": 28,
            "metadata": {},
            "outputs": [],
            "source": [
                "# creating columns for violent-arrest rate and drug-arrest rate\n",
                "df_combined_4[\"violent_arrest_rate_2009\"] = (\n",
                "    df_combined_4[\"VIOLENT\"] / df_combined_4[\"total_population\"]\n",
                ")\n",
                "df_combined_4[\"drug_arrest_rate_2009\"] = (\n",
                "    df_combined_4[\"F_DRUGOFF\"] / df_combined_4[\"total_population\"]\n",
                ")"
            ]
        },
        {
            "cell_type": "markdown",
            "metadata": {},
            "source": [
                "### Exercise 13\n",
                "\n",
                "Make a scatter plot that shows the relationship between each county's violent arrest rate and it's drug arrest rate. Since we haven't done a lot with plotting yet, feel free to plot in whatever manner feels most comfortable. The easiest, if you're unsure, is just to use the `pandas` inbuilt `.plot()` method. Just specify the `x` keyword with your x-axis variable, the `y` keyword with your y-axis variable, and use `kind=\"scatter\"`."
            ]
        },
        {
            "cell_type": "code",
            "execution_count": 29,
            "metadata": {},
            "outputs": [
                {
                    "data": {
                        "text/plain": [
                            "Text(0.5, 1.0, 'Violent Crime vs Drug Crime Arrest Rate - 2009')"
                        ]
                    },
                    "execution_count": 29,
                    "metadata": {},
                    "output_type": "execute_result"
                },
                {
                    "data": {
                        "image/png": "[encoded data removed]",
                        "text/plain": [
                            "<Figure size 640x480 with 1 Axes>"
                        ]
                    },
                    "metadata": {},
                    "output_type": "display_data"
                }
            ],
            "source": [
                "# Plot the Data\n",
                "plt.scatter(data=df_combined_4, x=\"drug_arrest_rate_2009\", y=\"violent_arrest_rate_2009\")\n",
                "plt.xlabel(\"Drug Crime Arrest Rate\")\n",
                "plt.ylabel(\"Violent Crime Arrest Rate\")\n",
                "plt.title(\"Violent Crime vs Drug Crime Arrest Rate - 2009\")"
            ]
        },
        {
            "cell_type": "markdown",
            "metadata": {},
            "source": [
                "### Exercise 14\n",
                "\n",
                "Based on this simple comparison of 2009 violent arrest rates and drug arrest rates, what might you conclude about the relationship between the illegal drug trade and violent crime?"
            ]
        },
        {
            "cell_type": "markdown",
            "metadata": {},
            "source": [
                "## Observations\n",
                "Based on the graph, there seems to be a slight correlation between the violent arrests and the drug related arrests barring a few outliers"
            ]
        },
        {
            "cell_type": "markdown",
            "metadata": {},
            "source": [
                "## Comparing with 2018 Arrests\n",
                "\n",
                "The preceding analysis can tell us about whether violent crime and the drug trade are correlated, but it doesn't tell us much about whether they are *causally* related. It *could* be the case that people dealing drugs *cause* more violent crime, but it could also be that certain communities, for some other reason, tend to have *both* more drug sales *and* more violent crime. \n",
                "\n",
                "To help answer this question, let's examine whether violent crime arrest rates changed in response to drug legalization. In particular, let's do this by comparing violent crime arrest rates in 2009 (before drug legalization) to violent crime arrest rates in 2018 (after drug legalization). If the illegal drug trade causes violent crime, then we would expect the violent crime rate to fall in response to drug legalization.\n"
            ]
        },
        {
            "cell_type": "markdown",
            "metadata": {},
            "source": [
                "### Exercise 15\n",
                "\n",
                "Just as we created violent arrest rates and drug arrest rates for 2009, now we want to do it for 2018. Using the data on 2018 arrests (also in the [same repository](https://github.com/nickeubank/practicaldatascience/tree/master/Example_Data/ca) we used before) and the same dataset of population data (you'll have to use population from 2013-2017, as 2018 population data has yet to be released), create a dataset of arrest rates. \n",
                "\n",
                "As before, *be careful with your merges!!!*"
            ]
        },
        {
            "cell_type": "code",
            "execution_count": 30,
            "metadata": {},
            "outputs": [],
            "source": [
                "# load new data\n",
                "df_arrests_2018 = pd.read_csv(\n",
                "    \"https://raw.githubusercontent.com/nickeubank/practicaldatascience/master/Example_Data/ca/ca_arrests_2018.csv\"\n",
                ")"
            ]
        },
        {
            "cell_type": "code",
            "execution_count": 31,
            "metadata": {},
            "outputs": [],
            "source": [
                "# Merge with Population Data, updated the year condition\n",
                "df_combined_5 = pd.merge(\n",
                "    df_arrests_2018,\n",
                "    df_population_corrected[\n",
                "        (df_population[\"STATE\"] == \"California\")\n",
                "        & (df_population[\"YEAR\"] == \"2013-2017\")\n",
                "    ],\n",
                "    on=\"COUNTY\",\n",
                "    how=\"outer\",\n",
                "    validate=\"1:1\",\n",
                "    indicator=True,\n",
                ")"
            ]
        },
        {
            "cell_type": "code",
            "execution_count": 32,
            "metadata": {},
            "outputs": [
                {
                    "data": {
                        "text/plain": [
                            "_merge\n",
                            "both          58\n",
                            "left_only      0\n",
                            "right_only     0\n",
                            "Name: count, dtype: int64"
                        ]
                    },
                    "execution_count": 32,
                    "metadata": {},
                    "output_type": "execute_result"
                }
            ],
            "source": [
                "# Verify Merge\n",
                "df_combined_5._merge.value_counts()"
            ]
        },
        {
            "cell_type": "code",
            "execution_count": 33,
            "metadata": {},
            "outputs": [],
            "source": [
                "# Calculate the Arrest rates as earlier\n",
                "df_combined_5[\"violent_arrest_rate_2018\"] = (\n",
                "    df_combined_5[\"VIOLENT\"] / df_combined_5[\"total_population\"]\n",
                ")\n",
                "df_combined_5[\"drug_arrest_rate_2018\"] = (\n",
                "    df_combined_5[\"F_DRUGOFF\"] / df_combined_5[\"total_population\"]\n",
                ")"
            ]
        },
        {
            "cell_type": "markdown",
            "metadata": {},
            "source": [
                "### Exercise 16\n",
                "\n",
                "Now merge our two county-level datasets so you have one row for every county, and variables for violent arrest rates in 2018, violent arrest rates in 2009, felony drug arrest rates in 2018, and felony drug arrest rates in 2009. Store the number of observations in your final data set in your `results` dictionary under the key `\"ex16_num_obs\"`."
            ]
        },
        {
            "cell_type": "code",
            "execution_count": 34,
            "metadata": {},
            "outputs": [],
            "source": [
                "# Merge the 2018 and 2009 Datasets\n",
                "df_combined_6 = pd.merge(\n",
                "    left=df_combined_4,\n",
                "    right=df_combined_5,\n",
                "    on=\"COUNTY\",\n",
                "    how=\"outer\",\n",
                "    validate=\"1:1\",\n",
                "    indicator=\"exists\",\n",
                ")"
            ]
        },
        {
            "cell_type": "code",
            "execution_count": 35,
            "metadata": {},
            "outputs": [
                {
                    "data": {
                        "text/plain": [
                            "exists\n",
                            "both          58\n",
                            "left_only      0\n",
                            "right_only     0\n",
                            "Name: count, dtype: int64"
                        ]
                    },
                    "execution_count": 35,
                    "metadata": {},
                    "output_type": "execute_result"
                }
            ],
            "source": [
                "# Validate the Merge (Note: 'exists' is used since _merge is already used in the prior merges)\n",
                "df_combined_6.exists.value_counts()"
            ]
        },
        {
            "cell_type": "code",
            "execution_count": 36,
            "metadata": {},
            "outputs": [
                {
                    "name": "stdout",
                    "output_type": "stream",
                    "text": [
                        "<class 'pandas.core.frame.DataFrame'>\n",
                        "RangeIndex: 58 entries, 0 to 57\n",
                        "Data columns (total 34 columns):\n",
                        " #   Column                    Non-Null Count  Dtype   \n",
                        "---  ------                    --------------  -----   \n",
                        " 0   Unnamed: 0_x_x            58 non-null     int64   \n",
                        " 1   COUNTY                    58 non-null     object  \n",
                        " 2   VIOLENT_x                 58 non-null     int64   \n",
                        " 3   PROPERTY_x                58 non-null     int64   \n",
                        " 4   F_DRUGOFF_x               58 non-null     int64   \n",
                        " 5   F_SEXOFF_x                58 non-null     int64   \n",
                        " 6   F_ALLOTHER_x              58 non-null     int64   \n",
                        " 7   F_TOTAL_x                 58 non-null     int64   \n",
                        " 8   M_TOTAL_x                 58 non-null     int64   \n",
                        " 9   S_TOTAL_x                 58 non-null     int64   \n",
                        " 10  Unnamed: 0_y_x            58 non-null     int64   \n",
                        " 11  YEAR_x                    58 non-null     object  \n",
                        " 12  STATE_x                   58 non-null     object  \n",
                        " 13  total_population_x        58 non-null     int64   \n",
                        " 14  _merge_x                  58 non-null     category\n",
                        " 15  violent_arrest_rate_2009  58 non-null     float64 \n",
                        " 16  drug_arrest_rate_2009     58 non-null     float64 \n",
                        " 17  Unnamed: 0_x_y            58 non-null     int64   \n",
                        " 18  VIOLENT_y                 58 non-null     int64   \n",
                        " 19  PROPERTY_y                58 non-null     int64   \n",
                        " 20  F_DRUGOFF_y               58 non-null     int64   \n",
                        " 21  F_SEXOFF_y                58 non-null     int64   \n",
                        " 22  F_ALLOTHER_y              58 non-null     int64   \n",
                        " 23  F_TOTAL_y                 58 non-null     int64   \n",
                        " 24  M_TOTAL_y                 58 non-null     int64   \n",
                        " 25  S_TOTAL_y                 58 non-null     int64   \n",
                        " 26  Unnamed: 0_y_y            58 non-null     int64   \n",
                        " 27  YEAR_y                    58 non-null     object  \n",
                        " 28  STATE_y                   58 non-null     object  \n",
                        " 29  total_population_y        58 non-null     int64   \n",
                        " 30  _merge_y                  58 non-null     category\n",
                        " 31  violent_arrest_rate_2018  58 non-null     float64 \n",
                        " 32  drug_arrest_rate_2018     58 non-null     float64 \n",
                        " 33  exists                    58 non-null     category\n",
                        "dtypes: category(3), float64(4), int64(22), object(5)\n",
                        "memory usage: 14.7+ KB\n"
                    ]
                }
            ],
            "source": [
                "df_combined_6.info()"
            ]
        },
        {
            "cell_type": "code",
            "execution_count": 37,
            "metadata": {},
            "outputs": [
                {
                    "name": "stdout",
                    "output_type": "stream",
                    "text": [
                        "The final Dataset has 58 observations\n"
                    ]
                }
            ],
            "source": [
                "# store and print results\n",
                "results[\"ex16_num_obs\"] = 58\n",
                "\n",
                "print(f\"The final Dataset has 58 observations\")"
            ]
        },
        {
            "cell_type": "markdown",
            "metadata": {},
            "source": [
                "### Exercise 17\n",
                "\n",
                "Did drug arrests go down from 2009 to 2018 in response to drug legalization? (they sure better! This is what's called a \"sanity check\" of your data and analysis. If you find drug arrests went *up*, you know something went wrong with your code or your understanding of the situations). \n",
                "\n",
                "Store the average county-level change in drug arrests per capita in `results` under the key `\"ex17_drug_change\"`."
            ]
        },
        {
            "cell_type": "code",
            "execution_count": 38,
            "metadata": {},
            "outputs": [
                {
                    "data": {
                        "text/plain": [
                            "-0.0022133472788366236"
                        ]
                    },
                    "execution_count": 38,
                    "metadata": {},
                    "output_type": "execute_result"
                }
            ],
            "source": [
                "# Calcualte difference (diff) in drug arest rates between 2009 and 2018\n",
                "diff = (\n",
                "    df_combined_6[\"drug_arrest_rate_2018\"] - df_combined_6[\"drug_arrest_rate_2009\"]\n",
                ").mean()\n",
                "diff"
            ]
        },
        {
            "cell_type": "code",
            "execution_count": 39,
            "metadata": {},
            "outputs": [
                {
                    "name": "stdout",
                    "output_type": "stream",
                    "text": [
                        "The Drug arrest rate went down by -0.0022 units between 2009 to 2018\n"
                    ]
                }
            ],
            "source": [
                "# store and print results\n",
                "results[\"ex17_drug_change\"] = diff\n",
                "\n",
                "print(f\"The Drug arrest rate went down by {diff:.4f} units between 2009 to 2018\")"
            ]
        },
        {
            "cell_type": "markdown",
            "metadata": {},
            "source": [
                "### Exercise 18\n",
                "\n",
                "Now we want to look at whether violent crime decreased following drug legalization. Did the average violent arrest rate decrease? By how much? (Note: We're assuming that arrest rates are proportionate to crime rates. If policing increased so that there were more arrests per crime committed, that would impact our interpretation of these results. But this is just an exercise, so...)\n",
                "\n",
                "Store the average county-level change in violent arrests per capita in `results` under the key `\"ex18_violent_change\"`"
            ]
        },
        {
            "cell_type": "code",
            "execution_count": 40,
            "metadata": {},
            "outputs": [
                {
                    "data": {
                        "text/plain": [
                            "-0.00028268480439183743"
                        ]
                    },
                    "execution_count": 40,
                    "metadata": {},
                    "output_type": "execute_result"
                }
            ],
            "source": [
                "# Calcualte difference (diff) in Violent Crime arest rates between 2009 and 2018\n",
                "diff_violent = (\n",
                "    df_combined_6[\"violent_arrest_rate_2018\"]\n",
                "    - df_combined_6[\"violent_arrest_rate_2009\"]\n",
                ").mean()\n",
                "diff_violent"
            ]
        },
        {
            "cell_type": "code",
            "execution_count": 41,
            "metadata": {},
            "outputs": [
                {
                    "name": "stdout",
                    "output_type": "stream",
                    "text": [
                        "The Violent arrest rate went down by -0.0003 units between 2009 to 2018\n"
                    ]
                }
            ],
            "source": [
                "# store and print results\n",
                "results[\"ex18_violent_change\"] = diff_violent\n",
                "\n",
                "print(\n",
                "    f\"The Violent arrest rate went down by {diff_violent:.4f} units between 2009 to 2018\"\n",
                ")"
            ]
        },
        {
            "cell_type": "markdown",
            "metadata": {},
            "source": [
                "### Exercise 19\n",
                "\n",
                "Based on your answers to exercises 17 and 18, what might you conclude about the relationship between the illegal drug trade and violent crime? Did legalizing drugs increase violent crime (assuming arrest rates are a good proxy for crime rates)? Decrease violent crime? Have no effect? "
            ]
        },
        {
            "cell_type": "markdown",
            "metadata": {},
            "source": [
                "## Observations\n",
                "Though by a very small amount, The legalization of Drugs seems to have reduced both the Drug and Violent crime related arrests between 2009 and 2018."
            ]
        },
        {
            "cell_type": "markdown",
            "metadata": {},
            "source": [
                "## Difference in Difference Analysis\n",
                "\n",
                "The preceding analysis is something we sometimes call a \"pre-post\" analysis, in that it is a comparison of how and outcome we care about (violent arrest rates) changes from before a treatment is introduced (\"pre\") to after (\"post\"). BUT: pre-post comparisons are imperfect. If we knew that violent crime was not going to change at all in a world without drug legalization, then this comparison is perfectly valid. But what if, absent drug legalization, violent crime would have fallen on its own (maybe because of advances in policing practices or a better economy)? Or maybe it would have increased?\n",
                "\n",
                "This is actually a very common problem. For example, imagine you're trying to figure out whether taking tylenol helps with headaches. You have a patient with a headache, you give them tylenol, and then the next day you ask them if they still have a headache, and find out that they don't — does that mean that tylenol cured the headache? Maybe... but most headaches eventually resolve on their own, so maybe the headache would have passed with or without the patient taking tylenol! In fact, there's a term for this phenomenon in medicine — the \"natural history\" of a disease, which is the trajectory that we think a disease might follow absent treatment. And the natural history of the disease is almost never for it to stay exactly the same indefinitely.\n",
                "\n",
                "(All of this is closely related to the discipline of causal inference, and if it makes your head to hurt, don't worry — that means you're doing it right! We will talk lots and lots more about it in the weeks and months to come.)\n",
                "\n",
                "One way to try to overcome this problem is with something called a difference-in-difference analysis. Rather than just looking at whether violent drug arrest rates increase or decrease between 2009 and 2018, we can split our sample of counties into those that were *more* impacted by drug legalization and those that were *less* impacted by drug legalization and evaluate whether we see a greater change in the violent drug arrest rate in the counties that were more impacted. \n",
                "\n",
                "What does it mean to have been \"more impacted\" by drug legalization? In this case, we can treat the counties that had higher drug arrest rates in 2009 as counties that were more impacted by drug legalization than those that had low drug arrest rates in 2009. After all, in a county that had no drug arrests, legalization wouldn't do anything, would it? \n"
            ]
        },
        {
            "cell_type": "markdown",
            "metadata": {},
            "source": [
                "\n",
                "### Exercise 20\n",
                "\n",
                "First, split our sample into two groups: high drug arrests in 2009, and low drug arrests in 2009 (cut the sample at the average drug arrest rate in 2009). \n"
            ]
        },
        {
            "cell_type": "code",
            "execution_count": 42,
            "metadata": {},
            "outputs": [],
            "source": [
                "# split data in 2 groups based on 2009 avg of drug arrest rates\n",
                "mean_2009 = df_combined_6[\"drug_arrest_rate_2009\"].mean()\n",
                "\n",
                "sub_high = df_combined_6[df_combined_6[\"drug_arrest_rate_2009\"] >= mean_2009]\n",
                "sub_low = df_combined_6[df_combined_6[\"drug_arrest_rate_2009\"] < mean_2009]"
            ]
        },
        {
            "cell_type": "markdown",
            "metadata": {},
            "source": [
                "\n",
                "### Exercise 21\n",
                "\n",
                "Now, determine weather violent crime changed *more* from 2009 to 2018 in the counties that had lots of drug arrests in 2009 (where legalization likely had more of an effect) than in counties with fewer drug arrests in 2009 (where legalization likely mattered less)? \n",
                "\n",
                "Calculate this difference-in-difference:\n",
                "\n",
                "```\n",
                "(the change in violent crime rate per capita for counties with lots of drug arrests in 2009) \n",
                "- (the change in violent crime rate per capita for counties with few drug arrests in 2009)\n",
                "\n",
                "```\n",
                "\n",
                "Store your \"difference-in-difference\" estimate in your `results` dictionary under the key `\"ex21_diffindiff\"`."
            ]
        },
        {
            "cell_type": "code",
            "execution_count": 43,
            "metadata": {},
            "outputs": [
                {
                    "data": {
                        "text/plain": [
                            "-0.000247393788613558"
                        ]
                    },
                    "execution_count": 43,
                    "metadata": {},
                    "output_type": "execute_result"
                }
            ],
            "source": [
                "# Calculate the Difference-in-Difference (did) for the groups with high and low arrest rate in 2009\n",
                "\n",
                "did_high = (\n",
                "    sub_high[\"violent_arrest_rate_2018\"] - sub_high[\"violent_arrest_rate_2009\"]\n",
                ").mean()\n",
                "\n",
                "did_low = (\n",
                "    sub_low[\"violent_arrest_rate_2018\"] - sub_low[\"violent_arrest_rate_2009\"]\n",
                ").mean()\n",
                "\n",
                "did_high - did_low"
            ]
        },
        {
            "cell_type": "code",
            "execution_count": 44,
            "metadata": {},
            "outputs": [],
            "source": [
                "results[\"ex21_diffindiff\"] = did_high - did_low"
            ]
        },
        {
            "cell_type": "markdown",
            "metadata": {},
            "source": [
                "### Exercise 22\n",
                "\n",
                "Interpret your difference in difference result."
            ]
        },
        {
            "cell_type": "markdown",
            "metadata": {},
            "source": [
                "## Observations\n",
                "The drop in the violent crime arrest rate was lower for the counties with high rates in 2009. This goes against the expectation that the counties with a higher arrest rate in 2009 should see a larger drop in it after legalization"
            ]
        },
        {
            "cell_type": "markdown",
            "metadata": {},
            "source": [
                "### Exercise 23\n",
                "\n",
                "The quantity we estimated above is a little difficult to interpret. Rather than calculating the *absolute* change in violent arrest rates per capita, let's calculate the *proportionate* change.\n",
                "\n",
                "Calculate:\n",
                "\n",
                "```\n",
                "(the county-level percentage change in violent crime rate with lots of drug arrests in 2009) \n",
                "- (the county-level percentage change in violent crime rate with few drug arrests in 2009)\n",
                "```\n",
                "Store your \"difference-in-difference\" estimate in your `results` dictionary under the key `\"ex24_diffindiff_proportionate\"`. Report your result in percentages, such that a value of `-100` would imply that the average county experienced a 100% decrease in the violent arrest rate."
            ]
        },
        {
            "cell_type": "code",
            "execution_count": 45,
            "metadata": {},
            "outputs": [
                {
                    "data": {
                        "text/plain": [
                            "-4.913794186222825"
                        ]
                    },
                    "execution_count": 45,
                    "metadata": {},
                    "output_type": "execute_result"
                }
            ],
            "source": [
                "# cacluate did in %\n",
                "\n",
                "did_high_p = (\n",
                "    (\n",
                "        (sub_high[\"violent_arrest_rate_2018\"] - sub_high[\"violent_arrest_rate_2009\"])\n",
                "        / sub_high[\"violent_arrest_rate_2009\"]\n",
                "    )\n",
                "    * 100\n",
                ").mean()\n",
                "\n",
                "did_low_p = (\n",
                "    (\n",
                "        (sub_low[\"violent_arrest_rate_2018\"] - sub_low[\"violent_arrest_rate_2009\"])\n",
                "        / sub_low[\"violent_arrest_rate_2009\"]\n",
                "    )\n",
                "    * 100\n",
                ").mean()\n",
                "did_high_p - did_low_p"
            ]
        },
        {
            "cell_type": "code",
            "execution_count": 46,
            "metadata": {},
            "outputs": [
                {
                    "name": "stdout",
                    "output_type": "stream",
                    "text": [
                        "The relative arrest rate was -4.91% for the counties with high arrest rates in 2009 as compared to those with lower arrest rate\n"
                    ]
                }
            ],
            "source": [
                "# Print and store results\n",
                "results[\"ex23_diffindiff_proportionate\"] = did_high_p - did_low_p\n",
                "\n",
                "print(\n",
                "    f\"The relative arrest rate was {results['ex23_diffindiff_proportionate']:.2f}% for the counties with high arrest rates in 2009 as compared to those with lower arrest rate\"\n",
                ")"
            ]
        },
        {
            "cell_type": "markdown",
            "metadata": {},
            "source": [
                "## Observations and Conclusion\n",
                "While there is a decrease in both the Violent Crime and Drug related arrest rate between 2009 and 2018, The drop on an average is lower for the counties which had higher rates in 2009 as compareed to the counties with lower arrest rates in 2009. This is contrary to the expectation and may suggest that some other factor may also be influencing the drop in the arrest rates."
            ]
        },
        {
            "cell_type": "code",
            "execution_count": 47,
            "metadata": {},
            "outputs": [],
            "source": [
                "# Assert Result Keys\n",
                "\n",
                "assert set(results.keys()) == {\n",
                "    \"ex6_validate_keyword\",\n",
                "    \"ex10_merged_successfully\",\n",
                "    \"ex16_num_obs\",\n",
                "    \"ex17_drug_change\",\n",
                "    \"ex18_violent_change\",\n",
                "    \"ex21_diffindiff\",\n",
                "    \"ex23_diffindiff_proportionate\",\n",
                "}"
            ]
        }
    ],
    "metadata": {
        "kernelspec": {
            "display_name": "Python 3.10.6 ('base')",
            "language": "python",
            "name": "python3"
        },
        "language_info": {
            "codemirror_mode": {
                "name": "ipython",
                "version": 3
            },
            "file_extension": ".py",
            "mimetype": "text/x-python",
            "name": "python",
            "nbconvert_exporter": "python",
            "pygments_lexer": "ipython3",
            "version": "3.11.5"
        },
        "vscode": {
            "interpreter": {
                "hash": "718fed28bf9f8c7851519acf2fb923cd655120b36de3b67253eeb0428bd33d2d"
            }
        }
    },
    "nbformat": 4,
    "nbformat_minor": 4
}
