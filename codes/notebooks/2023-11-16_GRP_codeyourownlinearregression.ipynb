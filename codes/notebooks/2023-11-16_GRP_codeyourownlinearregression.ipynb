{
 "cells": [
  {
   "cell_type": "markdown",
   "metadata": {},
   "source": [
    "# Coding Your Own Linear Regression Model\n",
    "\n",
    "One task that you will almost certainly be required to do other data science courses (especially if you are a MIDS student) is to write up some of your statistical / machine learning models from scratch. This can be a very valuable exercise, as it ensures that you understand what is actually going on behind the scenes of the models you use ever day, and that you don't just think of them as \"black boxes\". \n",
    "\n",
    "To get a little practice doing this, today you will be coding up your own linear regression model! \n",
    "\n",
    "(If you are using this site but aren't actually in this class, you are welcome to skip this exercise if you'd like -- this is more about practicing Python in anticipation of the requirements of other courses than developing your applied data science skills.) \n",
    "\n",
    "There are, broadly speaking, two approaches you can take to coding up your own model: \n",
    "\n",
    "1. you can write the model by defining a new function, or \n",
    "2. you can write the model by defining a new class with associated methods (making a model that works the way a model works in `scikit-learn`). \n",
    "\n",
    "Whether you do 1 or 2 is very much a matter of choice and style. Approach one, for example, is more consistent with what is called a *functional* style of programming, while approach two is more consistent with an *object-oriented* style of programming. Python can readily support both approaches, so either would work fine. \n",
    "\n",
    "In these exercises, however, I will ask you to use approach number 2 as this *tends* to be the more difficult approach, and so practicing approach 2 will be extra useful in preparing you for other classes (HA! Pun...). In particular, our goal is to implement a linear regression model that has the same \"initialize-fit-predict-score\" API (application programming interface -- a fancy name for the methods a class supports) as `scikit-learn` models. That means your model should be able to do all of the following:\n",
    "\n",
    "1. **Initialize** a new model. \n",
    "2. **Fit** a linear model when given a numpy vector (`y`) and a numpy matrix (`X`) with the syntax `my_model.fit(X, y)`. \n",
    "3. **Predict** values when given a new `numpy` matrix (`X_test`) with the syntax `my_model.predict(X_test)`. \n",
    "4. Return the **model coefficients** through the property `my_model.coefficients` (not quite what is used in `sklearn`, but let's use that interface). \n",
    "\n",
    "Also, bear in mind that throughout these exercises, we'll be working in `numpy` instead of `pandas`, just as we do in `scikit-learn`. So assume that before using your model, your user has already converted their data from `pandas` into `numpy` arrays. "
   ]
  },
  {
   "cell_type": "markdown",
   "metadata": {},
   "source": [
    "**(1)** Define a new Class called `MyLinearModel` with methods for `__init__`, `fit`, `predict`, and an attribute for `coefficients`. For now, we don't need any initialization *arguments*, just an `__init__` function. \n",
    "\n",
    "As you get your code outline going, start by just having each method `pass`:\n",
    "\n",
    "```python\n",
    "def my_method(self):\n",
    "    pass\n",
    "```\n",
    "\n",
    "This will allow your methods to run without errors (they just don't do anything). Then we can double back to each method to get them working one by one."
   ]
  },
  {
   "cell_type": "code",
   "execution_count": 1,
   "metadata": {},
   "outputs": [],
   "source": [
    "# Importing Required Libraries\n",
    "import numpy as np\n",
    "import statsmodels.api as sm"
   ]
  },
  {
   "cell_type": "code",
   "execution_count": 2,
   "metadata": {},
   "outputs": [],
   "source": [
    "class MyLinearModel:\n",
    "    \"\"\"Class to Manually Create a Linear Regression Model\"\"\"\n",
    "\n",
    "    def __init__(self):\n",
    "        self.coefficients = None\n",
    "        pass\n",
    "\n",
    "    def fit(self, X, y):\n",
    "        pass\n",
    "\n",
    "    def predict(self, X_test):\n",
    "        pass"
   ]
  },
  {
   "cell_type": "markdown",
   "metadata": {},
   "source": [
    "**(2)** Now define your `fit` method. This is the method that should actually run your linear regression. In case you've forgotten your linear algebra, remember that for linear regressions, $\\beta = (X'X)^{-1}X'Y$, a fact you can see explained in detail on page four [here](https://www.stat.purdue.edu/~boli/stat512/lectures/topic3.pdf).\n",
    "\n",
    "Note that once you have written the code to do a linear regression, you'll need to put your outputs (your coefficents) somewhere. I recommend making an attribute for your class where you can store your coefficients. \n",
    "\n",
    "(As a reminder: the normal multiply operator (`*`) in `numpy` implies scalar multiplication. Use `@` for matrix multiplication). \n",
    "\n",
    "**HINT:** Remember that linear regressions require a vector of 1s in the `X` matrix. As the package writer, you get to decide whether users are expected to provide a matrix `X` that already has a vector of 1s, or whether you expect the user to provide a matrix `X` that doesn't have a vector of 1s (in which case you will need to add a vector of 1s before you fit the model)."
   ]
  },
  {
   "cell_type": "code",
   "execution_count": 3,
   "metadata": {},
   "outputs": [],
   "source": [
    "class MyLinearModel:\n",
    "    \"\"\"Class to Manually Create a Linear Regression Model\"\"\"\n",
    "\n",
    "    def __init__(self):\n",
    "        \"\"\"Initializing the class and values\"\"\"\n",
    "        self.coefficients = None\n",
    "        pass\n",
    "\n",
    "    def fit(self, X, y):\n",
    "        \"\"\"To Fit the model\"\"\"\n",
    "        # Adding  1s to input, our class doesn't require user to do this\n",
    "        inter = np.ones((X.shape[0], 1))\n",
    "        X = np.hstack((inter, X))\n",
    "\n",
    "        # Calculating coefficients\n",
    "        X_T = X.T\n",
    "        self.coefficients = (np.linalg.inv(X_T @ X)) @ X_T @ y\n",
    "        pass\n",
    "\n",
    "    def predict(self, X_test):\n",
    "        pass"
   ]
  },
  {
   "cell_type": "markdown",
   "metadata": {},
   "source": [
    "**(3)** As you write code, it is good to test your code as you work. With that in mind, let's create some toy data. First, create a 100 x 2 matrix where each column is normally distributed. Then create a vector `y` that is a linear combination of those two columns **plus** a vector of normally distributed noise **and** a constant term. \n",
    "\n",
    "In other words, we want to create data where we *know* exactly what coefficients we should see so when we test our regression, we know if the results are accurate!"
   ]
  },
  {
   "cell_type": "code",
   "execution_count": 4,
   "metadata": {},
   "outputs": [],
   "source": [
    "# creating sample data for testing\n",
    "np.random.seed(361)\n",
    "x1 = np.random.normal(10, 3, 100)\n",
    "x2 = np.random.normal(50, 20, 100)\n",
    "\n",
    "X = np.column_stack((x1, x2))\n",
    "\n",
    "# creating co-efficients and intercept for testing\n",
    "coef = np.array([2, 3])\n",
    "intercept = 5\n",
    "\n",
    "# creating y\n",
    "noise = np.random.normal(0, 2, 100)\n",
    "y = X @ coef + intercept + noise"
   ]
  },
  {
   "cell_type": "markdown",
   "metadata": {},
   "source": [
    "**(4)** Now test whether you `fit` method generates the correct coefficients. Remember the choice you made in Question 2 about whether your package expects the users' `X` matrix to include a vector of 1s when you test!"
   ]
  },
  {
   "cell_type": "code",
   "execution_count": 5,
   "metadata": {},
   "outputs": [],
   "source": [
    "# Creating a funtions which will initialize our model and fit it\n",
    "def run_model():\n",
    "    model = MyLinearModel()\n",
    "    model.fit(X, y)\n",
    "    return model"
   ]
  },
  {
   "cell_type": "code",
   "execution_count": 6,
   "metadata": {},
   "outputs": [
    {
     "name": "stdout",
     "output_type": "stream",
     "text": [
      "The Coefficients returnted by the model are: [6.27879058 1.92874625 2.98361765]\n",
      "The actual Coefficients used to create the data are: [5,2,3]\n"
     ]
    }
   ],
   "source": [
    "model = run_model()\n",
    "\n",
    "# Printing the coefficients\n",
    "print(f\"\"\"The Coefficients returnted by the model are: {model.coefficients}\"\"\")\n",
    "print(\n",
    "    f\"\"\"The actual Coefficients used to create the data are: [{intercept},{coef[0]},{coef[1]}]\"\"\"\n",
    ")"
   ]
  },
  {
   "cell_type": "markdown",
   "metadata": {},
   "source": [
    "## Observations\n",
    "The Co-efficients retunred by the model are very similar to the actual co-efficients and the difference is due to the noise added to the y variable during data generation."
   ]
  },
  {
   "cell_type": "markdown",
   "metadata": {},
   "source": [
    "**(5)** Now let's make the statisticians proud, and in addition to storing the coefficients, let's store the standard errors for our estimated coefficients as another attribute. Recall that the simplest method of calculating the variance covariance matrix for $\\beta$ is using the formula $\\sigma^2 (X'X)^{-1}$, where $\\sigma^2$ is the variance of the error terms of your regression. The standard errors for your coefficient estimates will be the diagonal values of that matrix. See page six [here](https://www.stat.purdue.edu/~boli/stat512/lectures/topic3.pdf) for a full derivation. "
   ]
  },
  {
   "cell_type": "code",
   "execution_count": 7,
   "metadata": {},
   "outputs": [],
   "source": [
    "class MyLinearModel:\n",
    "    \"\"\"Class to Manually Create a Linear Regression Model\"\"\"\n",
    "\n",
    "    def __init__(self):\n",
    "        \"\"\"Initializing the class and values\"\"\"\n",
    "        self.coefficients = None\n",
    "        self.std_error = None\n",
    "        pass\n",
    "\n",
    "    def fit(self, X, y):\n",
    "        \"\"\"To Fit the model\"\"\"\n",
    "        # Adding  1s to input, our class doesn't require user to do this\n",
    "        inter = np.ones((X.shape[0], 1))\n",
    "        X = np.hstack((inter, X))\n",
    "\n",
    "        # Calculating coefficients\n",
    "        X_T = X.T\n",
    "        self.coefficients = (np.linalg.inv(X_T @ X)) @ X_T @ y\n",
    "\n",
    "        # calculating standard error\n",
    "        y_pred = X @ self.coefficients\n",
    "        error = y - y_pred\n",
    "        variance = np.var(error)\n",
    "\n",
    "        variance_mat = variance * np.linalg.inv(X_T @ X)\n",
    "\n",
    "        self.std_error = np.sqrt(np.diagonal(variance_mat))\n",
    "        pass\n",
    "\n",
    "    def predict(self, X_test):\n",
    "        pass"
   ]
  },
  {
   "cell_type": "code",
   "execution_count": 8,
   "metadata": {},
   "outputs": [
    {
     "name": "stdout",
     "output_type": "stream",
     "text": [
      "The Standard Error returned by the model is: [0.75865328 0.05901864 0.00876091]\n"
     ]
    }
   ],
   "source": [
    "# testing if the standard error is retunred\n",
    "model = run_model()\n",
    "print(f\"\"\"The Standard Error returned by the model is: {model.std_error}\"\"\")"
   ]
  },
  {
   "cell_type": "markdown",
   "metadata": {},
   "source": [
    "**(6)** Now let's also add an R-squared attribute to the model."
   ]
  },
  {
   "cell_type": "code",
   "execution_count": 9,
   "metadata": {},
   "outputs": [],
   "source": [
    "class MyLinearModel:\n",
    "    \"\"\"Class to Manually Create a Linear Regression Model\"\"\"\n",
    "\n",
    "    def __init__(self):\n",
    "        \"\"\"Initializing the class and values\"\"\"\n",
    "        self.coefficients = None\n",
    "        self.std_error = None\n",
    "        self.r2 = None\n",
    "        pass\n",
    "\n",
    "    def fit(self, X, y):\n",
    "        \"\"\"To Fit the model\"\"\"\n",
    "        # Adding  1s to input, our class doesn't require user to do this\n",
    "        inter = np.ones((X.shape[0], 1))\n",
    "        X = np.hstack((inter, X))\n",
    "\n",
    "        # Calculating coefficients\n",
    "        X_T = X.T\n",
    "        self.coefficients = (np.linalg.inv(X_T @ X)) @ X_T @ y\n",
    "\n",
    "        # calculating standard error\n",
    "        y_pred = X @ self.coefficients\n",
    "        error = y - y_pred\n",
    "        variance = np.var(error)\n",
    "\n",
    "        variance_mat = variance * np.linalg.inv(X_T @ X)\n",
    "\n",
    "        self.std_error = np.sqrt(np.diagonal(variance_mat))\n",
    "\n",
    "        # calculating R2\n",
    "        y_mean = np.mean(y)\n",
    "        tss = np.sum((y - y_mean) ** 2)\n",
    "        self.r2 = 1 - (np.sum(error**2) / tss)\n",
    "        pass\n",
    "\n",
    "    def predict(self, X_test):\n",
    "        pass"
   ]
  },
  {
   "cell_type": "code",
   "execution_count": 10,
   "metadata": {},
   "outputs": [
    {
     "name": "stdout",
     "output_type": "stream",
     "text": [
      "The R-squared value returnted by the model is: 0.999\n"
     ]
    }
   ],
   "source": [
    "# testing if the R-squared is retunred\n",
    "model = run_model()\n",
    "print(f\"\"\"The R-squared value returnted by the model is: {model.r2:.3f}\"\"\")"
   ]
  },
  {
   "cell_type": "markdown",
   "metadata": {},
   "source": [
    "**(7)** Now we'll go ahead and cheat a little. Use `statsmodels` to fit your model with your toy data to ensure your standard errors and r-squared are correct!"
   ]
  },
  {
   "cell_type": "code",
   "execution_count": 11,
   "metadata": {},
   "outputs": [],
   "source": [
    "# Fitting the model using statsmodels\n",
    "X_constatnt = sm.add_constant(X)\n",
    "stats_model = sm.OLS(y, X_constatnt).fit()"
   ]
  },
  {
   "cell_type": "code",
   "execution_count": 12,
   "metadata": {},
   "outputs": [
    {
     "name": "stdout",
     "output_type": "stream",
     "text": [
      "The standard errors returnted by the model are: [0.75865328 0.05901864 0.00876091] and by statsmodels are: [0.7702957  0.05992435 0.00889535]\n",
      "The R-squared value returnted by the model is: 0.999 and by statsmodels is: 0.999\n"
     ]
    }
   ],
   "source": [
    "# comparing values between our model and statsmodels\n",
    "print(\n",
    "    f\"\"\"The standard errors returnted by the model are: {model.std_error} and by statsmodels are: {stats_model.bse}\"\"\"\n",
    ")\n",
    "print(\n",
    "    f\"\"\"The R-squared value returnted by the model is: {model.r2:.3f} and by statsmodels is: {stats_model.rsquared:.3f}\"\"\"\n",
    ")"
   ]
  },
  {
   "cell_type": "markdown",
   "metadata": {},
   "source": [
    "## Observations\n",
    "The Standard errors and R-squared values retured by our model are similar to the values returned by statsmodels."
   ]
  },
  {
   "cell_type": "markdown",
   "metadata": {},
   "source": [
    "**(8)** Now implement `predict`! Then test it against your original `X` data -- do you get back something very close to your true `y`?"
   ]
  },
  {
   "cell_type": "code",
   "execution_count": 13,
   "metadata": {},
   "outputs": [],
   "source": [
    "class MyLinearModel:\n",
    "    \"\"\"Class to Manually Create a Linear Regression Model\"\"\"\n",
    "\n",
    "    def __init__(self):\n",
    "        \"\"\"Initializing the class and values\"\"\"\n",
    "        self.coefficients = None\n",
    "        self.std_error = None\n",
    "        self.r2 = None\n",
    "        pass\n",
    "\n",
    "    def fit(self, X, y):\n",
    "        \"\"\"To Fit the model\"\"\"\n",
    "        # Adding  1s to input, our class doesn't require user to do this\n",
    "        inter = np.ones((X.shape[0], 1))\n",
    "        X = np.hstack((inter, X))\n",
    "\n",
    "        # Calculating coefficients\n",
    "        X_T = X.T\n",
    "        self.coefficients = (np.linalg.inv(X_T @ X)) @ X_T @ y\n",
    "\n",
    "        # calculating standard error\n",
    "        y_pred = X @ self.coefficients\n",
    "        error = y - y_pred\n",
    "        variance = np.var(error)\n",
    "\n",
    "        variance_mat = variance * np.linalg.inv(X_T @ X)\n",
    "\n",
    "        self.std_error = np.sqrt(np.diagonal(variance_mat))\n",
    "\n",
    "        # calculating R2\n",
    "        y_mean = np.mean(y)\n",
    "        tss = np.sum((y - y_mean) ** 2)\n",
    "        self.r2 = 1 - (np.sum(error**2) / tss)\n",
    "        pass\n",
    "\n",
    "    def predict(self, X_test):\n",
    "        \"\"\"To predict using the model\"\"\"\n",
    "        inter = np.ones((X_test.shape[0], 1))\n",
    "        X_test = np.hstack((inter, X_test))\n",
    "        return X_test @ self.coefficients"
   ]
  },
  {
   "cell_type": "code",
   "execution_count": 14,
   "metadata": {},
   "outputs": [
    {
     "data": {
      "text/plain": [
       "array([288.18265554,  62.32640271, 165.20303427, 135.98284291,\n",
       "       259.98148948, 182.15399911, 185.60334636, 224.03192296,\n",
       "       177.66641095, 106.67192093, 212.23990363, 142.88896975,\n",
       "       136.24439496, 194.08196445,  94.55385818, 103.76433742,\n",
       "       142.95347092, 201.36042474, 248.58221802, 219.27315274,\n",
       "       200.62161035, 302.62523004, 179.81655612, 133.61813511,\n",
       "       115.90336527, 101.44599085, 203.69087319, 110.06892588,\n",
       "       231.23688063, 219.34626921,  94.52262172, 135.17867195,\n",
       "       172.29350997, 176.38496067, 159.34722789, 233.18469331,\n",
       "        33.67750048, 213.98209911, 200.65509455, 156.53527787,\n",
       "       281.27354297,  79.33802261, 145.14281964, 150.56307393,\n",
       "       104.41537345, 134.07224232, 227.76046249, 144.62112424,\n",
       "       194.31321194,  93.21315277, 124.53658961, 169.92447215,\n",
       "       204.03683599,  -2.42967444, 164.25382353, 110.46783482,\n",
       "       236.04906079, 180.56482449, 200.23399689, 131.58314339,\n",
       "       166.14946685, 269.13021069, 138.92142333, 232.10441955,\n",
       "       174.9168476 , 118.05766821, 210.32369461,  40.72178744,\n",
       "        52.56666147, 183.55126809, 239.25485717, 140.5616584 ,\n",
       "       107.90312349, 202.97245577, 224.10688118, 202.41680375,\n",
       "       125.65356659, 115.02440171, 247.85977647, 138.85216091,\n",
       "       191.34699492,  82.55958234,  21.50177845, 191.86631949,\n",
       "       111.36654581, 163.11555369, 170.87196686, 181.02774579,\n",
       "       164.53600241, 187.10361541,  62.34301532, 303.33142355,\n",
       "       215.60321596,  66.77077659, 170.07610487, 157.46602349,\n",
       "       263.3514929 , 134.12645344, 106.54188403, 163.60433456])"
      ]
     },
     "execution_count": 14,
     "metadata": {},
     "output_type": "execute_result"
    }
   ],
   "source": [
    "y"
   ]
  },
  {
   "cell_type": "code",
   "execution_count": 15,
   "metadata": {},
   "outputs": [
    {
     "data": {
      "text/plain": [
       "array([288.63241303,  60.79326344, 165.05591705, 134.32279866,\n",
       "       262.27149523, 183.75149351, 185.3022875 , 224.8938038 ,\n",
       "       181.59188267, 107.2822644 , 211.95797281, 145.10789537,\n",
       "       137.98061944, 195.61407621,  92.73646609, 104.27321151,\n",
       "       145.09369384, 199.49646425, 246.48589526, 218.60589251,\n",
       "       199.77054262, 301.66558281, 180.11885578, 132.90850051,\n",
       "       117.28811076, 101.64493044, 207.56059875, 107.93898956,\n",
       "       230.26974032, 216.85557254,  93.14341096, 136.33966895,\n",
       "       171.51036902, 177.29843065, 154.56886607, 231.4711056 ,\n",
       "        34.17930694, 209.83978321, 201.63589263, 156.89093007,\n",
       "       279.1105909 ,  77.68776635, 148.94991626, 149.0440879 ,\n",
       "       104.58839201, 133.74939866, 224.80184914, 146.24791143,\n",
       "       195.48176728,  94.53073968, 123.75183761, 169.60346391,\n",
       "       202.34128778,  -2.21067111, 166.4497835 , 110.11270426,\n",
       "       236.96312957, 177.60812289, 200.98852022, 132.5810755 ,\n",
       "       167.86171359, 267.00998634, 140.55415591, 229.63725709,\n",
       "       174.36092274, 115.5086175 , 209.22819274,  43.33076032,\n",
       "        54.20930467, 182.03203014, 239.48422463, 140.88506994,\n",
       "       107.80590586, 205.80086044, 225.36162689, 203.01374794,\n",
       "       125.34230607, 113.93934199, 247.6543831 , 136.98621907,\n",
       "       192.31336901,  83.99283914,  18.21287362, 193.97524224,\n",
       "       108.69377341, 164.95570806, 171.68500813, 183.15152008,\n",
       "       169.11446747, 187.77920372,  63.04013757, 303.18052576,\n",
       "       218.52689563,  66.10432062, 169.4342795 , 159.37574713,\n",
       "       262.50557179, 131.52720296, 103.93030357, 163.33982608])"
      ]
     },
     "execution_count": 15,
     "metadata": {},
     "output_type": "execute_result"
    }
   ],
   "source": [
    "model = run_model()\n",
    "y_model = model.predict(X)\n",
    "y_model"
   ]
  },
  {
   "cell_type": "code",
   "execution_count": 16,
   "metadata": {},
   "outputs": [
    {
     "name": "stdout",
     "output_type": "stream",
     "text": [
      "Sample y values from our data: [288.18265554  62.32640271 165.20303427 135.98284291 259.98148948] \n",
      "The respective y values from our model: [288.63241303  60.79326344 165.05591705 134.32279866 262.27149523]\n"
     ]
    }
   ],
   "source": [
    "# Comparing Model prediction against original Y values\n",
    "print(\n",
    "    f\"\"\"Sample y values from our data: {y[:5]} \\nThe respective y values from our model: {y_model[:5]}\"\"\"\n",
    ")"
   ]
  },
  {
   "cell_type": "markdown",
   "metadata": {},
   "source": [
    "## Observations\n",
    "The predicted y values from the model are close to the actual y values which we generated for testing the model."
   ]
  },
  {
   "cell_type": "markdown",
   "metadata": {},
   "source": [
    "**(9)** Finally, create the *option* of fitting the model with or without a constant term. In other words, create an option so that, if the user passes a numpy array *without* a constant term, your code will add a vector of 1s before fitting the model. As in `scikit-learn`, make this an option you set during initialization. "
   ]
  },
  {
   "cell_type": "code",
   "execution_count": 17,
   "metadata": {},
   "outputs": [],
   "source": [
    "class MyLinearModel:\n",
    "    \"\"\"Class to Manually Create a Linear Regression Model\"\"\"\n",
    "\n",
    "    def __init__(self, auto_constant=True):\n",
    "        \"\"\"Initializing the class and values\"\"\"\n",
    "        self.coefficients = None\n",
    "        self.std_error = None\n",
    "        self.r2 = None\n",
    "        self.auto_constant = auto_constant\n",
    "        pass\n",
    "\n",
    "    def fit(self, X, y):\n",
    "        \"\"\"To Fit the model\"\"\"\n",
    "        if self.auto_constant:\n",
    "            # Adding constant to input if user wants it\n",
    "            inter = np.ones((X.shape[0], 1))\n",
    "            X = np.hstack((inter, X))\n",
    "\n",
    "        # Calculating coefficients\n",
    "        X_T = X.T\n",
    "        self.coefficients = (np.linalg.inv(X_T @ X)) @ X_T @ y\n",
    "\n",
    "        # calculating standard error\n",
    "        y_pred = X @ self.coefficients\n",
    "        error = y - y_pred\n",
    "        variance = np.var(error)\n",
    "\n",
    "        variance_mat = variance * np.linalg.inv(X_T @ X)\n",
    "\n",
    "        self.std_error = np.sqrt(np.diagonal(variance_mat))\n",
    "\n",
    "        # calculating R2\n",
    "        y_mean = np.mean(y)\n",
    "        tss = np.sum((y - y_mean) ** 2)\n",
    "        self.r2 = 1 - (np.sum(error**2) / tss)\n",
    "        pass\n",
    "\n",
    "    def predict(self, X_test):\n",
    "        \"\"\"To predict using the model\"\"\"\n",
    "        inter = np.ones((X_test.shape[0], 1))\n",
    "        X_test = np.hstack((inter, X_test))\n",
    "        return X_test @ self.coefficients"
   ]
  },
  {
   "cell_type": "code",
   "execution_count": 18,
   "metadata": {},
   "outputs": [
    {
     "name": "stdout",
     "output_type": "stream",
     "text": [
      "The Coefficients returnted by the model without user including constant term are: [6.27879058 1.92874625 2.98361765]\n",
      "The Coefficients returnted by the model with user including constant term are: [6.27879058 1.92874625 2.98361765]\n"
     ]
    }
   ],
   "source": [
    "model_auto = MyLinearModel()\n",
    "model_auto.fit(X, y)\n",
    "auto_coeff = model_auto.coefficients\n",
    "\n",
    "\n",
    "model_manual = MyLinearModel(auto_constant=False)\n",
    "model_manual.fit(X_constatnt, y)\n",
    "manual_coeff = model_manual.coefficients\n",
    "\n",
    "print(\n",
    "    f\"\"\"The Coefficients returnted by the model without user including constant term are: {auto_coeff}\"\"\"\n",
    ")\n",
    "print(\n",
    "    f\"\"\"The Coefficients returnted by the model with user including constant term are: {manual_coeff}\"\"\"\n",
    ")"
   ]
  },
  {
   "cell_type": "markdown",
   "metadata": {},
   "source": [
    "## Observations\n",
    "The model returns the same coefficients with or without a constant term provided by the user if the user selectes the correct parameters and provides correct data. By default our model adds the constant term."
   ]
  }
 ],
 "metadata": {
  "kernelspec": {
   "display_name": "Python 3",
   "language": "python",
   "name": "python3"
  },
  "language_info": {
   "codemirror_mode": {
    "name": "ipython",
    "version": 3
   },
   "file_extension": ".py",
   "mimetype": "text/x-python",
   "name": "python",
   "nbconvert_exporter": "python",
   "pygments_lexer": "ipython3",
   "version": "3.11.5"
  }
 },
 "nbformat": 4,
 "nbformat_minor": 4
}
