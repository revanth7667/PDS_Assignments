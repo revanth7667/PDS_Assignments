{
    "cells": [
        {
            "cell_type": "markdown",
            "metadata": {},
            "source": [
                "# Cleaning Data Exercises\n",
                "\n",
                "In this exercise, we'll be returning to the American Community Survey data we used previously to measuring racial income inequality in the United States. In today's exercise, we'll be using it to measure the returns to education and how those returns vary by race and gender.\n",
                "\n"
            ]
        },
        {
            "cell_type": "markdown",
            "metadata": {},
            "source": [
                "\n",
                "## Gradescope Autograding\n",
                "\n",
                "Please follow [all standard guidance](https://www.practicaldatascience.org/html/autograder_guidelines.html) for submitting this assignment to the Gradescope autograder, including storing your solutions in a dictionary called `results` and ensuring your notebook runs from the start to completion without any errors.\n",
                "\n",
                "For this assignment, please name your file `exercise_missing.ipynb` before uploading.\n",
                "\n",
                "You can check that you have answers for all questions in your `results` dictionary with this code:\n",
                "\n",
                "```python\n",
                "assert set(results.keys()) == {\n",
                "    \"ex5_age_young\",\n",
                "    \"ex5_age_old\",\n",
                "    \"ex7_avg_age\",\n",
                "    \"ex8_avg_age\",\n",
                "    \"ex9_num_college\",\n",
                "    \"ex11_share_male_w_degrees\",\n",
                "    \"ex11_share_female_w_degrees\",\n",
                "    \"ex12_comparing\",\n",
                "}\n",
                "```\n",
                "\n",
                "\n",
                "### Submission Limits\n",
                "\n",
                "Please remember that you are **only allowed three submissions to the autograder.** Your last submission (if you submit 3 or fewer times), or your third submission (if you submit more than 3 times) will determine your grade Submissions that error out will **not** count against this total."
            ]
        },
        {
            "cell_type": "markdown",
            "metadata": {},
            "source": [
                "## Exercises\n",
                "\n",
                "### Exercise 1\n",
                "\n",
                "For these cleaning exercises, we'll return to the ACS data we've used before one last time. We'll be working with `US_ACS_2017_10pct_sample.dta`. Import the data (please use url for the autograder)."
            ]
        },
        {
            "cell_type": "code",
            "execution_count": 1,
            "metadata": {},
            "outputs": [],
            "source": [
                "# Importing Required Packages\n",
                "import pandas as pd\n",
                "import numpy as np\n",
                "\n",
                "# seeting default option\n",
                "pd.set_option(\"mode.copy_on_write\", True)"
            ]
        },
        {
            "cell_type": "code",
            "execution_count": 2,
            "metadata": {},
            "outputs": [],
            "source": [
                "# Load Data into Dataframe and initialize results Dictionary\n",
                "df = pd.read_stata(\n",
                "    \"https://github.com/nickeubank/MIDS_Data/raw/master/US_AmericanCommunitySurvey/US_ACS_2017_10pct_sample.dta\"\n",
                ")\n",
                "results = {}"
            ]
        },
        {
            "cell_type": "markdown",
            "metadata": {},
            "source": [
                "### Exercise 2\n",
                "\n",
                "For our exercises today, we'll focus on `age`, `sex`, `educ` (education), and `inctot` (total income). Subset your data to those variables, and quickly look at a sample of 10 rows."
            ]
        },
        {
            "cell_type": "code",
            "execution_count": 3,
            "metadata": {},
            "outputs": [
                {
                    "data": {
                        "text/html": [
                            "<div>\n",
                            "<style scoped>\n",
                            "    .dataframe tbody tr th:only-of-type {\n",
                            "        vertical-align: middle;\n",
                            "    }\n",
                            "\n",
                            "    .dataframe tbody tr th {\n",
                            "        vertical-align: top;\n",
                            "    }\n",
                            "\n",
                            "    .dataframe thead th {\n",
                            "        text-align: right;\n",
                            "    }\n",
                            "</style>\n",
                            "<table border=\"1\" class=\"dataframe\">\n",
                            "  <thead>\n",
                            "    <tr style=\"text-align: right;\">\n",
                            "      <th></th>\n",
                            "      <th>age</th>\n",
                            "      <th>sex</th>\n",
                            "      <th>educ</th>\n",
                            "      <th>inctot</th>\n",
                            "    </tr>\n",
                            "  </thead>\n",
                            "  <tbody>\n",
                            "    <tr>\n",
                            "      <th>186313</th>\n",
                            "      <td>51</td>\n",
                            "      <td>male</td>\n",
                            "      <td>grade 12</td>\n",
                            "      <td>48000</td>\n",
                            "    </tr>\n",
                            "    <tr>\n",
                            "      <th>207559</th>\n",
                            "      <td>25</td>\n",
                            "      <td>female</td>\n",
                            "      <td>2 years of college</td>\n",
                            "      <td>0</td>\n",
                            "    </tr>\n",
                            "    <tr>\n",
                            "      <th>134604</th>\n",
                            "      <td>29</td>\n",
                            "      <td>male</td>\n",
                            "      <td>4 years of college</td>\n",
                            "      <td>1600</td>\n",
                            "    </tr>\n",
                            "    <tr>\n",
                            "      <th>315042</th>\n",
                            "      <td>35</td>\n",
                            "      <td>male</td>\n",
                            "      <td>4 years of college</td>\n",
                            "      <td>89000</td>\n",
                            "    </tr>\n",
                            "    <tr>\n",
                            "      <th>300585</th>\n",
                            "      <td>84</td>\n",
                            "      <td>female</td>\n",
                            "      <td>grade 12</td>\n",
                            "      <td>1800</td>\n",
                            "    </tr>\n",
                            "    <tr>\n",
                            "      <th>278944</th>\n",
                            "      <td>42</td>\n",
                            "      <td>female</td>\n",
                            "      <td>2 years of college</td>\n",
                            "      <td>20800</td>\n",
                            "    </tr>\n",
                            "    <tr>\n",
                            "      <th>135632</th>\n",
                            "      <td>18</td>\n",
                            "      <td>male</td>\n",
                            "      <td>grade 11</td>\n",
                            "      <td>1200</td>\n",
                            "    </tr>\n",
                            "    <tr>\n",
                            "      <th>39783</th>\n",
                            "      <td>63</td>\n",
                            "      <td>female</td>\n",
                            "      <td>grade 12</td>\n",
                            "      <td>27200</td>\n",
                            "    </tr>\n",
                            "    <tr>\n",
                            "      <th>227892</th>\n",
                            "      <td>70</td>\n",
                            "      <td>male</td>\n",
                            "      <td>n/a or no schooling</td>\n",
                            "      <td>25600</td>\n",
                            "    </tr>\n",
                            "    <tr>\n",
                            "      <th>257891</th>\n",
                            "      <td>53</td>\n",
                            "      <td>male</td>\n",
                            "      <td>grade 12</td>\n",
                            "      <td>109500</td>\n",
                            "    </tr>\n",
                            "  </tbody>\n",
                            "</table>\n",
                            "</div>"
                        ],
                        "text/plain": [
                            "       age     sex                 educ  inctot\n",
                            "186313  51    male             grade 12   48000\n",
                            "207559  25  female   2 years of college       0\n",
                            "134604  29    male   4 years of college    1600\n",
                            "315042  35    male   4 years of college   89000\n",
                            "300585  84  female             grade 12    1800\n",
                            "278944  42  female   2 years of college   20800\n",
                            "135632  18    male             grade 11    1200\n",
                            "39783   63  female             grade 12   27200\n",
                            "227892  70    male  n/a or no schooling   25600\n",
                            "257891  53    male             grade 12  109500"
                        ]
                    },
                    "execution_count": 3,
                    "metadata": {},
                    "output_type": "execute_result"
                }
            ],
            "source": [
                "# Subsetting df on the required columns\n",
                "df1 = df[[\"age\", \"sex\", \"educ\", \"inctot\"]]\n",
                "df1.sample(10)"
            ]
        },
        {
            "cell_type": "markdown",
            "metadata": {},
            "source": [
                "### Exercise 3\n",
                "\n",
                "As before, all the values of `9999999` have the potential to cause us real problems, so replace all the values of `inctot` that are `9999999` with `np.nan`. "
            ]
        },
        {
            "cell_type": "code",
            "execution_count": 4,
            "metadata": {},
            "outputs": [
                {
                    "data": {
                        "text/html": [
                            "<div>\n",
                            "<style scoped>\n",
                            "    .dataframe tbody tr th:only-of-type {\n",
                            "        vertical-align: middle;\n",
                            "    }\n",
                            "\n",
                            "    .dataframe tbody tr th {\n",
                            "        vertical-align: top;\n",
                            "    }\n",
                            "\n",
                            "    .dataframe thead th {\n",
                            "        text-align: right;\n",
                            "    }\n",
                            "</style>\n",
                            "<table border=\"1\" class=\"dataframe\">\n",
                            "  <thead>\n",
                            "    <tr style=\"text-align: right;\">\n",
                            "      <th></th>\n",
                            "      <th>age</th>\n",
                            "      <th>sex</th>\n",
                            "      <th>educ</th>\n",
                            "      <th>inctot</th>\n",
                            "    </tr>\n",
                            "  </thead>\n",
                            "  <tbody>\n",
                            "    <tr>\n",
                            "      <th>60316</th>\n",
                            "      <td>50</td>\n",
                            "      <td>female</td>\n",
                            "      <td>n/a or no schooling</td>\n",
                            "      <td>0.0</td>\n",
                            "    </tr>\n",
                            "    <tr>\n",
                            "      <th>214429</th>\n",
                            "      <td>46</td>\n",
                            "      <td>female</td>\n",
                            "      <td>4 years of college</td>\n",
                            "      <td>55000.0</td>\n",
                            "    </tr>\n",
                            "    <tr>\n",
                            "      <th>31193</th>\n",
                            "      <td>63</td>\n",
                            "      <td>male</td>\n",
                            "      <td>grade 12</td>\n",
                            "      <td>10970.0</td>\n",
                            "    </tr>\n",
                            "    <tr>\n",
                            "      <th>16797</th>\n",
                            "      <td>less than 1 year old</td>\n",
                            "      <td>female</td>\n",
                            "      <td>n/a or no schooling</td>\n",
                            "      <td>NaN</td>\n",
                            "    </tr>\n",
                            "    <tr>\n",
                            "      <th>163538</th>\n",
                            "      <td>63</td>\n",
                            "      <td>female</td>\n",
                            "      <td>grade 12</td>\n",
                            "      <td>23000.0</td>\n",
                            "    </tr>\n",
                            "    <tr>\n",
                            "      <th>248334</th>\n",
                            "      <td>26</td>\n",
                            "      <td>female</td>\n",
                            "      <td>4 years of college</td>\n",
                            "      <td>1000.0</td>\n",
                            "    </tr>\n",
                            "    <tr>\n",
                            "      <th>22306</th>\n",
                            "      <td>56</td>\n",
                            "      <td>male</td>\n",
                            "      <td>grade 12</td>\n",
                            "      <td>50000.0</td>\n",
                            "    </tr>\n",
                            "    <tr>\n",
                            "      <th>31909</th>\n",
                            "      <td>less than 1 year old</td>\n",
                            "      <td>female</td>\n",
                            "      <td>n/a or no schooling</td>\n",
                            "      <td>NaN</td>\n",
                            "    </tr>\n",
                            "    <tr>\n",
                            "      <th>37210</th>\n",
                            "      <td>57</td>\n",
                            "      <td>female</td>\n",
                            "      <td>grade 12</td>\n",
                            "      <td>33550.0</td>\n",
                            "    </tr>\n",
                            "    <tr>\n",
                            "      <th>103099</th>\n",
                            "      <td>69</td>\n",
                            "      <td>female</td>\n",
                            "      <td>4 years of college</td>\n",
                            "      <td>20400.0</td>\n",
                            "    </tr>\n",
                            "  </tbody>\n",
                            "</table>\n",
                            "</div>"
                        ],
                        "text/plain": [
                            "                         age     sex                 educ   inctot\n",
                            "60316                     50  female  n/a or no schooling      0.0\n",
                            "214429                    46  female   4 years of college  55000.0\n",
                            "31193                     63    male             grade 12  10970.0\n",
                            "16797   less than 1 year old  female  n/a or no schooling      NaN\n",
                            "163538                    63  female             grade 12  23000.0\n",
                            "248334                    26  female   4 years of college   1000.0\n",
                            "22306                     56    male             grade 12  50000.0\n",
                            "31909   less than 1 year old  female  n/a or no schooling      NaN\n",
                            "37210                     57  female             grade 12  33550.0\n",
                            "103099                    69  female   4 years of college  20400.0"
                        ]
                    },
                    "execution_count": 4,
                    "metadata": {},
                    "output_type": "execute_result"
                }
            ],
            "source": [
                "# Replacing 9999999 with NaNs in inctot column\n",
                "df1[\"inctot\"] = df1[\"inctot\"].replace(9999999, np.nan, inplace=False)\n",
                "df1.sample(10)"
            ]
        },
        {
            "cell_type": "markdown",
            "metadata": {},
            "source": [
                "### Exercise 4\n",
                "\n",
                "Attempt to calculate the average age of people in our data. What do you get? Why are you getting that error?\n",
                "\n",
                "You *should* get an error in trying to answer this question, but **PLEASE LEAVE THE CODE THAT GENERATES THIS ERROR COMMENTED OUT SO YOUR NOTEBOOK WILL RUN IN THE AUTOGRADER**. \n",
                "\n",
                "Then talk about the error in a markdown cell."
            ]
        },
        {
            "cell_type": "code",
            "execution_count": 5,
            "metadata": {},
            "outputs": [],
            "source": [
                "# df1[\"age\"].mean()"
            ]
        },
        {
            "cell_type": "markdown",
            "metadata": {},
            "source": [
                "## Observation\n",
                "When I try to calculate the average age, I get a **TypeError** with the message ``'Categorical' with dtype category does not support reduction 'mean'`` . This seems to be happening cause the ages are stored as a categorical datatype as opposed to a numeric datatype."
            ]
        },
        {
            "cell_type": "markdown",
            "metadata": {},
            "source": [
                "### Exercise 5\n",
                "\n",
                "We want to be able to calculate things using age, so we need it to be a numeric type. Check the current type of `age`, and look at all the values of `age` to figure out why it's categorical and not numeric. You should find two problematic categories. Store the values of these categories in `\"ex5_age_young\"` and `\"ex5_age_old\"` (once you find them, it should be clear which is which)."
            ]
        },
        {
            "cell_type": "code",
            "execution_count": 6,
            "metadata": {},
            "outputs": [
                {
                    "name": "stdout",
                    "output_type": "stream",
                    "text": [
                        "One of the entries in 'age' column which is making the column categorcial is: less than 1 year old\n",
                        "One of the entries in 'age' column which is making the column categorcial is: 90 (90+ in 1980 and 1990)\n"
                    ]
                }
            ],
            "source": [
                "# Trying to find the entries which are causing age to be a categorical column\n",
                "\n",
                "# create a list of the all the unique entries\n",
                "age_cat = [_ for _ in df1[\"age\"].unique()]\n",
                "\n",
                "# loop through the list and try to convert to int, wherever error happens that is categorical\n",
                "for _ in age_cat:\n",
                "    try:\n",
                "        int(_)\n",
                "    except:\n",
                "        print(\n",
                "            f\"One of the entries in 'age' column which is making the column categorcial is: {_}\"\n",
                "        )"
            ]
        },
        {
            "cell_type": "code",
            "execution_count": 7,
            "metadata": {},
            "outputs": [],
            "source": [
                "# store these categories in results\n",
                "results[\"ex5_age_young\"] = \"less than 1 year old\"\n",
                "results[\"ex5_age_old\"] = \"90 (90+ in 1980 and 1990)\""
            ]
        },
        {
            "cell_type": "markdown",
            "metadata": {},
            "source": [
                "### Exercise 6\n",
                "\n",
                "In order to convert `age` into a numeric variable, we need to replace those problematic entries with values that `pandas` can later convert into numbers. Pick appropriate substitutions for the existing values and replace the current values. \n",
                "\n",
                "**Hint 1:** Categorical variables act like strings, so you might want to use string methods! \n",
                "\n",
                "**Hint 2:** Remember that characters like parentheses, pluses, asterisks, etc. are special in Python strings, and you have to escape them if you want them to be interpreted literally!\n",
                "\n",
                "**Hint 3:** Because the US Census has been conducted regularly for hundreds of years but exactly how the census has been conducted have occasionally changed, variables are sometimes coded in a way that might be interpreted in different ways for different census years. For example, hypothetically, one might write `90 (90+ in 1980 and 1990)` if the Censuses conducted in 1980 and 1990 used to top-code age at 90 (any values *over* 90 were just coded as 90), but more recent Censuses no longer top-coded age and recorded ages over 90 as the respondents actual age."
            ]
        },
        {
            "cell_type": "code",
            "execution_count": 8,
            "metadata": {},
            "outputs": [],
            "source": [
                "# replace the lower age with 0\n",
                "df1[\"age\"] = df1[\"age\"].replace(\"less than 1 year old\", \"0\", inplace=False)\n",
                "\n",
                "# replace the 90+ with 100\n",
                "df1[\"age\"] = df1[\"age\"].replace(\"90 (90+ in 1980 and 1990)\", \"90\", inplace=False)"
            ]
        },
        {
            "cell_type": "markdown",
            "metadata": {},
            "source": [
                "### Exercise 7\n",
                "\n",
                "Now convert age from a categorical to numeric. Calculate the average age amoung this group, and store it in `\"ex7_avg_age\"`."
            ]
        },
        {
            "cell_type": "code",
            "execution_count": 9,
            "metadata": {},
            "outputs": [],
            "source": [
                "# Convert \"age\" column from catrgorical to numneric (int)\n",
                "df1[\"age\"] = df1[\"age\"].astype(\"int\")"
            ]
        },
        {
            "cell_type": "code",
            "execution_count": 10,
            "metadata": {},
            "outputs": [
                {
                    "name": "stdout",
                    "output_type": "stream",
                    "text": [
                        "The average age in the Dataset after making the substituitions for the categorcial values is: 41.30 Years\n"
                    ]
                }
            ],
            "source": [
                "results[\"ex7_avg_age\"] = df1[\"age\"].mean()\n",
                "print(\n",
                "    f\"\"\"The average age in the Dataset after making the substituitions for the categorcial values is: {results[\"ex7_avg_age\"]:.2f} Years\"\"\"\n",
                ")"
            ]
        },
        {
            "cell_type": "markdown",
            "metadata": {},
            "source": [
                "### Exercise 8\n",
                "\n",
                "Let's now filter out anyone in our data whose age is less than 18. Note that before made `age` a numeric variable, we couldn't do this! Again, calculate the average age and this time store it in `\"ex8_avg_age\"`. \n",
                "\n",
                "Use this sample of people 18 and over for all subsequent exercises."
            ]
        },
        {
            "cell_type": "code",
            "execution_count": 11,
            "metadata": {},
            "outputs": [
                {
                    "name": "stdout",
                    "output_type": "stream",
                    "text": [
                        "The average age of the people who are 18 years or older in the Dataset is: 49.76 Years\n"
                    ]
                }
            ],
            "source": [
                "# filtering for people who are 18 years or older\n",
                "df2 = df1[df1[\"age\"] >= 18]\n",
                "results[\"ex8_avg_age\"] = df2[\"age\"].mean()\n",
                "\n",
                "print(\n",
                "    f\"\"\"The average age of the people who are 18 years or older in the Dataset is: {results[\"ex8_avg_age\"]:.2f} Years\"\"\"\n",
                ")"
            ]
        },
        {
            "cell_type": "markdown",
            "metadata": {},
            "source": [
                "### Exercise 9\n",
                "\n",
                "Create an indicator variable for whether each person has *at least* a college Bachelor's degree called `college_degree`. Use this variable to calculate the number of people in the dataset with a college degree. You may assume that to get a college degree you need to complete at least 4 years of college. Save the result as `\"ex9_num_college\"`."
            ]
        },
        {
            "cell_type": "code",
            "execution_count": 12,
            "metadata": {},
            "outputs": [
                {
                    "name": "stdout",
                    "output_type": "stream",
                    "text": [
                        "From the given dataset, 77013 individuals have at least a college Bachelor's degree\n"
                    ]
                }
            ],
            "source": [
                "# make list of educ values which will count as having a college degree\n",
                "col_degree = [\"4 years of college\", \"5+ years of college\"]\n",
                "\n",
                "# create a new column to save result if people have a degree or not\n",
                "df2[\"college_degree\"] = df2[\"educ\"].isin(col_degree)\n",
                "\n",
                "# count people who have college degree, doing sum since True = 1\n",
                "results[\"ex9_num_college\"] = df2[\"college_degree\"].sum()\n",
                "\n",
                "print(\n",
                "    f\"\"\"From the given dataset, {results[\"ex9_num_college\"]} individuals have at least a college Bachelor's degree\"\"\"\n",
                ")"
            ]
        },
        {
            "cell_type": "markdown",
            "metadata": {},
            "source": [
                "### Exercise 10\n",
                "\n",
                "Let's examine how the educational gender gap. Use `pd.crosstab` to create a cross-tabulation of `sex` and `college_degree`. `pd.crosstab` will give you the number of people who have each combination of `sex` and `college_degree` (so in this case, it will give us a 2x2 table with Male and Female as rows, and `college_degree` True and False as columns, or vice versa. "
            ]
        },
        {
            "cell_type": "code",
            "execution_count": 13,
            "metadata": {},
            "outputs": [
                {
                    "data": {
                        "text/html": [
                            "<div>\n",
                            "<style scoped>\n",
                            "    .dataframe tbody tr th:only-of-type {\n",
                            "        vertical-align: middle;\n",
                            "    }\n",
                            "\n",
                            "    .dataframe tbody tr th {\n",
                            "        vertical-align: top;\n",
                            "    }\n",
                            "\n",
                            "    .dataframe thead th {\n",
                            "        text-align: right;\n",
                            "    }\n",
                            "</style>\n",
                            "<table border=\"1\" class=\"dataframe\">\n",
                            "  <thead>\n",
                            "    <tr style=\"text-align: right;\">\n",
                            "      <th>college_degree</th>\n",
                            "      <th>False</th>\n",
                            "      <th>True</th>\n",
                            "    </tr>\n",
                            "    <tr>\n",
                            "      <th>sex</th>\n",
                            "      <th></th>\n",
                            "      <th></th>\n",
                            "    </tr>\n",
                            "  </thead>\n",
                            "  <tbody>\n",
                            "    <tr>\n",
                            "      <th>male</th>\n",
                            "      <td>85821</td>\n",
                            "      <td>36181</td>\n",
                            "    </tr>\n",
                            "    <tr>\n",
                            "      <th>female</th>\n",
                            "      <td>90200</td>\n",
                            "      <td>40832</td>\n",
                            "    </tr>\n",
                            "  </tbody>\n",
                            "</table>\n",
                            "</div>"
                        ],
                        "text/plain": [
                            "college_degree  False  True \n",
                            "sex                         \n",
                            "male            85821  36181\n",
                            "female          90200  40832"
                        ]
                    },
                    "execution_count": 13,
                    "metadata": {},
                    "output_type": "execute_result"
                }
            ],
            "source": [
                "pd.crosstab(df2.sex, df2.college_degree)"
            ]
        },
        {
            "cell_type": "markdown",
            "metadata": {},
            "source": [
                "### Exercise 11\n",
                "\n",
                "Counts are kind of hard to interpret. `pd.crosstab` can also normalize values to give percentages. Look at the `pd.crosstab` help file to figure out how to normalize the values in the table. Normalize them so that you get the share of men with and without college degree, and the share of women with and without college degrees.\n",
                "\n",
                "Store the share (between 0 and 1) of men with college degrees in `\"ex11_share_male_w_degrees\"`, and the share of women with degrees in `\"ex11_share_female_w_degrees\"`."
            ]
        },
        {
            "cell_type": "code",
            "execution_count": 14,
            "metadata": {},
            "outputs": [
                {
                    "data": {
                        "text/html": [
                            "<div>\n",
                            "<style scoped>\n",
                            "    .dataframe tbody tr th:only-of-type {\n",
                            "        vertical-align: middle;\n",
                            "    }\n",
                            "\n",
                            "    .dataframe tbody tr th {\n",
                            "        vertical-align: top;\n",
                            "    }\n",
                            "\n",
                            "    .dataframe thead th {\n",
                            "        text-align: right;\n",
                            "    }\n",
                            "</style>\n",
                            "<table border=\"1\" class=\"dataframe\">\n",
                            "  <thead>\n",
                            "    <tr style=\"text-align: right;\">\n",
                            "      <th>college_degree</th>\n",
                            "      <th>False</th>\n",
                            "      <th>True</th>\n",
                            "    </tr>\n",
                            "    <tr>\n",
                            "      <th>sex</th>\n",
                            "      <th></th>\n",
                            "      <th></th>\n",
                            "    </tr>\n",
                            "  </thead>\n",
                            "  <tbody>\n",
                            "    <tr>\n",
                            "      <th>male</th>\n",
                            "      <td>0.703439</td>\n",
                            "      <td>0.296561</td>\n",
                            "    </tr>\n",
                            "    <tr>\n",
                            "      <th>female</th>\n",
                            "      <td>0.688381</td>\n",
                            "      <td>0.311619</td>\n",
                            "    </tr>\n",
                            "  </tbody>\n",
                            "</table>\n",
                            "</div>"
                        ],
                        "text/plain": [
                            "college_degree     False     True \n",
                            "sex                               \n",
                            "male            0.703439  0.296561\n",
                            "female          0.688381  0.311619"
                        ]
                    },
                    "execution_count": 14,
                    "metadata": {},
                    "output_type": "execute_result"
                }
            ],
            "source": [
                "pd.crosstab(df2.sex, df2.college_degree, normalize=\"index\")"
            ]
        },
        {
            "cell_type": "code",
            "execution_count": 15,
            "metadata": {},
            "outputs": [
                {
                    "name": "stdout",
                    "output_type": "stream",
                    "text": [
                        "In the given dataset, 29.656071% of males have atleast a college degree as compared to 31.161854% of females\n"
                    ]
                }
            ],
            "source": [
                "results[\"ex11_share_male_w_degrees\"] = pd.crosstab(\n",
                "    df2.sex, df2.college_degree, normalize=\"index\"\n",
                ").iloc[0, 1]\n",
                "\n",
                "results[\"ex11_share_female_w_degrees\"] = pd.crosstab(\n",
                "    df2.sex, df2.college_degree, normalize=\"index\"\n",
                ").iloc[1, 1]\n",
                "\n",
                "print(\n",
                "    f\"\"\"In the given dataset, {results[\"ex11_share_male_w_degrees\"]:%} of males have atleast a college degree as compared to {results[\"ex11_share_female_w_degrees\"]:%} of females\"\"\"\n",
                ")"
            ]
        },
        {
            "cell_type": "markdown",
            "metadata": {},
            "source": [
                "### Exercise 12\n",
                "\n",
                "Now, let's recreate that table for people who are 40 and over and people under 40. Over time, what does this suggest about the absolute difference in the share of men and women earning college degrees? Has it gotten larger, stayed the same, or gotten smaller? Store your answer (either `\"the absolute difference has increased\"` or `\"the absolute difference has decreased\"`) in `\"ex12_comparing\"`."
            ]
        },
        {
            "cell_type": "code",
            "execution_count": 16,
            "metadata": {},
            "outputs": [],
            "source": [
                "# create column for 40 and over bvs 40 and below\n",
                "df2[\"over_forty\"] = df2[\"age\"] >= 40"
            ]
        },
        {
            "cell_type": "code",
            "execution_count": 17,
            "metadata": {},
            "outputs": [
                {
                    "name": "stdout",
                    "output_type": "stream",
                    "text": [
                        "Comparison of college graduate proportion gender-wise for people over 40 years:\n"
                    ]
                },
                {
                    "data": {
                        "text/html": [
                            "<div>\n",
                            "<style scoped>\n",
                            "    .dataframe tbody tr th:only-of-type {\n",
                            "        vertical-align: middle;\n",
                            "    }\n",
                            "\n",
                            "    .dataframe tbody tr th {\n",
                            "        vertical-align: top;\n",
                            "    }\n",
                            "\n",
                            "    .dataframe thead th {\n",
                            "        text-align: right;\n",
                            "    }\n",
                            "</style>\n",
                            "<table border=\"1\" class=\"dataframe\">\n",
                            "  <thead>\n",
                            "    <tr style=\"text-align: right;\">\n",
                            "      <th>college_degree</th>\n",
                            "      <th>False</th>\n",
                            "      <th>True</th>\n",
                            "    </tr>\n",
                            "    <tr>\n",
                            "      <th>sex</th>\n",
                            "      <th></th>\n",
                            "      <th></th>\n",
                            "    </tr>\n",
                            "  </thead>\n",
                            "  <tbody>\n",
                            "    <tr>\n",
                            "      <th>male</th>\n",
                            "      <td>0.682123</td>\n",
                            "      <td>0.317877</td>\n",
                            "    </tr>\n",
                            "    <tr>\n",
                            "      <th>female</th>\n",
                            "      <td>0.699144</td>\n",
                            "      <td>0.300856</td>\n",
                            "    </tr>\n",
                            "  </tbody>\n",
                            "</table>\n",
                            "</div>"
                        ],
                        "text/plain": [
                            "college_degree     False     True \n",
                            "sex                               \n",
                            "male            0.682123  0.317877\n",
                            "female          0.699144  0.300856"
                        ]
                    },
                    "execution_count": 17,
                    "metadata": {},
                    "output_type": "execute_result"
                }
            ],
            "source": [
                "ct_over_forty = pd.crosstab(\n",
                "    df2[df2[\"over_forty\"] == True].sex,\n",
                "    df2[df2[\"over_forty\"] == True].college_degree,\n",
                "    normalize=\"index\",\n",
                ")\n",
                "print(\"Comparison of college graduate proportion gender-wise for people over 40 years:\")\n",
                "ct_over_forty"
            ]
        },
        {
            "cell_type": "code",
            "execution_count": 18,
            "metadata": {},
            "outputs": [
                {
                    "name": "stdout",
                    "output_type": "stream",
                    "text": [
                        "Comparison of college graduate proportion gender-wise for people below 40 years:\n"
                    ]
                },
                {
                    "data": {
                        "text/html": [
                            "<div>\n",
                            "<style scoped>\n",
                            "    .dataframe tbody tr th:only-of-type {\n",
                            "        vertical-align: middle;\n",
                            "    }\n",
                            "\n",
                            "    .dataframe tbody tr th {\n",
                            "        vertical-align: top;\n",
                            "    }\n",
                            "\n",
                            "    .dataframe thead th {\n",
                            "        text-align: right;\n",
                            "    }\n",
                            "</style>\n",
                            "<table border=\"1\" class=\"dataframe\">\n",
                            "  <thead>\n",
                            "    <tr style=\"text-align: right;\">\n",
                            "      <th>college_degree</th>\n",
                            "      <th>False</th>\n",
                            "      <th>True</th>\n",
                            "    </tr>\n",
                            "    <tr>\n",
                            "      <th>sex</th>\n",
                            "      <th></th>\n",
                            "      <th></th>\n",
                            "    </tr>\n",
                            "  </thead>\n",
                            "  <tbody>\n",
                            "    <tr>\n",
                            "      <th>male</th>\n",
                            "      <td>0.743143</td>\n",
                            "      <td>0.256857</td>\n",
                            "    </tr>\n",
                            "    <tr>\n",
                            "      <th>female</th>\n",
                            "      <td>0.665710</td>\n",
                            "      <td>0.334290</td>\n",
                            "    </tr>\n",
                            "  </tbody>\n",
                            "</table>\n",
                            "</div>"
                        ],
                        "text/plain": [
                            "college_degree     False     True \n",
                            "sex                               \n",
                            "male            0.743143  0.256857\n",
                            "female          0.665710  0.334290"
                        ]
                    },
                    "execution_count": 18,
                    "metadata": {},
                    "output_type": "execute_result"
                }
            ],
            "source": [
                "ct_below_forty = pd.crosstab(\n",
                "    df2[df2[\"over_forty\"] == False].sex,\n",
                "    df2[df2[\"over_forty\"] == False].college_degree,\n",
                "    normalize=\"index\",\n",
                ")\n",
                "print(\n",
                "    \"Comparison of college graduate proportion gender-wise for people below 40 years:\"\n",
                ")\n",
                "ct_below_forty"
            ]
        },
        {
            "cell_type": "code",
            "execution_count": 19,
            "metadata": {},
            "outputs": [],
            "source": [
                "over_time = (ct_below_forty.iloc[1, 1] - ct_below_forty.iloc[0, 1]) - (\n",
                "    ct_over_forty.iloc[1, 1] - ct_over_forty.iloc[0, 1]\n",
                ")\n",
                "results[\"ex12_comparing\"] = \"the absolute difference has increased\""
            ]
        },
        {
            "cell_type": "code",
            "execution_count": 20,
            "metadata": {},
            "outputs": [
                {
                    "name": "stdout",
                    "output_type": "stream",
                    "text": [
                        "Over time the absolute gap between proportion of males and females having college degree increased by 0.094\n"
                    ]
                }
            ],
            "source": [
                "print(\n",
                "    f\"Over time the absolute gap between proportion of males and females having college degree increased by {over_time:.3f}\"\n",
                ")"
            ]
        },
        {
            "cell_type": "markdown",
            "metadata": {},
            "source": [
                "### Exercise 13\n",
                "\n",
                "In words, what is causing the change noted in Exercise 12 (i.e., looking at the tables above, tell me a story about Men and Women's College attainment)."
            ]
        },
        {
            "cell_type": "markdown",
            "metadata": {},
            "source": [
                "## Observations\n",
                "Over-time the absolute gap between the proportion of males who have a college degree and females who have a college degree has increased.\n",
                "This is cause there is both an increase in the proportion of women getting a college degree and a decrease in the proportin of men getting a college degree which has increased the overall gap."
            ]
        },
        {
            "cell_type": "markdown",
            "metadata": {},
            "source": [
                "## Want More Practice?\n",
                "\n",
                "Calculate the educational racial gap in the United States for White Americans, Black Americans, Hispanic Americans, and other groups. \n",
                "\n",
                "Note that to do these calculations, you'll have to deal with the fact that unlike most Americans, the American Census Bureau treats \"Hispanic\" not as a racial category, but a linguistic one. As a result, the racial category \"White\" in `race` actually includes most Hispanic Americans. For this analysis, we wish to work with the mutually exclusive categories of \"White, non-Hispanic\", \"White, Hispanic\", \"Black (Hispanic or non-Hispanic)\", and a category for everyone else. "
            ]
        },
        {
            "cell_type": "code",
            "execution_count": 21,
            "metadata": {},
            "outputs": [],
            "source": [
                "# verifying result Keys\n",
                "assert set(results.keys()) == {\n",
                "    \"ex5_age_young\",\n",
                "    \"ex5_age_old\",\n",
                "    \"ex7_avg_age\",\n",
                "    \"ex8_avg_age\",\n",
                "    \"ex9_num_college\",\n",
                "    \"ex11_share_male_w_degrees\",\n",
                "    \"ex11_share_female_w_degrees\",\n",
                "    \"ex12_comparing\",\n",
                "}"
            ]
        }
    ],
    "metadata": {
        "kernelspec": {
            "display_name": "Python 3.10.6 ('base')",
            "language": "python",
            "name": "python3"
        },
        "language_info": {
            "codemirror_mode": {
                "name": "ipython",
                "version": 3
            },
            "file_extension": ".py",
            "mimetype": "text/x-python",
            "name": "python",
            "nbconvert_exporter": "python",
            "pygments_lexer": "ipython3",
            "version": "3.11.5"
        },
        "vscode": {
            "interpreter": {
                "hash": "718fed28bf9f8c7851519acf2fb923cd655120b36de3b67253eeb0428bd33d2d"
            }
        }
    },
    "nbformat": 4,
    "nbformat_minor": 4
}
